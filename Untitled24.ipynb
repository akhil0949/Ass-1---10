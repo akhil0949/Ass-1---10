{
  "nbformat": 4,
  "nbformat_minor": 0,
  "metadata": {
    "colab": {
      "name": "Untitled24.ipynb",
      "provenance": [],
      "authorship_tag": "ABX9TyOB8b4EuGYdv56HWSmL0ybC",
      "include_colab_link": true
    },
    "kernelspec": {
      "name": "python3",
      "display_name": "Python 3"
    },
    "language_info": {
      "name": "python"
    }
  },
  "cells": [
    {
      "cell_type": "markdown",
      "metadata": {
        "id": "view-in-github",
        "colab_type": "text"
      },
      "source": [
        "<a href=\"https://colab.research.google.com/github/akhil0949/Ass-1---10/blob/main/Untitled24.ipynb\" target=\"_parent\"><img src=\"https://colab.research.google.com/assets/colab-badge.svg\" alt=\"Open In Colab\"/></a>"
      ]
    },
    {
      "cell_type": "code",
      "execution_count": null,
      "metadata": {
        "id": "aUCXMUjTw6Ak"
      },
      "outputs": [],
      "source": [
        "Q-17. Write an SQL query to show the top n (say 10) records of a table.\n",
        "Ans. \n",
        "select * from Employee ORDER BY primary_column DESC LIMIT n"
      ]
    },
    {
      "cell_type": "code",
      "source": [
        "Q-18. Write an SQL query to determine the nth (say n=5) highest salary from a table.\n",
        "Ans. \n",
        "Select Salary from employees order by Salary DESC limit n-1,1"
      ],
      "metadata": {
        "id": "L3FzymFaxQPt"
      },
      "execution_count": null,
      "outputs": []
    }
  ]
}