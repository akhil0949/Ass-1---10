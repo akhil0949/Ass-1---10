{
  "metadata": {
    "kernelspec": {
      "display_name": "Pyolite",
      "language": "python",
      "name": "python"
    },
    "language_info": {
      "codemirror_mode": {
        "name": "python",
        "version": 3
      },
      "file_extension": ".py",
      "mimetype": "text/x-python",
      "name": "python",
      "nbconvert_exporter": "python",
      "pygments_lexer": "ipython3",
      "version": "3.8"
    }
  },
  "nbformat_minor": 5,
  "nbformat": 4,
  "cells": [
    {
      "cell_type": "code",
      "source": "Q1. How do you distinguish between shutil.copy() and shutil.copytree()?\n\nAns: shutil.copy() method copies a single file shutil.copytree() method copies the entire folder and all the files in the folder\n\nQ2. What function is used to rename files?\n\nAns: os.rename('sourcefile', 'destinationfile')\n\nQ3. What is the difference between the delete functions in the send2trash and shutil modules?\n\nAns: delete('file') method deletes the file permanetly send2trash('file') method deletes the file and moves to recycle bin\n\nQ4.ZipFile objects have a close() method just like File objects’ close() method. What ZipFile method is equivalent to File objects’ open() method?\n\nAns: To create a zip file ,just pass the name to ZipFile class it will create archive in current directory. import zipfile\n\ndef main():\n\narchive_name = 'ineuron_fsds.zip'\n# below one line of code will create a 'Zip' in the current working directory\nwith zipfile.ZipFile(archive_name, 'w') as file:\n    print(\"{} is created.\".format(archive_name))\n\nif name == 'main': main()\n\nQ5.Create a programme that searches a folder tree for files with a certain file extension (such as .pdf or .jpg). Copy these files from whatever location they are in to a new folder.\n\nAns: import re import os import shutil\n\nfilePdf = re.compile(r\"\"\"^(.*?) #text before extension [.][p][d][f] #extension .pdf \"\"\", re.VERBOSE)\n\ndef selectiveCopy(fileExtension): for pdfFiles in os.listdir(\"C:/Users/SAMARTH/Desktop/phd/papers\"): locatedFiles = filePdf.search(pdfFiles) if locatedFiles != None: print(locatedFiles) files_to_copy = os.path.join(\"C:/Users/SAMARTH/Desktop/phd/papers\", pdfFiles)\nshutil.copy(files_to_copy, \"C:/Users/SAMARTH/Desktop/phd/ineuron/basic python/python basic assignment\")\nprint(\"The following file has been copied \" + files_to_copy) selectiveCopy(filePdf)",
      "metadata": {},
      "execution_count": null,
      "outputs": [],
      "id": "35189171-01d2-4c29-a0ed-8a317ef78614"
    },
    {
      "cell_type": "code",
      "source": "file1 = open('test2.txt','w')\nfile1.write('ndcvjhfhjdmkjcjjkvmdkvjkgsflslk')",
      "metadata": {},
      "execution_count": null,
      "outputs": [],
      "id": "cac41885-00f7-478d-a82b-dc774e656a94"
    },
    {
      "cell_type": "code",
      "source": "file1.close()",
      "metadata": {},
      "execution_count": null,
      "outputs": [],
      "id": "bfe71e5e-8003-4132-bcc3-e25bf50acc09"
    },
    {
      "cell_type": "code",
      "source": "import os",
      "metadata": {},
      "execution_count": null,
      "outputs": [],
      "id": "3fa9fc42-ffef-4b8c-80f4-80af7b448af0"
    },
    {
      "cell_type": "code",
      "source": "os.rename('test2.txt','change_test2.txt')",
      "metadata": {},
      "execution_count": null,
      "outputs": [],
      "id": "ebd2640d-2224-472f-82ca-4937b76639b1"
    },
    {
      "cell_type": "code",
      "source": "import zipfile\n\ndef main():\n\n    archive_name = 'ineuron_fsds.zip'\n    # below one line of code will create a 'Zip' in the current working directory\n    with zipfile.ZipFile(archive_name, 'w') as file:\n        print(\"{} is created.\".format(archive_name))\n\nif __name__ == '__main__': main()",
      "metadata": {},
      "execution_count": null,
      "outputs": [],
      "id": "8fb4309b-42fa-4acc-aa4a-64bb477eef05"
    },
    {
      "cell_type": "code",
      "source": "import re\nimport os\nimport shutil\n\nfilePdf = re.compile(r\"\"\"^(.*?)          #text before extension\n          [.][p][d][f]                   #extension .pdf\n          \"\"\", re.VERBOSE)\n\ndef selectiveCopy(fileExtension):\n    for pdfFiles in os.listdir(\"C:/Users/SAMARTH/Desktop/phd/papers\"):\n        locatedFiles = filePdf.search(pdfFiles)\n        if locatedFiles != None:\n            print(locatedFiles)\n            files_to_copy = os.path.join(\"C:/Users/SAMARTH/Desktop/phd/papers\", pdfFiles)   \n            shutil.copy(files_to_copy, \"C:/Users/SAMARTH/Desktop/phd/ineuron/basic python/python basic assignment\")   \n            print(\"The following file has been copied \" + files_to_copy)\nselectiveCopy(filePdf)",
      "metadata": {},
      "execution_count": null,
      "outputs": [],
      "id": "34aea22d-e9cc-40dd-be12-4dd90fd8621d"
    },
    {
      "cell_type": "code",
      "source": "",
      "metadata": {},
      "execution_count": null,
      "outputs": [],
      "id": "7265b6de-61b3-44d4-af69-3e8898efce85"
    }
  ]
}