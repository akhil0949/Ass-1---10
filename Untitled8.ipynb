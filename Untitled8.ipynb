{
  "nbformat": 4,
  "nbformat_minor": 0,
  "metadata": {
    "colab": {
      "name": "Untitled8.ipynb",
      "provenance": [],
      "authorship_tag": "ABX9TyMspWBZPPePlCKYKIuaoBqH",
      "include_colab_link": true
    },
    "kernelspec": {
      "name": "python3",
      "display_name": "Python 3"
    },
    "language_info": {
      "name": "python"
    }
  },
  "cells": [
    {
      "cell_type": "markdown",
      "metadata": {
        "id": "view-in-github",
        "colab_type": "text"
      },
      "source": [
        "<a href=\"https://colab.research.google.com/github/akhil0949/Ass-1---10/blob/main/Untitled8.ipynb\" target=\"_parent\"><img src=\"https://colab.research.google.com/assets/colab-badge.svg\" alt=\"Open In Colab\"/></a>"
      ]
    },
    {
      "cell_type": "code",
      "execution_count": null,
      "metadata": {
        "id": "AkFTMuXEolZ7"
      },
      "outputs": [],
      "source": [
        "Q1. What is the purpose of Python's OOP?\n",
        "Ans. In Python, object-oriented Programming (OOPs) is a programming paradigm that uses objects and classes in programming. It aims to implement real-world entities like inheritance, polymorphisms, encapsulation, etc."
      ]
    },
    {
      "cell_type": "code",
      "source": [
        "Q2. Where does an inheritance search look for an attribute?\n",
        "Ans. The whole point of a namespace tool like the class statement is to support name inheritance. In Python, inheritance happens when an object is qualified, and involves searching an attribute definition tree (one or more namespaces). Every time you use an expression of the form object."
      ],
      "metadata": {
        "id": "RBzgyMulo0Ep"
      },
      "execution_count": null,
      "outputs": []
    },
    {
      "cell_type": "code",
      "source": [
        "Q3. How do you distinguish between a class object and an instance object?\n",
        "Ans. CLASS : A class is a template for creating objects in program , logical entity , And does not allocate memory space when it is created.\n",
        "     OBJECT : The object is an instance of a class , It is a physical entity , And Object allocates memory space whenever they are created."
      ],
      "metadata": {
        "id": "jpK-RgRZo9bu"
      },
      "execution_count": null,
      "outputs": []
    },
    {
      "cell_type": "code",
      "source": [
        "Q4. What makes the first argument in a class’s method function special?\n",
        "Ans. The calling process is automatic while the receiving process is not (its explicit). This is the reason the first parameter of a function in class must be the object itself. Writing this parameter as self is merely a convention. It is not a keyword and has no special meaning in Python"
      ],
      "metadata": {
        "id": "XC21gkURpXWJ"
      },
      "execution_count": null,
      "outputs": []
    },
    {
      "cell_type": "code",
      "source": [
        "Q5. What is the purpose of the __init__ method?\n",
        "Ans. The __init__ method is similar to constructors in C++ and Java . Constructors are used to initialize the object’s state. \n",
        "The task of constructors is to initialize(assign values) to the data members of the class when an object of class is created. Like methods, a constructor also contains collection of statements(i.e. instructions) that are executed at time of Object creation. \n",
        "It is run as soon as an object of a class is instantiated. The method is useful to do any initialization you want to do with your object"
      ],
      "metadata": {
        "id": "lDlu7V76phDY"
      },
      "execution_count": null,
      "outputs": []
    },
    {
      "cell_type": "code",
      "source": [
        "Q6. What is the process for creating a class instance?\n",
        "Ans. Instantiating a Class\n",
        "The new operator requires a single, postfix argument: a call to a constructor. The name of the constructor provides the name of the class to instantiate. The constructor initializes the new object. \n",
        "The new operator returns a reference to the object it created."
      ],
      "metadata": {
        "id": "jTpSB2aYp2BV"
      },
      "execution_count": null,
      "outputs": []
    },
    {
      "cell_type": "code",
      "source": [
        "Q7. What is the process for creating a class?\n",
        "Ans. Creating classes in Python\n",
        "In Python, a class can be created by using the keyword class, followed by the class name. The syntax to create a class is given below. \n",
        "In Python, we must notice that each class is associated with a documentation string which can be accessed by using <class-name>. __doc__."
      ],
      "metadata": {
        "id": "wIyvxdWHqD1b"
      },
      "execution_count": null,
      "outputs": []
    },
    {
      "cell_type": "code",
      "source": [
        "Q8. How would you define the superclasses of a class?\n",
        "Ans. A superclass is the class from which many subclasses can be created. The subclasses inherit the characteristics of a superclass. The superclass is also known as the parent class or base class. \n",
        "In the above example, Vehicle is the Superclass and its subclasses are Car, Truck and Motorcycle"
      ],
      "metadata": {
        "id": "gmRB3MfQqQR0"
      },
      "execution_count": null,
      "outputs": []
    }
  ]
}