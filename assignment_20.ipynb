{
  "cells": [
    {
      "cell_type": "markdown",
      "id": "a0f61803",
      "metadata": {
        "id": "a0f61803"
      },
      "source": [
        "\n",
        "1.Set the variable test1 to the string 'This is a test of the emergency text system,' and save test1 to a file named test.txt."
      ]
    },
    {
      "cell_type": "code",
      "execution_count": null,
      "id": "34aeee1f",
      "metadata": {
        "id": "34aeee1f"
      },
      "outputs": [],
      "source": [
        "test1 = 'This is a test of the emergency text system'\n",
        "f =open('test.txt','w')\n",
        "f.write(test1)\n",
        "f.close()"
      ]
    },
    {
      "cell_type": "markdown",
      "id": "1d308593",
      "metadata": {
        "id": "1d308593"
      },
      "source": [
        "2. Read the contents of the file test.txt into the variable test2. Is there a difference between test 1\n",
        "and test 2?"
      ]
    },
    {
      "cell_type": "code",
      "execution_count": null,
      "id": "1ad2314b",
      "metadata": {
        "id": "1ad2314b"
      },
      "outputs": [],
      "source": [
        "f = open('test.txt','r')"
      ]
    },
    {
      "cell_type": "code",
      "execution_count": null,
      "id": "119aa00d",
      "metadata": {
        "id": "119aa00d"
      },
      "outputs": [],
      "source": [
        "test2 = f.read()"
      ]
    },
    {
      "cell_type": "code",
      "execution_count": null,
      "id": "7c92d460",
      "metadata": {
        "id": "7c92d460",
        "outputId": "c82203ae-56d6-42d6-ea95-69ead57dc22c"
      },
      "outputs": [
        {
          "data": {
            "text/plain": [
              "'This is a test of the emergency text system'"
            ]
          },
          "execution_count": 6,
          "metadata": {},
          "output_type": "execute_result"
        }
      ],
      "source": [
        "test2"
      ]
    },
    {
      "cell_type": "markdown",
      "id": "b3a2d640",
      "metadata": {
        "id": "b3a2d640"
      },
      "source": [
        "no difference between test1 and test2"
      ]
    },
    {
      "cell_type": "code",
      "execution_count": null,
      "id": "f56be737",
      "metadata": {
        "id": "f56be737"
      },
      "outputs": [],
      "source": [
        "f.close()"
      ]
    },
    {
      "cell_type": "markdown",
      "id": "20881150",
      "metadata": {
        "id": "20881150"
      },
      "source": [
        "3. Create a CSV file called books.csv by using these lines:\n",
        "title,author,year\n",
        "The Weirdstone of Brisingamen,Alan Garner,1960\n",
        "Perdido Street Station,China Miéville,2000\n",
        "Thud!,Terry Pratchett,2005\n",
        "The Spellman Files,Lisa Lutz,2007\n",
        "Small Gods,Terry Pratchett,1992"
      ]
    },
    {
      "cell_type": "code",
      "execution_count": null,
      "id": "6f8213bf",
      "metadata": {
        "id": "6f8213bf"
      },
      "outputs": [],
      "source": [
        "import csv"
      ]
    },
    {
      "cell_type": "code",
      "execution_count": null,
      "id": "d11470ad",
      "metadata": {
        "id": "d11470ad"
      },
      "outputs": [],
      "source": [
        "header = [\"title\",\"author\",\"year\"]"
      ]
    },
    {
      "cell_type": "code",
      "execution_count": null,
      "id": "c20b7a44",
      "metadata": {
        "id": "c20b7a44"
      },
      "outputs": [],
      "source": [
        "data = [\n",
        "    [\"The Weirdstone of Brisingamen\",\"Alan Garner\",1960 ],\n",
        "    [\"Perdido Street Station\",\"China Miéville\",2000],\n",
        "    [\"Thud!\",\"Terry Pratchett\",2005],\n",
        "    [\"The Spellman Files\",\"Lisa Lutz\",2007],\n",
        "    [\"The Spellman Files\",\"Lisa Lutz\",2007],\n",
        "    [\"Small Gods\",\"Terry Pratchett\",1992]  \n",
        "]"
      ]
    },
    {
      "cell_type": "code",
      "execution_count": null,
      "id": "24c79164",
      "metadata": {
        "id": "24c79164"
      },
      "outputs": [],
      "source": [
        "with open(\"books.csv\",\"w\", encoding='UTF8', newline='') as f:\n",
        "    writer = csv.writer(f)\n",
        "    writer.writerow(header)\n",
        "    writer.writerows(data)"
      ]
    },
    {
      "cell_type": "markdown",
      "id": "7adb4048",
      "metadata": {
        "id": "7adb4048"
      },
      "source": [
        "4. Use the sqlite3 module to create a SQLite database called books.db, and a table called books with\n",
        "these fields: title (text), author (text), and year (integer)."
      ]
    },
    {
      "cell_type": "code",
      "execution_count": null,
      "id": "1caaa7f6",
      "metadata": {
        "id": "1caaa7f6"
      },
      "outputs": [],
      "source": [
        "import sqlite3"
      ]
    },
    {
      "cell_type": "code",
      "execution_count": null,
      "id": "e5914eb8",
      "metadata": {
        "id": "e5914eb8"
      },
      "outputs": [],
      "source": [
        "db= sqlite3.connect(\"books.db\")"
      ]
    },
    {
      "cell_type": "markdown",
      "id": "9d3aeddf",
      "metadata": {
        "id": "9d3aeddf"
      },
      "source": [
        "5. Read books.csv and insert its data into the book table."
      ]
    },
    {
      "cell_type": "code",
      "execution_count": null,
      "id": "b595013a",
      "metadata": {
        "id": "b595013a"
      },
      "outputs": [],
      "source": [
        "file1 = open('books.csv')"
      ]
    },
    {
      "cell_type": "code",
      "execution_count": null,
      "id": "28b1e924",
      "metadata": {
        "id": "28b1e924",
        "outputId": "03272af3-1eec-4ac2-e7cf-103566760290"
      },
      "outputs": [
        {
          "data": {
            "text/plain": [
              "'title,author,year\\nThe Weirdstone of Brisingamen,Alan Garner,1960\\nPerdido Street Station,China MiÃ©ville,2000\\nThud!,Terry Pratchett,2005\\nThe Spellman Files,Lisa Lutz,2007\\nThe Spellman Files,Lisa Lutz,2007\\nSmall Gods,Terry Pratchett,1992\\n'"
            ]
          },
          "execution_count": 15,
          "metadata": {},
          "output_type": "execute_result"
        }
      ],
      "source": [
        "file1.read()"
      ]
    },
    {
      "cell_type": "code",
      "execution_count": null,
      "id": "e86f5dc8",
      "metadata": {
        "id": "e86f5dc8"
      },
      "outputs": [],
      "source": [
        "file1 = open('books.csv')"
      ]
    },
    {
      "cell_type": "code",
      "execution_count": null,
      "id": "0fa73f5b",
      "metadata": {
        "id": "0fa73f5b"
      },
      "outputs": [],
      "source": [
        "contents = csv.reader(file1)"
      ]
    },
    {
      "cell_type": "code",
      "execution_count": null,
      "id": "208d0fb0",
      "metadata": {
        "id": "208d0fb0"
      },
      "outputs": [],
      "source": [
        "db1 = sqlite3.connect('books1.db')"
      ]
    },
    {
      "cell_type": "code",
      "execution_count": null,
      "id": "79420eb9",
      "metadata": {
        "id": "79420eb9"
      },
      "outputs": [],
      "source": [
        "cursor = db1.cursor()"
      ]
    },
    {
      "cell_type": "code",
      "execution_count": null,
      "id": "824b0ac1",
      "metadata": {
        "id": "824b0ac1",
        "outputId": "dff69e33-63e5-4618-d5f7-a053bd4ec0cd"
      },
      "outputs": [
        {
          "data": {
            "text/plain": [
              "<sqlite3.Cursor at 0x1f33d2919d0>"
            ]
          },
          "execution_count": 30,
          "metadata": {},
          "output_type": "execute_result"
        }
      ],
      "source": [
        "cursor.execute('create table books1 (title text, author text, year int)')"
      ]
    },
    {
      "cell_type": "code",
      "execution_count": null,
      "id": "f819f6be",
      "metadata": {
        "id": "f819f6be"
      },
      "outputs": [],
      "source": [
        "insert_data = \"insert into books1 (title ,author, year) values(?, ?, ?)\""
      ]
    },
    {
      "cell_type": "code",
      "execution_count": null,
      "id": "1f417d8a",
      "metadata": {
        "id": "1f417d8a",
        "outputId": "a46283c5-ea58-46b8-81af-201138f0b7d6"
      },
      "outputs": [
        {
          "data": {
            "text/plain": [
              "<sqlite3.Cursor at 0x1f4ba75b110>"
            ]
          },
          "execution_count": 32,
          "metadata": {},
          "output_type": "execute_result"
        }
      ],
      "source": [
        "cursor.executemany(insert_data, contents)"
      ]
    },
    {
      "cell_type": "code",
      "execution_count": null,
      "id": "6bba0d4a",
      "metadata": {
        "id": "6bba0d4a",
        "outputId": "1a50ce8e-cd12-4d9d-e761-bcdfccdd9188"
      },
      "outputs": [
        {
          "name": "stdout",
          "output_type": "stream",
          "text": [
            "('title', 'author', 'year')\n",
            "('The Weirdstone of Brisingamen', 'Alan Garner', 1960)\n",
            "('Perdido Street Station', 'China MiÃ©ville', 2000)\n",
            "('Thud!', 'Terry Pratchett', 2005)\n",
            "('The Spellman Files', 'Lisa Lutz', 2007)\n",
            "('The Spellman Files', 'Lisa Lutz', 2007)\n",
            "('Small Gods', 'Terry Pratchett', 1992)\n"
          ]
        }
      ],
      "source": [
        "for i in cursor.execute('select *from books1'):\n",
        "    print(i)"
      ]
    },
    {
      "cell_type": "markdown",
      "id": "4b1df230",
      "metadata": {
        "id": "4b1df230"
      },
      "source": [
        "6. Select and print the title column from the book table in alphabetical order."
      ]
    },
    {
      "cell_type": "code",
      "execution_count": null,
      "id": "f5c69442",
      "metadata": {
        "id": "f5c69442",
        "outputId": "e7f1c504-f2f0-4fbd-b0a6-2cad71906fd6"
      },
      "outputs": [
        {
          "name": "stdout",
          "output_type": "stream",
          "text": [
            "('title',)\n",
            "('The Weirdstone of Brisingamen',)\n",
            "('Perdido Street Station',)\n",
            "('Thud!',)\n",
            "('The Spellman Files',)\n",
            "('The Spellman Files',)\n",
            "('Small Gods',)\n"
          ]
        }
      ],
      "source": [
        "for i in cursor.execute('select title from books1'):\n",
        "    print(i)"
      ]
    },
    {
      "cell_type": "code",
      "execution_count": null,
      "id": "4983abcd",
      "metadata": {
        "id": "4983abcd"
      },
      "outputs": [],
      "source": [
        "db.commit()"
      ]
    },
    {
      "cell_type": "code",
      "execution_count": null,
      "id": "6e62a71e",
      "metadata": {
        "id": "6e62a71e",
        "outputId": "7408bde9-cdd9-4b22-dd27-38491010d4c1"
      },
      "outputs": [
        {
          "data": {
            "text/plain": [
              "[]"
            ]
          },
          "execution_count": 27,
          "metadata": {},
          "output_type": "execute_result"
        }
      ],
      "source": [
        "cursor.fetchall()"
      ]
    },
    {
      "cell_type": "markdown",
      "id": "cadd1845",
      "metadata": {
        "id": "cadd1845"
      },
      "source": [
        "6. Select and print the title column from the book table in alphabetical order."
      ]
    },
    {
      "cell_type": "code",
      "execution_count": null,
      "id": "baf2807e",
      "metadata": {
        "id": "baf2807e",
        "outputId": "4926fa8a-6282-4942-ba5e-b801798ee865"
      },
      "outputs": [
        {
          "name": "stdout",
          "output_type": "stream",
          "text": [
            "('Perdido Street Station',)\n",
            "('Small Gods',)\n",
            "('The Spellman Files',)\n",
            "('The Spellman Files',)\n",
            "('The Weirdstone of Brisingamen',)\n",
            "('Thud!',)\n",
            "('title',)\n"
          ]
        }
      ],
      "source": [
        "for i in cursor.execute('select title from books1 order by title'):\n",
        "    print(i)"
      ]
    },
    {
      "cell_type": "markdown",
      "id": "959edafc",
      "metadata": {
        "id": "959edafc"
      },
      "source": [
        "7. From the book table, select and print all columns in the order of publication."
      ]
    },
    {
      "cell_type": "code",
      "execution_count": null,
      "id": "6c587740",
      "metadata": {
        "id": "6c587740",
        "outputId": "2a9dcf20-85da-45d4-ad1d-7639c7673180"
      },
      "outputs": [
        {
          "name": "stdout",
          "output_type": "stream",
          "text": [
            "('The Weirdstone of Brisingamen', 'Alan Garner', 1960)\n",
            "('Small Gods', 'Terry Pratchett', 1992)\n",
            "('Perdido Street Station', 'China MiÃ©ville', 2000)\n",
            "('Thud!', 'Terry Pratchett', 2005)\n",
            "('The Spellman Files', 'Lisa Lutz', 2007)\n",
            "('The Spellman Files', 'Lisa Lutz', 2007)\n",
            "('title', 'author', 'year')\n"
          ]
        }
      ],
      "source": [
        "for i in cursor.execute('select *from books1 order by year'):\n",
        "    print(i)"
      ]
    },
    {
      "cell_type": "markdown",
      "id": "e9ff2439",
      "metadata": {
        "id": "e9ff2439"
      },
      "source": [
        "8. Use the sqlalchemy module to connect to the sqlite3 database books.db that you just made in\n",
        "exercise 6."
      ]
    },
    {
      "cell_type": "code",
      "execution_count": null,
      "id": "217ecf0e",
      "metadata": {
        "id": "217ecf0e"
      },
      "outputs": [],
      "source": [
        "from sqlalchemy import create_engine"
      ]
    },
    {
      "cell_type": "code",
      "execution_count": null,
      "id": "c94b714e",
      "metadata": {
        "id": "c94b714e"
      },
      "outputs": [],
      "source": [
        "engine = create_engine('sqlite:///books.db', echo = True)"
      ]
    },
    {
      "cell_type": "code",
      "execution_count": null,
      "id": "c8c43f27",
      "metadata": {
        "id": "c8c43f27"
      },
      "outputs": [],
      "source": [
        ""
      ]
    },
    {
      "cell_type": "markdown",
      "id": "196a0b72",
      "metadata": {
        "id": "196a0b72"
      },
      "source": [
        "9. Install the Redis server and the Python redis library (pip install redis) on your computer. Create a\n",
        "Redis hash called test with the fields count (1) and name (&#39;Fester Bestertester&#39;). Print all the fields for\n",
        "test."
      ]
    },
    {
      "cell_type": "code",
      "execution_count": null,
      "id": "195b9ce3",
      "metadata": {
        "scrolled": true,
        "id": "195b9ce3",
        "outputId": "9a29503d-5474-4c64-9f59-23b5a666a66e"
      },
      "outputs": [
        {
          "name": "stdout",
          "output_type": "stream",
          "text": [
            "Collecting redis\n",
            "  Downloading redis-4.1.4-py3-none-any.whl (175 kB)\n",
            "Requirement already satisfied: packaging>=20.4 in c:\\users\\samarth\\appdata\\roaming\\python\\python39\\site-packages (from redis) (21.3)\n",
            "Collecting deprecated>=1.2.3\n",
            "  Downloading Deprecated-1.2.13-py2.py3-none-any.whl (9.6 kB)\n",
            "Requirement already satisfied: wrapt<2,>=1.10 in c:\\programdata\\anaconda3\\lib\\site-packages (from deprecated>=1.2.3->redis) (1.12.1)\n",
            "Requirement already satisfied: pyparsing!=3.0.5,>=2.0.2 in c:\\users\\samarth\\appdata\\roaming\\python\\python39\\site-packages (from packaging>=20.4->redis) (3.0.6)\n",
            "Installing collected packages: deprecated, redis\n",
            "Successfully installed deprecated-1.2.13 redis-4.1.4\n",
            "Note: you may need to restart the kernel to use updated packages.\n"
          ]
        }
      ],
      "source": [
        "pip install redis"
      ]
    },
    {
      "cell_type": "code",
      "execution_count": null,
      "id": "fd438bd7",
      "metadata": {
        "id": "fd438bd7"
      },
      "outputs": [],
      "source": [
        "import redis\n",
        "conn = redis.Redis()\n",
        "conn.delete('test')\n",
        "conn.hmset('test', {'count': 1, 'name': 'Fester Bestertester'})\n",
        "conn.hgetall('test')"
      ]
    },
    {
      "cell_type": "markdown",
      "id": "7ff79056",
      "metadata": {
        "id": "7ff79056"
      },
      "source": [
        "10. Increment the count field of test and print it."
      ]
    },
    {
      "cell_type": "code",
      "execution_count": null,
      "id": "fc51cacb",
      "metadata": {
        "id": "fc51cacb"
      },
      "outputs": [],
      "source": [
        "conn.hincrby('test','count', 3)"
      ]
    }
  ],
  "metadata": {
    "kernelspec": {
      "display_name": "Python 3 (ipykernel)",
      "language": "python",
      "name": "python3"
    },
    "language_info": {
      "codemirror_mode": {
        "name": "ipython",
        "version": 3
      },
      "file_extension": ".py",
      "mimetype": "text/x-python",
      "name": "python",
      "nbconvert_exporter": "python",
      "pygments_lexer": "ipython3",
      "version": "3.9.7"
    },
    "colab": {
      "name": "assignment_20.ipynb",
      "provenance": []
    }
  },
  "nbformat": 4,
  "nbformat_minor": 5
}