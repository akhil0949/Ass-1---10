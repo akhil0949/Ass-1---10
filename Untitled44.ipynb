{
  "nbformat": 4,
  "nbformat_minor": 0,
  "metadata": {
    "colab": {
      "name": "Untitled44.ipynb",
      "provenance": [],
      "authorship_tag": "ABX9TyOReC8+NH+95XQQdrpBA4Sa",
      "include_colab_link": true
    },
    "kernelspec": {
      "name": "python3",
      "display_name": "Python 3"
    },
    "language_info": {
      "name": "python"
    }
  },
  "cells": [
    {
      "cell_type": "markdown",
      "metadata": {
        "id": "view-in-github",
        "colab_type": "text"
      },
      "source": [
        "<a href=\"https://colab.research.google.com/github/akhil0949/Ass-1---10/blob/main/Untitled44.ipynb\" target=\"_parent\"><img src=\"https://colab.research.google.com/assets/colab-badge.svg\" alt=\"Open In Colab\"/></a>"
      ]
    },
    {
      "cell_type": "code",
      "execution_count": null,
      "metadata": {
        "id": "sK8lhEH71Qz-"
      },
      "outputs": [],
      "source": [
        "Q1. Can you create a programme or function that employs both positive and negative indexing? Is\n",
        "there any repercussion if you do so?\n",
        "Ans.\n",
        "\n",
        "range() supports both positive and negative indices. In the case of range() , \n",
        "The index value starts from zero to (stop). For example, if you want to access the 3rd number, we need to use 2 as the index number."
      ]
    },
    {
      "cell_type": "code",
      "source": [
        "Q2. What is the most effective way of starting with 1,000 elements in a Python list? Assume that all\n",
        "elements should be set to the same value.\n",
        "Ans.\n",
        "my_list = []\n",
        "for i in range(1000):\n",
        "    my_list.append('value')"
      ],
      "metadata": {
        "id": "ddER8-ZF1iId"
      },
      "execution_count": null,
      "outputs": []
    },
    {
      "cell_type": "code",
      "source": [
        "Q3. How do you slice a list to get any other part while missing the rest? (For example, suppose you\n",
        "want to make a new list with the elements first, third, fifth, seventh, and so on.)\n",
        "Ans.\n",
        "Syntax:\n",
        "Lst[ Initial : End : IndexJump ]]\n"
      ],
      "metadata": {
        "id": "Jj6m4P1l1iKt"
      },
      "execution_count": null,
      "outputs": []
    },
    {
      "cell_type": "code",
      "source": [
        "Q4. Explain the distinctions between indexing and slicing.\n",
        "Ans.\n",
        "“Indexing” means referring to an element of an iterable by its position within the iterable. “Slicing” means getting a subset of elements from an iterable based on their indices"
      ],
      "metadata": {
        "id": "NIDWY7831iNg"
      },
      "execution_count": null,
      "outputs": []
    },
    {
      "cell_type": "code",
      "source": [
        "Q5. What happens if one of the slicing expression&#39;s indexes is out of range?\n",
        "Ans.\n",
        "The slicing operation doesn't raise an error if both your start and stop indices are larger than the sequence length. \n",
        "This is in contrast to simple indexing—if you index an element that is out of bounds, Python will throw an index out of bounds error. However, with slicing it simply returns an empty sequence."
      ],
      "metadata": {
        "id": "CCjHnick2bN8"
      },
      "execution_count": null,
      "outputs": []
    },
    {
      "cell_type": "code",
      "source": [
        "Q6. If you pass a list to a function, and if you want the function to be able to change the values of the\n",
        "list—so that the list is different after the function returns—what action should you avoid?\n",
        "Ans.\n",
        "in Python, all parameters behave like local variables and their effect is as though they are passed by value. So should b in my code remain the same after passing into the function like a"
      ],
      "metadata": {
        "id": "DPCh1G3E1iSA"
      },
      "execution_count": null,
      "outputs": []
    },
    {
      "cell_type": "code",
      "source": [
        "Q7. What is the concept of an unbalanced matrix?\n",
        "Ans.\n",
        "A matrix is balanced if all cells in the matrix are balanced and a cell of the matrix is balanced if the number of cells in that matrix that are adjacent to that cell is strictly greater than the value written in this cell. \n",
        "Adjacent cell means cells in the top, down, left, and right cell of each cell if it exists. Vise versa."
      ],
      "metadata": {
        "id": "yPNqoOw91iUo"
      },
      "execution_count": null,
      "outputs": []
    },
    {
      "cell_type": "code",
      "source": [
        "Q8. Why is it necessary to use either list comprehension or a loop to create arbitrarily large matrices?\n",
        "Ans.\n",
        "List comprehensions are often not only more readable but also faster than using “for loops.” They can simplify your code, but if you put too much logic inside, they will instead become harder to read and understand"
      ],
      "metadata": {
        "id": "tTsDQItc1iXV"
      },
      "execution_count": null,
      "outputs": []
    },
    {
      "cell_type": "code",
      "source": [
        ""
      ],
      "metadata": {
        "id": "bGtfc_zJ1icZ"
      },
      "execution_count": null,
      "outputs": []
    },
    {
      "cell_type": "code",
      "source": [
        ""
      ],
      "metadata": {
        "id": "yUbh--4k1iez"
      },
      "execution_count": null,
      "outputs": []
    }
  ]
}