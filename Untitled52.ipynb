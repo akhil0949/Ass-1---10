{
  "nbformat": 4,
  "nbformat_minor": 0,
  "metadata": {
    "colab": {
      "name": "Untitled52.ipynb",
      "provenance": [],
      "authorship_tag": "ABX9TyOxGo/txWxnF+ZH/IT/KvYK",
      "include_colab_link": true
    },
    "kernelspec": {
      "name": "python3",
      "display_name": "Python 3"
    },
    "language_info": {
      "name": "python"
    }
  },
  "cells": [
    {
      "cell_type": "markdown",
      "metadata": {
        "id": "view-in-github",
        "colab_type": "text"
      },
      "source": [
        "<a href=\"https://colab.research.google.com/github/akhil0949/Ass-1---10/blob/main/Untitled52.ipynb\" target=\"_parent\"><img src=\"https://colab.research.google.com/assets/colab-badge.svg\" alt=\"Open In Colab\"/></a>"
      ]
    },
    {
      "cell_type": "code",
      "execution_count": null,
      "metadata": {
        "id": "ZiAFruUoJipe"
      },
      "outputs": [],
      "source": [
        "1. For a group of 7 people, find the probability that all 4 seasons (winter, spring, summer, fall)\n",
        "occur at least once each among their birthdays, assuming that all seasons are equally likely.\n",
        "Ans.\n",
        "There are four ways to assign a season to each character's birthday. Hence, there are 4**7 ways to assign birthdays without restriction. From these, we must subtract those assignments in which one or more seasons is excluded.\n",
        "\n",
        "We can exclude k of the four seasons from consideration in (4/k) ways, leaving (4−k)**7 ways to assign seasons to the birthdays of the characters. Hence, by the Inclusion-Exclusion Principle, the number of ways to assign birthdays to seasons so that each season is represented among the characters birthdays is\n",
        "∑k=04(−1)**k(4k)(4−k)**7=4**7−(41)**37+(42)**27+(43)**17−(44)**07\n",
        "Hence, the probability that each season is represented among the birthdays of the seven people is\n",
        "1/4**7[4**7−(4/1)37+(4/2)27+(43)1**7]≈0.5126953125"
      ]
    },
    {
      "cell_type": "code",
      "source": [
        "2. Alice attends a small college in which each class meets only once a week. She is deciding\n",
        "between 30 non-overlapping classes. There are 6 classes to choose from for each day of the\n",
        "week, Monday through Friday. Trusting in the benevolence of randomness, Alice decides to\n",
        "register for 7 randomly selected classes out of the 30, with all choices equally likely. What is\n",
        "the probability that she will have classes every day, Monday through Friday?\n",
        "Ans.\n",
        "There are two general ways that Alice can have class every day: either she has 2 days with 2 classes and 3 days with 1 class, or she has 1 day with 3 classes, and has 1 class on each of the other 4 days. The number of possibilities for the former is:\n",
        "\n",
        "(5/2)(6/2)**2 * 6**3 (choose the 2 days when she has 2 classes, and then select 2 classes on those days and 1 class for the other days).\n",
        "\n",
        "The number of possibilities for the latter is:\n",
        "\n",
        "(5/1)(6/3)6**4\n",
        "\n",
        "So the probability is: (5/2)(6/2)**2 * 6**3 +(5/1)(6/3)6**4(30/7) which is close to 30.2%."
      ],
      "metadata": {
        "id": "J1EFTrUQKb9S"
      },
      "execution_count": null,
      "outputs": []
    },
    {
      "cell_type": "code",
      "source": [
        ""
      ],
      "metadata": {
        "id": "evyFt9xwKb_7"
      },
      "execution_count": null,
      "outputs": []
    }
  ]
}