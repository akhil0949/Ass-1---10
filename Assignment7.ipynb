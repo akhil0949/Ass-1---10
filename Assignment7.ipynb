{
  "cells": [
    {
      "cell_type": "markdown",
      "id": "998f7af4",
      "metadata": {
        "id": "998f7af4"
      },
      "source": [
        "1. What is the name of the feature responsible for generating Regex objects?\n",
        "  \n",
        "  \n",
        "re.compile() is used to generate regex objects \n",
        "  \n",
        "  \n"
      ]
    },
    {
      "cell_type": "markdown",
      "id": "f928bfa7",
      "metadata": {
        "id": "f928bfa7"
      },
      "source": [
        "2. Why do raw strings often appear in Regex objects?\n",
        "\n",
        "raw strings are used so that backlashes do have to be escaped.\n",
        "\n",
        "\n"
      ]
    },
    {
      "cell_type": "markdown",
      "id": "f460c686",
      "metadata": {
        "id": "f460c686"
      },
      "source": [
        "3. What is the return value of the search() method?\n",
        "\n",
        "search() method returns none or -1 no object is found and if match is found returns the matched object\n",
        "\n",
        "\n"
      ]
    },
    {
      "cell_type": "markdown",
      "id": "7f7600e9",
      "metadata": {
        "id": "7f7600e9"
      },
      "source": [
        "4. From a Match item, how do you get the actual strings that match the pattern?"
      ]
    },
    {
      "cell_type": "markdown",
      "id": "53edd7cf",
      "metadata": {
        "id": "53edd7cf"
      },
      "source": [
        "group() method returns strings of the matched text."
      ]
    },
    {
      "cell_type": "markdown",
      "id": "cf72184b",
      "metadata": {
        "id": "cf72184b"
      },
      "source": [
        "5. In the regex which created from the r&#39;(\\d\\d\\d)-(\\d\\d\\d-\\d\\d\\d\\d)&#39;, what does group zero cover?\n",
        "Group 2? Group 1?"
      ]
    },
    {
      "cell_type": "code",
      "execution_count": null,
      "id": "ed091ae7",
      "metadata": {
        "id": "ed091ae7"
      },
      "outputs": [],
      "source": [
        "import re\n",
        "phoneNumRegex = re.compile(r'(\\d\\d\\d)-(\\d\\d\\d-\\d\\d\\d\\d)')"
      ]
    },
    {
      "cell_type": "code",
      "execution_count": null,
      "id": "3e444d8a",
      "metadata": {
        "id": "3e444d8a"
      },
      "outputs": [],
      "source": [
        "mo = phoneNumRegex.search('My number is 912-321-4242.')"
      ]
    },
    {
      "cell_type": "code",
      "execution_count": null,
      "id": "0e782f4a",
      "metadata": {
        "id": "0e782f4a",
        "outputId": "f6d97f8c-8628-49a5-eb9d-2001acb1bc2b"
      },
      "outputs": [
        {
          "data": {
            "text/plain": [
              "'912'"
            ]
          },
          "execution_count": 4,
          "metadata": {},
          "output_type": "execute_result"
        }
      ],
      "source": [
        "mo.group(1)"
      ]
    },
    {
      "cell_type": "code",
      "execution_count": null,
      "id": "fc8628ee",
      "metadata": {
        "id": "fc8628ee",
        "outputId": "2d196372-00e2-457c-e7cc-fdc5c36a9cab"
      },
      "outputs": [
        {
          "data": {
            "text/plain": [
              "'321-4242'"
            ]
          },
          "execution_count": 5,
          "metadata": {},
          "output_type": "execute_result"
        }
      ],
      "source": [
        "mo.group(2)"
      ]
    },
    {
      "cell_type": "code",
      "execution_count": null,
      "id": "dee8cc25",
      "metadata": {
        "id": "dee8cc25",
        "outputId": "b4edea0a-94a0-4926-e4d6-037c3c27f924"
      },
      "outputs": [
        {
          "data": {
            "text/plain": [
              "'912-321-4242'"
            ]
          },
          "execution_count": 6,
          "metadata": {},
          "output_type": "execute_result"
        }
      ],
      "source": [
        "mo.group(0)"
      ]
    },
    {
      "cell_type": "code",
      "execution_count": null,
      "id": "f23ef3fd",
      "metadata": {
        "id": "f23ef3fd",
        "outputId": "df3d9688-b4d3-415e-8d4f-a490d997215f"
      },
      "outputs": [
        {
          "data": {
            "text/plain": [
              "'912-321-4242'"
            ]
          },
          "execution_count": 7,
          "metadata": {},
          "output_type": "execute_result"
        }
      ],
      "source": [
        "mo.group()"
      ]
    },
    {
      "cell_type": "markdown",
      "id": "b6124b91",
      "metadata": {
        "id": "b6124b91"
      },
      "source": [
        "6. In standard expression syntax, parentheses and intervals have distinct meanings. How can you tell a regex that you want it to fit real parentheses and periods?"
      ]
    },
    {
      "cell_type": "markdown",
      "id": "48b09f30",
      "metadata": {
        "id": "48b09f30"
      },
      "source": [
        "periods and parentheses can be escaped \\., \\"
      ]
    },
    {
      "cell_type": "markdown",
      "id": "2a264a23",
      "metadata": {
        "id": "2a264a23"
      },
      "source": [
        "7. The findall() method returns a string list or a list of string tuples. What causes it to return one of\n",
        "the two options?"
      ]
    },
    {
      "cell_type": "markdown",
      "id": "6f2937e3",
      "metadata": {
        "id": "6f2937e3"
      },
      "source": [
        "If the regex has no groups, a list of string is returned and if regex has gropus a list of tuples of strings is returned"
      ]
    },
    {
      "cell_type": "code",
      "execution_count": null,
      "id": "4c0c2c0a",
      "metadata": {
        "id": "4c0c2c0a"
      },
      "outputs": [],
      "source": [
        "8. In standard expressions, what does the | character mean?"
      ]
    },
    {
      "cell_type": "markdown",
      "id": "f36e141f",
      "metadata": {
        "id": "f36e141f"
      },
      "source": [
        "the | character is called pipe it can be used anywhere where you want to match one of many expressions"
      ]
    },
    {
      "cell_type": "code",
      "execution_count": null,
      "id": "f3d5b5fc",
      "metadata": {
        "id": "f3d5b5fc"
      },
      "outputs": [],
      "source": [
        "import re"
      ]
    },
    {
      "cell_type": "code",
      "execution_count": null,
      "id": "c59a07c2",
      "metadata": {
        "id": "c59a07c2",
        "outputId": "42548e07-a04f-4d54-a705-6cf15bb623ef"
      },
      "outputs": [
        {
          "data": {
            "text/plain": [
              "'pen'"
            ]
          },
          "execution_count": 5,
          "metadata": {},
          "output_type": "execute_result"
        }
      ],
      "source": [
        "stationaryRegex = re.compile(r'pen|pencil stationary')\n",
        "mo1 = stationaryRegex.search('pen and pencil stationary')\n",
        "mo1.group()"
      ]
    },
    {
      "cell_type": "code",
      "execution_count": null,
      "id": "6c04186a",
      "metadata": {
        "id": "6c04186a",
        "outputId": "8771fa13-254e-4303-e32a-644c2a41aac4"
      },
      "outputs": [
        {
          "data": {
            "text/plain": [
              "'pen'"
            ]
          },
          "execution_count": 7,
          "metadata": {},
          "output_type": "execute_result"
        }
      ],
      "source": [
        "mo2 = stationaryRegex.search('pen stationary and pencil')\n",
        "mo2.group()"
      ]
    },
    {
      "cell_type": "code",
      "execution_count": null,
      "id": "5cfb12d3",
      "metadata": {
        "id": "5cfb12d3"
      },
      "outputs": [],
      "source": [
        "9. In regular expressions, what does ? the character stand for?"
      ]
    },
    {
      "cell_type": "markdown",
      "id": "6bf7fb67",
      "metadata": {
        "id": "6bf7fb67"
      },
      "source": [
        "The ? character can either mean 'match zero or one of the preceding group'"
      ]
    },
    {
      "cell_type": "code",
      "execution_count": null,
      "id": "7ded4fa4",
      "metadata": {
        "id": "7ded4fa4"
      },
      "outputs": [],
      "source": [
        "10.In regular expressions, what is the difference between the + and * characters?"
      ]
    },
    {
      "cell_type": "markdown",
      "id": "29ae32aa",
      "metadata": {
        "id": "29ae32aa"
      },
      "source": [
        "The + matches one or more. The *match zero or more"
      ]
    },
    {
      "cell_type": "markdown",
      "id": "f904263e",
      "metadata": {
        "id": "f904263e"
      },
      "source": [
        "11. What is the difference between {4} and {4,5} in regular expression?\n"
      ]
    },
    {
      "cell_type": "markdown",
      "id": "e1f3d8d7",
      "metadata": {
        "id": "e1f3d8d7"
      },
      "source": [
        "{4} means preceding character has to be repeated 4 times\n",
        "\n",
        "\n",
        "{4,5} means preceding character has to be repeated min 4 times and maximun 5 times."
      ]
    },
    {
      "cell_type": "markdown",
      "id": "34420c8b",
      "metadata": {
        "id": "34420c8b"
      },
      "source": [
        "12. What do you mean by the \\d, \\w, and \\s shorthand character classes signify in regular\n",
        "expressions?"
      ]
    },
    {
      "cell_type": "markdown",
      "id": "23820c92",
      "metadata": {
        "id": "23820c92"
      },
      "source": [
        "\\d represents any digits from 0-9\n",
        "\n",
        "\n",
        "\\w represent any letter, numeric digit or underscore character\n",
        "\n",
        "\\s any character that is space, tab or newline."
      ]
    },
    {
      "cell_type": "markdown",
      "id": "50b21c5f",
      "metadata": {
        "id": "50b21c5f"
      },
      "source": [
        "13. What do means by \\D, \\W, and \\S shorthand character classes signify in regular expressions?"
      ]
    },
    {
      "cell_type": "markdown",
      "id": "28cd9264",
      "metadata": {
        "id": "28cd9264"
      },
      "source": [
        "\\D any character that is not a numeric digit 0-9\n",
        "\n",
        "\\W any character that is not a letter, numeric digit or the underscore character.\n",
        "\n",
        "\\S any character that is not space, tab or newline."
      ]
    },
    {
      "cell_type": "markdown",
      "id": "209de153",
      "metadata": {
        "id": "209de153"
      },
      "source": [
        "14. What is the difference between .*? and .*"
      ]
    },
    {
      "cell_type": "markdown",
      "id": "afa6a20b",
      "metadata": {
        "id": "afa6a20b"
      },
      "source": [
        "(.*)  this is a greedy mode .It will try to match as much text as possible\n",
        "(.) means any number of times \n",
        "(.*?) this will match any or all text in non greedy fashion"
      ]
    },
    {
      "cell_type": "markdown",
      "id": "bb152de0",
      "metadata": {
        "id": "bb152de0"
      },
      "source": [
        "15. What is the syntax for matching both numbers and lowercase letters with a character class?\n"
      ]
    },
    {
      "cell_type": "code",
      "execution_count": null,
      "id": "f1280474",
      "metadata": {
        "id": "f1280474",
        "outputId": "0a88782f-d33f-4168-c624-0327fd975f8a"
      },
      "outputs": [
        {
          "data": {
            "text/plain": [
              "'1'"
            ]
          },
          "execution_count": 32,
          "metadata": {},
          "output_type": "execute_result"
        }
      ],
      "source": [
        "reg1 = re.compile(r'[0-9a-z]')\n",
        "reg2 = re.compile(r'[a-z0-9]')\n",
        "\n",
        "mo1 = reg1.search('100 times I am Reading  this for 100 th time')\n",
        "mo1.group()"
      ]
    },
    {
      "cell_type": "code",
      "execution_count": null,
      "id": "a457852e",
      "metadata": {
        "id": "a457852e",
        "outputId": "6fca6a47-720b-48c4-ff46-4f2daf36d3f2"
      },
      "outputs": [
        {
          "data": {
            "text/plain": [
              "'t'"
            ]
          },
          "execution_count": 33,
          "metadata": {},
          "output_type": "execute_result"
        }
      ],
      "source": [
        "reg2 = re.compile(r'[a-z0-9]')\n",
        "\n",
        "mo1 = reg2.search('times I am Reading  this for 100 th time')\n",
        "mo1.group()"
      ]
    },
    {
      "cell_type": "markdown",
      "id": "53cd2555",
      "metadata": {
        "id": "53cd2555"
      },
      "source": [
        "16. What is the procedure for making a normal expression in regax case insensitive?\n"
      ]
    },
    {
      "cell_type": "code",
      "execution_count": null,
      "id": "072f36ef",
      "metadata": {
        "id": "072f36ef",
        "outputId": "a38855c2-9177-4a07-a582-be3fcca3494f"
      },
      "outputs": [
        {
          "data": {
            "text/plain": [
              "'Data'"
            ]
          },
          "execution_count": 30,
          "metadata": {},
          "output_type": "execute_result"
        }
      ],
      "source": [
        "casesen = re.compile(r'data', re.I)\n",
        "casesen.search('Full Stack Data Science').group()"
      ]
    },
    {
      "cell_type": "code",
      "execution_count": null,
      "id": "84ad698b",
      "metadata": {
        "id": "84ad698b",
        "outputId": "363882bb-931e-42cd-a557-f116de388473"
      },
      "outputs": [
        {
          "data": {
            "text/plain": [
              "'data'"
            ]
          },
          "execution_count": 31,
          "metadata": {},
          "output_type": "execute_result"
        }
      ],
      "source": [
        "casesen.search('FULL STACK data.').group()"
      ]
    },
    {
      "cell_type": "code",
      "execution_count": null,
      "id": "741bcdab",
      "metadata": {
        "id": "741bcdab"
      },
      "outputs": [],
      "source": [
        "17. What does the . character normally match? What does it match if re.DOTALL is passed as 2nd\n",
        "argument in re.compile()?\n"
      ]
    },
    {
      "cell_type": "markdown",
      "id": "05ac0e1e",
      "metadata": {
        "id": "05ac0e1e"
      },
      "source": [
        "The . character normally matches any character except the newline character. \n",
        "If re.DOTALL is passed as the second argument to re.compile(), then the dot will also match newline characters."
      ]
    },
    {
      "cell_type": "markdown",
      "id": "1ad0407b",
      "metadata": {
        "id": "1ad0407b"
      },
      "source": [
        "18. If numReg = re.compile(r&#39;\\d+&#39;), what will numRegex.sub(&#39;X&#39;, &#39;11 drummers, 10 pipers, five rings, 4\n",
        "hen&#39;) return?"
      ]
    },
    {
      "cell_type": "code",
      "execution_count": null,
      "id": "7fff55aa",
      "metadata": {
        "id": "7fff55aa",
        "outputId": "5bac5e71-9f80-4957-c91b-44573d6fddd1"
      },
      "outputs": [
        {
          "data": {
            "text/plain": [
              "'X drummers, X pipers, five rings, X hen'"
            ]
          },
          "execution_count": 19,
          "metadata": {},
          "output_type": "execute_result"
        }
      ],
      "source": [
        "numRegex = re.compile(r'\\d+')\n",
        "mo = numRegex.sub('X', '11 drummers, 10 pipers, five rings, 4 hen')\n",
        "mo"
      ]
    },
    {
      "cell_type": "markdown",
      "id": "e9fe444e",
      "metadata": {
        "id": "e9fe444e"
      },
      "source": [
        "19. What does passing re.VERBOSE as the 2nd argument to re.compile() allow to do?\n"
      ]
    },
    {
      "cell_type": "markdown",
      "id": "b3485c79",
      "metadata": {
        "id": "b3485c79"
      },
      "source": [
        "The re.VERBOSE argument allows you to add whitespace and comments to the string passed to re.compile()"
      ]
    },
    {
      "cell_type": "markdown",
      "id": "ddf1f208",
      "metadata": {
        "id": "ddf1f208"
      },
      "source": [
        "20. How would you write a regex that match a number with comma for every three digits? It must\n",
        "match the given following:\n",
        "&#39;42&#39;\n",
        "&#39;1,234&#39;\n",
        "&#39;6,368,745&#39;\n",
        "\n",
        "but not the following:\n",
        "&#39;12,34,567&#39; (which has only two digits between the commas)\n",
        "&#39;1234&#39; (which lacks commas)\n"
      ]
    },
    {
      "cell_type": "code",
      "execution_count": null,
      "id": "bada83ee",
      "metadata": {
        "id": "bada83ee",
        "outputId": "0e1e7737-b8dd-4538-abad-6ef105fb67fc"
      },
      "outputs": [
        {
          "data": {
            "text/plain": [
              "'42'"
            ]
          },
          "execution_count": 20,
          "metadata": {},
          "output_type": "execute_result"
        }
      ],
      "source": [
        "reg1 = re.compile(r'^\\d{1,3}(,\\d{3})*$')\n",
        "mo1 = reg1.search('42')\n",
        "mo1.group()"
      ]
    },
    {
      "cell_type": "code",
      "execution_count": null,
      "id": "17340439",
      "metadata": {
        "id": "17340439",
        "outputId": "202cac0a-6c40-4645-db76-ace0febeb12b"
      },
      "outputs": [
        {
          "data": {
            "text/plain": [
              "'1,234'"
            ]
          },
          "execution_count": 21,
          "metadata": {},
          "output_type": "execute_result"
        }
      ],
      "source": [
        "reg1 = re.compile(r'^\\d{1,3}(,\\d{3})*$')\n",
        "mo1 = reg1.search('1,234')\n",
        "mo1.group()"
      ]
    },
    {
      "cell_type": "code",
      "execution_count": null,
      "id": "a00d19a7",
      "metadata": {
        "id": "a00d19a7",
        "outputId": "4755d31c-1883-41a7-c582-47acb0619594"
      },
      "outputs": [
        {
          "data": {
            "text/plain": [
              "'6,368,745'"
            ]
          },
          "execution_count": 22,
          "metadata": {},
          "output_type": "execute_result"
        }
      ],
      "source": [
        "reg1 = re.compile(r'^\\d{1,3}(,\\d{3})*$')\n",
        "mo1 = reg1.search('6,368,745')\n",
        "mo1.group()"
      ]
    },
    {
      "cell_type": "markdown",
      "id": "a83019bb",
      "metadata": {
        "id": "a83019bb"
      },
      "source": [
        "21. How would you write a regex that matches the full name of someone whose last name is\n",
        "Watanabe? You can assume that the first name that comes before it will always be one word that\n",
        "begins with a capital letter. The regex must match the following:\n",
        "&#39;Haruto Watanabe&#39;\n",
        "&#39;Alice Watanabe&#39;\n",
        "&#39;RoboCop Watanabe&#39;\n",
        "but not the following:\n",
        "&#39;haruto Watanabe&#39; (where the first name is not capitalized)\n",
        "&#39;Mr. Watanabe&#39; (where the preceding word has a nonletter character)\n",
        "&#39;Watanabe&#39; (which has no first name)\n",
        "&#39;Haruto watanabe&#39; (where Watanabe is not capitalized)\n"
      ]
    },
    {
      "cell_type": "code",
      "execution_count": null,
      "id": "e0741e4c",
      "metadata": {
        "id": "e0741e4c",
        "outputId": "61f8e763-2c9a-4ed7-a853-736ab71ee89b"
      },
      "outputs": [
        {
          "data": {
            "text/plain": [
              "'Haruto Watanabe'"
            ]
          },
          "execution_count": 23,
          "metadata": {},
          "output_type": "execute_result"
        }
      ],
      "source": [
        "name = re.compile(r'[A-Z][a-z]*\\sWatanabe')\n",
        "reg1 = re.compile(r'^\\d{1,3}(,\\d{haruto Watanabe3})*$')\n",
        "mo1 = name.search('Haruto Watanabe')\n",
        "mo1.group()"
      ]
    },
    {
      "cell_type": "code",
      "execution_count": null,
      "id": "05250c0d",
      "metadata": {
        "id": "05250c0d",
        "outputId": "f5dbed75-dff4-4619-d958-9e84e02da184"
      },
      "outputs": [
        {
          "data": {
            "text/plain": [
              "'Alice Watanabe'"
            ]
          },
          "execution_count": 24,
          "metadata": {},
          "output_type": "execute_result"
        }
      ],
      "source": [
        "name = re.compile(r'[A-Z][a-z]*\\sWatanabe')\n",
        "reg1 = re.compile(r'^\\d{1,3}(,\\d{3})*$')\n",
        "mo1 = name.search('Alice Watanabe')\n",
        "mo1.group()"
      ]
    },
    {
      "cell_type": "code",
      "execution_count": null,
      "id": "b7ce2eb1",
      "metadata": {
        "id": "b7ce2eb1",
        "outputId": "d27980b8-7cd4-440d-d821-ac2f24502de7"
      },
      "outputs": [
        {
          "data": {
            "text/plain": [
              "'Robocop Watanabe'"
            ]
          },
          "execution_count": 25,
          "metadata": {},
          "output_type": "execute_result"
        }
      ],
      "source": [
        "name = re.compile(r'[A-Z][a-z]*\\sWatanabe')\n",
        "reg1 = re.compile(r'^\\d{1,3}(,\\d{3})*$')\n",
        "mo1 = name.search('Robocop Watanabe')\n",
        "mo1.group()"
      ]
    },
    {
      "cell_type": "markdown",
      "id": "9a3e9aa4",
      "metadata": {
        "id": "9a3e9aa4"
      },
      "source": [
        "22. How would you write a regex that matches a sentence where the first word is either Alice, Bob,\n",
        "or Carol; the second word is either eats, pets, or throws; the third word is apples, cats, or baseballs;\n",
        "and the sentence ends with a period? This regex should be case-insensitive. It must match the\n",
        "following:\n",
        "&#39;Alice eats apples.&#39;\n",
        "&#39;Bob pets cats.&#39;\n",
        "&#39;Carol throws baseballs.&#39;\n",
        "&#39;Alice throws Apples.&#39;\n",
        "&#39;BOB EATS CATS.&#39;\n",
        "but not the following:\n",
        "&#39;RoboCop eats apples.&#39;\n",
        "&#39;ALICE THROWS FOOTBALLS.&#39;\n",
        "&#39;Carol eats 7 cats.&#39;"
      ]
    },
    {
      "cell_type": "code",
      "execution_count": null,
      "id": "f485cd9d",
      "metadata": {
        "id": "f485cd9d"
      },
      "outputs": [],
      "source": [
        "import re"
      ]
    },
    {
      "cell_type": "code",
      "execution_count": null,
      "id": "bf0248f4",
      "metadata": {
        "id": "bf0248f4",
        "outputId": "e02be940-a7f9-4bca-90f6-c4de06f50d25"
      },
      "outputs": [
        {
          "data": {
            "text/plain": [
              "'Alice eats apples.'"
            ]
          },
          "execution_count": 26,
          "metadata": {},
          "output_type": "execute_result"
        }
      ],
      "source": [
        "name = re.compile(r'(Alice|Bob|Carol)\\s(eats|pets|throws)\\s(apples|cats|baseballs)\\.', re.IGNORECASE)\n",
        "\n",
        "mo1 = name.search('Alice eats apples.')\n",
        "mo1.group()"
      ]
    },
    {
      "cell_type": "code",
      "execution_count": null,
      "id": "3906cadb",
      "metadata": {
        "id": "3906cadb",
        "outputId": "a3ed4624-f9ee-488a-c41c-9f95d89724a2"
      },
      "outputs": [
        {
          "data": {
            "text/plain": [
              "'Carol throws baseballs.'"
            ]
          },
          "execution_count": 27,
          "metadata": {},
          "output_type": "execute_result"
        }
      ],
      "source": [
        "name = re.compile(r'(Alice|Bob|Carol)\\s(eats|pets|throws)\\s(apples|cats|baseballs)\\.', re.IGNORECASE)\n",
        "\n",
        "mo1 = name.search('Carol throws baseballs.')\n",
        "mo1.group()\n"
      ]
    }
  ],
  "metadata": {
    "kernelspec": {
      "display_name": "Python 3 (ipykernel)",
      "language": "python",
      "name": "python3"
    },
    "language_info": {
      "codemirror_mode": {
        "name": "ipython",
        "version": 3
      },
      "file_extension": ".py",
      "mimetype": "text/x-python",
      "name": "python",
      "nbconvert_exporter": "python",
      "pygments_lexer": "ipython3",
      "version": "3.9.7"
    },
    "colab": {
      "name": "Assignment7.ipynb",
      "provenance": []
    }
  },
  "nbformat": 4,
  "nbformat_minor": 5
}