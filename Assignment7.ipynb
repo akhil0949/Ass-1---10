{
  "cells": [
    {
      "cell_type": "markdown",
      "id": "d29de4bb",
      "metadata": {
        "id": "d29de4bb"
      },
      "source": [
        "1. Write a function that counts how many concentric layers a rug.\n",
        "Examples\n",
        "count_layers([\n",
        "&quot;AAAA&quot;,\n",
        "&quot;ABBA&quot;,\n",
        "&quot;AAAA&quot;\n",
        "]) ➞ 2\n",
        "count_layers([\n",
        "&quot;AAAAAAAAA&quot;,\n",
        "&quot;ABBBBBBBA&quot;,\n",
        "&quot;ABBAAABBA&quot;,\n",
        "&quot;ABBBBBBBA&quot;,\n",
        "&quot;AAAAAAAAA&quot;\n",
        "]) ➞ 3\n",
        "count_layers([\n",
        "&quot;AAAAAAAAAAA&quot;,\n",
        "&quot;AABBBBBBBAA&quot;,\n",
        "&quot;AABCCCCCBAA&quot;,\n",
        "&quot;AABCAAACBAA&quot;,\n",
        "&quot;AABCADACBAA&quot;,\n",
        "&quot;AABCAAACBAA&quot;,\n",
        "&quot;AABCCCCCBAA&quot;,\n",
        "&quot;AABBBBBBBAA&quot;,\n",
        "&quot;AAAAAAAAAAA&quot;\n",
        "]) ➞ 5\n"
      ]
    },
    {
      "cell_type": "code",
      "execution_count": null,
      "id": "c70bf528",
      "metadata": {
        "id": "c70bf528"
      },
      "outputs": [],
      "source": [
        "def count_layers(lst):\n",
        "    layers = length = len(lst)\n",
        "    if layers%2 == 0:\n",
        "        print(\"Not a concentric layers\")\n",
        "    else:\n",
        "        mid = layers//2\n",
        "    i =0 \n",
        "    layercnt = 0\n",
        "    while(i <=mid):\n",
        "        print(lst[layers-1])\n",
        "        if lst[i] == lst[length-1]:\n",
        "            layercnt+= 1\n",
        "            length-= 1\n",
        "            i+= 1\n",
        "        else:\n",
        "            print('not concentric layers')\n",
        "            return False\n",
        "    return 'Number of layers is',layercnt"
      ]
    },
    {
      "cell_type": "code",
      "execution_count": null,
      "id": "9d47fd3c",
      "metadata": {
        "id": "9d47fd3c",
        "outputId": "7dc4098f-27a9-4c9a-8bee-c575edba8862"
      },
      "outputs": [
        {
          "name": "stdout",
          "output_type": "stream",
          "text": [
            "AAAA\n",
            "AAAA\n"
          ]
        },
        {
          "data": {
            "text/plain": [
              "('Number of layers is', 2)"
            ]
          },
          "execution_count": 18,
          "metadata": {},
          "output_type": "execute_result"
        }
      ],
      "source": [
        "count_layers([ \"AAAA\", \"ABBA\", \"AAAA\" ]) "
      ]
    },
    {
      "cell_type": "code",
      "execution_count": null,
      "id": "2c16aef9",
      "metadata": {
        "id": "2c16aef9",
        "outputId": "bb461f54-5be4-4ae8-b3d7-995f9c284a90"
      },
      "outputs": [
        {
          "name": "stdout",
          "output_type": "stream",
          "text": [
            "AAAAAAAAA\n",
            "AAAAAAAAA\n",
            "AAAAAAAAA\n"
          ]
        },
        {
          "data": {
            "text/plain": [
              "('Number of layers is', 3)"
            ]
          },
          "execution_count": 19,
          "metadata": {},
          "output_type": "execute_result"
        }
      ],
      "source": [
        "count_layers([ \"AAAAAAAAA\", \"ABBBBBBBA\", \"ABBAAABBA\", \"ABBBBBBBA\", \"AAAAAAAAA\" ]) "
      ]
    },
    {
      "cell_type": "code",
      "execution_count": null,
      "id": "79bcc601",
      "metadata": {
        "id": "79bcc601",
        "outputId": "e9f3b0fd-3bfa-4599-cc2f-272708487a36"
      },
      "outputs": [
        {
          "name": "stdout",
          "output_type": "stream",
          "text": [
            "AAAAAAAAAAA\n",
            "AAAAAAAAAAA\n",
            "AAAAAAAAAAA\n",
            "AAAAAAAAAAA\n",
            "AAAAAAAAAAA\n"
          ]
        },
        {
          "data": {
            "text/plain": [
              "('Number of layers is', 5)"
            ]
          },
          "execution_count": 20,
          "metadata": {},
          "output_type": "execute_result"
        }
      ],
      "source": [
        "count_layers([ \"AAAAAAAAAAA\", \"AABBBBBBBAA\", \"AABCCCCCBAA\", \"AABCAAACBAA\", \"AABCADACBAA\", \"AABCAAACBAA\", \"AABCCCCCBAA\", \"AABBBBBBBAA\", \"AAAAAAAAAAA\" ])"
      ]
    },
    {
      "cell_type": "markdown",
      "id": "bf6838ce",
      "metadata": {
        "id": "bf6838ce"
      },
      "source": [
        "2. There are many different styles of music and many albums exhibit multiple\n",
        "styles. Create a function that takes a list of musical styles from albums and\n",
        "returns how many styles are unique.\n",
        "Examples\n",
        "unique_styles([\n",
        "&quot;Dub,Dancehall&quot;,\n",
        "&quot;Industrial,Heavy Metal&quot;,\n",
        "&quot;Techno,Dubstep&quot;,\n",
        "&quot;Synth-pop,Euro-Disco&quot;,\n",
        "&quot;Industrial,Techno,Minimal&quot;\n",
        "]) ➞ 9\n",
        "unique_styles([\n",
        "\n",
        "&quot;Soul&quot;,\n",
        "&quot;House,Folk&quot;,\n",
        "&quot;Trance,Downtempo,Big Beat,House&quot;,\n",
        "&quot;Deep House&quot;,\n",
        "&quot;Soul&quot;\n",
        "]) ➞ 7\n",
        "\n",
        "\n"
      ]
    },
    {
      "cell_type": "code",
      "execution_count": null,
      "id": "6687297e",
      "metadata": {
        "id": "6687297e"
      },
      "outputs": [],
      "source": [
        "def unique_styles(music_list):\n",
        "    unique_list = []\n",
        "    for i in music_list:\n",
        "        if i not in unique_list:\n",
        "            unique_list.append(i)\n",
        "    return(len(unique_list))"
      ]
    },
    {
      "cell_type": "code",
      "execution_count": null,
      "id": "71787733",
      "metadata": {
        "id": "71787733",
        "outputId": "2d110152-b86f-439f-ba41-f9d4b7ee15f5"
      },
      "outputs": [
        {
          "data": {
            "text/plain": [
              "5"
            ]
          },
          "execution_count": 23,
          "metadata": {},
          "output_type": "execute_result"
        }
      ],
      "source": [
        "unique_styles([ \"Dub,Dancehall\", \"Industrial,Heavy Metal\", \"Techno,Dubstep\", \"Synth-pop,Euro-Disco\", \"Industrial,Techno,Minimal\" ]) "
      ]
    },
    {
      "cell_type": "code",
      "execution_count": null,
      "id": "d2c69acf",
      "metadata": {
        "id": "d2c69acf",
        "outputId": "9368729b-0d48-4271-a5be-01ae9e51593f"
      },
      "outputs": [
        {
          "data": {
            "text/plain": [
              "4"
            ]
          },
          "execution_count": 24,
          "metadata": {},
          "output_type": "execute_result"
        }
      ],
      "source": [
        "unique_styles([\n",
        "\"Soul\", \"House,Folk\", \"Trance,Downtempo,Big Beat,House\", \"Deep House\", \"Soul\" ]) "
      ]
    },
    {
      "cell_type": "markdown",
      "id": "307d30f6",
      "metadata": {
        "id": "307d30f6"
      },
      "source": [
        "3. Create a function that finds a target number in a list of prime numbers.\n",
        "Implement a binary search algorithm in your function. The target number will\n",
        "be from 2 through 97. If the target is prime then return &quot;yes&quot; else return &quot;no&quot;.\n",
        "Examples\n",
        "primes = [2, 3, 5, 7, 11, 13, 17, 19, 23, 29, 31, 37, 41, 43, 47, 53, 59, 61, 67,\n",
        "71, 73, 79, 83, 89, 97]\n",
        "\n",
        "is_prime(primes, 3) ➞ &quot;yes&quot;\n",
        "is_prime(primes, 4) ➞ &quot;no&quot;\n",
        "is_prime(primes, 67) ➞ &quot;yes&quot;\n",
        "is_prime(primes, 36) ➞ &quot;no&quot;\n"
      ]
    },
    {
      "cell_type": "code",
      "execution_count": null,
      "id": "f4a68f22",
      "metadata": {
        "id": "f4a68f22"
      },
      "outputs": [],
      "source": [
        "def is_prime(primes,n):\n",
        "    if n in primes:\n",
        "        return \"yes\"\n",
        "    else:\n",
        "        return 'no'\n",
        "       "
      ]
    },
    {
      "cell_type": "code",
      "execution_count": null,
      "id": "61fc8d44",
      "metadata": {
        "id": "61fc8d44"
      },
      "outputs": [],
      "source": [
        "primes = [2, 3, 5, 7, 11, 13, 17, 19, 23, 29, 31, 37, 41, 43, 47, 53, 59, 61, 67, 71, 73, 79, 83, 89, 97]"
      ]
    },
    {
      "cell_type": "code",
      "execution_count": null,
      "id": "4a41d8f3",
      "metadata": {
        "id": "4a41d8f3",
        "outputId": "7198b30c-e19c-4a39-92d4-44a94f6efc76"
      },
      "outputs": [
        {
          "data": {
            "text/plain": [
              "'yes'"
            ]
          },
          "execution_count": 16,
          "metadata": {},
          "output_type": "execute_result"
        }
      ],
      "source": [
        "is_prime(primes, 3)"
      ]
    },
    {
      "cell_type": "code",
      "execution_count": null,
      "id": "89e659eb",
      "metadata": {
        "id": "89e659eb",
        "outputId": "d3c30b9a-0912-48a8-92cd-53875877ccb0"
      },
      "outputs": [
        {
          "data": {
            "text/plain": [
              "'no'"
            ]
          },
          "execution_count": 17,
          "metadata": {},
          "output_type": "execute_result"
        }
      ],
      "source": [
        "is_prime(primes, 4) "
      ]
    },
    {
      "cell_type": "code",
      "execution_count": null,
      "id": "7715b84b",
      "metadata": {
        "id": "7715b84b",
        "outputId": "f91a467c-ab42-4aa3-9d4f-efc8eef86948"
      },
      "outputs": [
        {
          "data": {
            "text/plain": [
              "'yes'"
            ]
          },
          "execution_count": 18,
          "metadata": {},
          "output_type": "execute_result"
        }
      ],
      "source": [
        " is_prime(primes, 67)"
      ]
    },
    {
      "cell_type": "code",
      "execution_count": null,
      "id": "35e06612",
      "metadata": {
        "id": "35e06612",
        "outputId": "a2de8e79-12b2-4461-b23b-cac6efe3ad29"
      },
      "outputs": [
        {
          "data": {
            "text/plain": [
              "'no'"
            ]
          },
          "execution_count": 19,
          "metadata": {},
          "output_type": "execute_result"
        }
      ],
      "source": [
        "is_prime(primes, 36) "
      ]
    },
    {
      "cell_type": "markdown",
      "id": "c0af268b",
      "metadata": {
        "id": "c0af268b"
      },
      "source": [
        "4. Create a function that takes in n, a, b and returns the number of positive\n",
        "values raised to the nth power that lie in the range [a, b], inclusive.\n",
        "Examples\n",
        "power_ranger(2, 49, 65) ➞ 2\n",
        "# 2 squares (n^2) lie between 49 and 65, 49 (7^2) and 64 (8^2)\n",
        "power_ranger(3, 1, 27) ➞ 3\n",
        "# 3 cubes (n^3) lie between 1 and 27, 1 (1^3), 8 (2^3) and 27 (3^3)\n",
        "power_ranger(10, 1, 5) ➞ 1\n",
        "# 1 value raised to the 10th power lies between 1 and 5, 1 (1^10)\n",
        "power_ranger(5, 31, 33) ➞ 1\n",
        "power_ranger(4, 250, 1300) ➞ 3\n"
      ]
    },
    {
      "cell_type": "code",
      "execution_count": null,
      "id": "3e34836a",
      "metadata": {
        "id": "3e34836a"
      },
      "outputs": [],
      "source": [
        "def power_ranger(n,min,max):\n",
        "    count = 0\n",
        "    for i in range(max):\n",
        "        if i**n in range(min,max):\n",
        "            print('{}^{} lies between {} and {}'.format(i,n,min,max))\n",
        "            count+= 1\n",
        "    return 'Total values found =', count\n",
        "    "
      ]
    },
    {
      "cell_type": "code",
      "execution_count": null,
      "id": "7927493a",
      "metadata": {
        "id": "7927493a",
        "outputId": "d0cd739a-5503-492d-e676-74c58c09d88c"
      },
      "outputs": [
        {
          "name": "stdout",
          "output_type": "stream",
          "text": [
            "7^2 lies between 49 and 65\n",
            "8^2 lies between 49 and 65\n"
          ]
        },
        {
          "data": {
            "text/plain": [
              "('Total values found =', 2)"
            ]
          },
          "execution_count": 11,
          "metadata": {},
          "output_type": "execute_result"
        }
      ],
      "source": [
        " power_ranger(2, 49, 65)"
      ]
    },
    {
      "cell_type": "code",
      "execution_count": null,
      "id": "84c523f9",
      "metadata": {
        "id": "84c523f9",
        "outputId": "c8a8bc66-c77f-4eed-bf43-552f78ba1e06"
      },
      "outputs": [
        {
          "name": "stdout",
          "output_type": "stream",
          "text": [
            "1^3 lies between 1 and 27\n",
            "2^3 lies between 1 and 27\n"
          ]
        },
        {
          "data": {
            "text/plain": [
              "('Total values found =', 2)"
            ]
          },
          "execution_count": 12,
          "metadata": {},
          "output_type": "execute_result"
        }
      ],
      "source": [
        "power_ranger(3, 1, 27)"
      ]
    },
    {
      "cell_type": "code",
      "execution_count": null,
      "id": "d32cb181",
      "metadata": {
        "id": "d32cb181",
        "outputId": "eb1b4c9b-398d-4dbc-c56b-304e55afa37c"
      },
      "outputs": [
        {
          "name": "stdout",
          "output_type": "stream",
          "text": [
            "1^10 lies between 1 and 5\n"
          ]
        },
        {
          "data": {
            "text/plain": [
              "('Total values found =', 1)"
            ]
          },
          "execution_count": 13,
          "metadata": {},
          "output_type": "execute_result"
        }
      ],
      "source": [
        "power_ranger(10, 1, 5)"
      ]
    },
    {
      "cell_type": "code",
      "execution_count": null,
      "id": "4af47bbb",
      "metadata": {
        "id": "4af47bbb",
        "outputId": "021c49e1-c65f-4076-d59d-8df77f6e2b73"
      },
      "outputs": [
        {
          "name": "stdout",
          "output_type": "stream",
          "text": [
            "2^5 lies between 31 and 33\n"
          ]
        },
        {
          "data": {
            "text/plain": [
              "('Total values found =', 1)"
            ]
          },
          "execution_count": 14,
          "metadata": {},
          "output_type": "execute_result"
        }
      ],
      "source": [
        "power_ranger(5, 31, 33)"
      ]
    },
    {
      "cell_type": "markdown",
      "id": "51759eb6",
      "metadata": {
        "id": "51759eb6"
      },
      "source": [
        "5. Given a number, return the difference between the maximum and minimum\n",
        "numbers that can be formed when the digits are rearranged.\n",
        "Examples\n",
        "rearranged_difference(972882) ➞ 760833\n",
        "# 988722 - 227889 = 760833\n",
        "rearranged_difference(3320707) ➞ 7709823\n",
        "# 7733200 - 23377 = 7709823\n",
        "rearranged_difference(90010) ➞ 90981\n",
        "# 91000 - 19 = 90981"
      ]
    },
    {
      "cell_type": "code",
      "execution_count": null,
      "id": "35a83e46",
      "metadata": {
        "id": "35a83e46"
      },
      "outputs": [],
      "source": [
        "def rearranged_difference(n):\n",
        "    n = str(n)\n",
        "    x = []\n",
        "    y = []\n",
        "    for i in n:\n",
        "        x.append(i)\n",
        "        y.append(i)\n",
        "    x.sort(reverse=False)\n",
        "    y.sort(reverse=True)\n",
        "    n1 = ''.join(x)\n",
        "    n2 = ''.join(y)\n",
        "    d = int(n2)-int(n1)\n",
        "    return d\n",
        "    "
      ]
    },
    {
      "cell_type": "code",
      "execution_count": null,
      "id": "1cb471c4",
      "metadata": {
        "id": "1cb471c4",
        "outputId": "8e825753-a62b-43d7-979b-53ccb4162263"
      },
      "outputs": [
        {
          "data": {
            "text/plain": [
              "760833"
            ]
          },
          "execution_count": 75,
          "metadata": {},
          "output_type": "execute_result"
        }
      ],
      "source": [
        "rearranged_difference(972882)"
      ]
    },
    {
      "cell_type": "code",
      "execution_count": null,
      "id": "16652d1a",
      "metadata": {
        "id": "16652d1a",
        "outputId": "e9fd47c6-1504-4618-a000-bd15f16c02ec"
      },
      "outputs": [
        {
          "data": {
            "text/plain": [
              "7709823"
            ]
          },
          "execution_count": 76,
          "metadata": {},
          "output_type": "execute_result"
        }
      ],
      "source": [
        "rearranged_difference(3320707) "
      ]
    },
    {
      "cell_type": "code",
      "execution_count": null,
      "id": "d89bec5a",
      "metadata": {
        "id": "d89bec5a",
        "outputId": "406f960a-d5b9-4d76-bc96-46809faabc95"
      },
      "outputs": [
        {
          "data": {
            "text/plain": [
              "90981"
            ]
          },
          "execution_count": 77,
          "metadata": {},
          "output_type": "execute_result"
        }
      ],
      "source": [
        "rearranged_difference(90010) "
      ]
    }
  ],
  "metadata": {
    "kernelspec": {
      "display_name": "Python 3 (ipykernel)",
      "language": "python",
      "name": "python3"
    },
    "language_info": {
      "codemirror_mode": {
        "name": "ipython",
        "version": 3
      },
      "file_extension": ".py",
      "mimetype": "text/x-python",
      "name": "python",
      "nbconvert_exporter": "python",
      "pygments_lexer": "ipython3",
      "version": "3.9.7"
    },
    "colab": {
      "name": "Assignment7.ipynb",
      "provenance": []
    }
  },
  "nbformat": 4,
  "nbformat_minor": 5
}