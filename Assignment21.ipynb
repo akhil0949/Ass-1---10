{
  "cells": [
    {
      "cell_type": "markdown",
      "id": "54dbc37f",
      "metadata": {
        "id": "54dbc37f"
      },
      "source": [
        "Question1\n",
        "Write a function that takes a list and a number as arguments. Add the number to the end of\n",
        "the list, then remove the first element of the list. The function should then return the updated\n",
        "list.\n",
        "Examples\n",
        "next_in_line([5, 6, 7, 8, 9], 1) ➞ [6, 7, 8, 9, 1]\n",
        "next_in_line([7, 6, 3, 23, 17], 10) ➞ [6, 3, 23, 17, 10]\n",
        "next_in_line([1, 10, 20, 42 ], 6) ➞ [10, 20, 42, 6]\n",
        "next_in_line([], 6) ➞ &quot;No list has been selected&quot;\n",
        "\n"
      ]
    },
    {
      "cell_type": "code",
      "execution_count": null,
      "id": "33e32c36",
      "metadata": {
        "id": "33e32c36"
      },
      "outputs": [],
      "source": [
        "def next_in_line(l,a):\n",
        "    l1 =[]\n",
        "    if l == []:\n",
        "        print('No list has been selected')\n",
        "    else:\n",
        "        for i in l:\n",
        "            l1.append(i)\n",
        "    l1.append(a)\n",
        "    l1.pop(0)\n",
        "    return l1\n"
      ]
    },
    {
      "cell_type": "code",
      "execution_count": null,
      "id": "b093d34f",
      "metadata": {
        "id": "b093d34f",
        "outputId": "9d8c997b-0e1c-4460-c797-7aaceeb5143f"
      },
      "outputs": [
        {
          "data": {
            "text/plain": [
              "[6, 7, 8, 9, 1]"
            ]
          },
          "execution_count": 29,
          "metadata": {},
          "output_type": "execute_result"
        }
      ],
      "source": [
        "next_in_line([5, 6, 7, 8, 9], 1)    "
      ]
    },
    {
      "cell_type": "code",
      "execution_count": null,
      "id": "d2f329d2",
      "metadata": {
        "id": "d2f329d2",
        "outputId": "31c9cf54-74a0-4cc3-dc5d-21e14a052dbb"
      },
      "outputs": [
        {
          "data": {
            "text/plain": [
              "[6, 3, 23, 17, 10]"
            ]
          },
          "execution_count": 30,
          "metadata": {},
          "output_type": "execute_result"
        }
      ],
      "source": [
        "next_in_line([7, 6, 3, 23, 17], 10)"
      ]
    },
    {
      "cell_type": "code",
      "execution_count": null,
      "id": "66398ceb",
      "metadata": {
        "id": "66398ceb",
        "outputId": "b40e61f2-f0ea-427a-9d6d-aabebc7d84cf"
      },
      "outputs": [
        {
          "data": {
            "text/plain": [
              "[10, 20, 42, 6]"
            ]
          },
          "execution_count": 31,
          "metadata": {},
          "output_type": "execute_result"
        }
      ],
      "source": [
        "next_in_line([1, 10, 20, 42 ], 6) "
      ]
    },
    {
      "cell_type": "code",
      "execution_count": null,
      "id": "c1061703",
      "metadata": {
        "id": "c1061703",
        "outputId": "e903716e-f3de-41bf-9647-333f1b07ad93"
      },
      "outputs": [
        {
          "name": "stdout",
          "output_type": "stream",
          "text": [
            "No list has been selected\n"
          ]
        },
        {
          "data": {
            "text/plain": [
              "[]"
            ]
          },
          "execution_count": 32,
          "metadata": {},
          "output_type": "execute_result"
        }
      ],
      "source": [
        "next_in_line([], 6)"
      ]
    },
    {
      "cell_type": "markdown",
      "id": "c8bddf57",
      "metadata": {
        "id": "c8bddf57"
      },
      "source": [
        "Question2\n",
        "Create the function that takes a list of dictionaries and returns the sum of people&#39;s budgets.\n",
        "Examples\n",
        "get_budgets([\n",
        "{ &quot;name&quot;: &quot;John&quot;, &quot;age&quot;: 21, &quot;budget&quot;: 23000 },\n",
        "{ &quot;name&quot;: &quot;Steve&quot;, &quot;age&quot;: 32, &quot;budget&quot;: 40000 },\n",
        "{ &quot;name&quot;: &quot;Martin&quot;, &quot;age&quot;: 16, &quot;budget&quot;: 2700 }\n",
        "]) ➞ 65700\n",
        "get_budgets([\n",
        "{ &quot;name&quot;: &quot;John&quot;, &quot;age&quot;: 21, &quot;budget&quot;: 29000 },\n",
        "{ &quot;name&quot;: &quot;Steve&quot;, &quot;age&quot;: 32, &quot;budget&quot;: 32000 },\n",
        "{ &quot;name&quot;: &quot;Martin&quot;, &quot;age&quot;: 16, &quot;budget&quot;: 1600 }\n",
        "]) ➞ 62600\n",
        "\n"
      ]
    },
    {
      "cell_type": "code",
      "execution_count": null,
      "id": "62303b13",
      "metadata": {
        "id": "62303b13"
      },
      "outputs": [],
      "source": [
        ""
      ]
    },
    {
      "cell_type": "markdown",
      "id": "94ca4cf6",
      "metadata": {
        "id": "94ca4cf6"
      },
      "source": [
        "Question3\n",
        "Create a function that takes a string and returns a string with its letters in alphabetical order.\n",
        "Examples\n",
        "alphabet_soup(&quot;hello&quot;) ➞ &quot;ehllo&quot;\n",
        "alphabet_soup(&quot;edabit&quot;) ➞ &quot;abdeit&quot;\n",
        "alphabet_soup(&quot;hacker&quot;) ➞ &quot;acehkr&quot;\n",
        "alphabet_soup(&quot;geek&quot;) ➞ &quot;eegk&quot;\n",
        "alphabet_soup(&quot;javascript&quot;) ➞ &quot;aacijprstv&quot;\n",
        "\n"
      ]
    },
    {
      "cell_type": "code",
      "execution_count": null,
      "id": "15a37006",
      "metadata": {
        "id": "15a37006"
      },
      "outputs": [],
      "source": [
        "def alphabet_soup(str1):\n",
        "    sorted_str = sorted(str1)\n",
        "    a_sorted = \"\".join(sorted_str)\n",
        "    return a_sorted"
      ]
    },
    {
      "cell_type": "code",
      "execution_count": null,
      "id": "52401674",
      "metadata": {
        "id": "52401674",
        "outputId": "e2e6ee50-6ef8-4e88-8dbf-5c6b42304c59"
      },
      "outputs": [
        {
          "data": {
            "text/plain": [
              "'ehllo'"
            ]
          },
          "execution_count": 23,
          "metadata": {},
          "output_type": "execute_result"
        }
      ],
      "source": [
        "alphabet_soup(\"hello\") "
      ]
    },
    {
      "cell_type": "code",
      "execution_count": null,
      "id": "34b61837",
      "metadata": {
        "id": "34b61837",
        "outputId": "f98de9e4-dd63-414f-8b8f-c9212517c039"
      },
      "outputs": [
        {
          "data": {
            "text/plain": [
              "'abdeit'"
            ]
          },
          "execution_count": 18,
          "metadata": {},
          "output_type": "execute_result"
        }
      ],
      "source": [
        "alphabet_soup(\"edabit\") "
      ]
    },
    {
      "cell_type": "code",
      "execution_count": null,
      "id": "922e30bb",
      "metadata": {
        "id": "922e30bb",
        "outputId": "421a2531-7205-49f8-ae72-8feabee8f9e3"
      },
      "outputs": [
        {
          "data": {
            "text/plain": [
              "'acehkr'"
            ]
          },
          "execution_count": 19,
          "metadata": {},
          "output_type": "execute_result"
        }
      ],
      "source": [
        "alphabet_soup(\"hacker\")"
      ]
    },
    {
      "cell_type": "code",
      "execution_count": null,
      "id": "79a51b7f",
      "metadata": {
        "id": "79a51b7f",
        "outputId": "c2aaa589-5aa5-4c56-96da-fd9726a39f5f"
      },
      "outputs": [
        {
          "data": {
            "text/plain": [
              "'eegk'"
            ]
          },
          "execution_count": 20,
          "metadata": {},
          "output_type": "execute_result"
        }
      ],
      "source": [
        "alphabet_soup(\"geek\") "
      ]
    },
    {
      "cell_type": "code",
      "execution_count": null,
      "id": "14ca5df7",
      "metadata": {
        "id": "14ca5df7",
        "outputId": "c3bc5e6d-2333-4b13-c68a-fa78cd63815c"
      },
      "outputs": [
        {
          "data": {
            "text/plain": [
              "'aacijprstv'"
            ]
          },
          "execution_count": 21,
          "metadata": {},
          "output_type": "execute_result"
        }
      ],
      "source": [
        "alphabet_soup(\"javascript\") "
      ]
    },
    {
      "cell_type": "markdown",
      "id": "a35fe555",
      "metadata": {
        "id": "a35fe555"
      },
      "source": [
        "Question4\n",
        "Suppose that you invest $10,000 for 10 years at an interest rate of 6% compounded monthly.\n",
        "What will be the value of your investment at the end of the 10 year period?\n",
        "Create a function that accepts the principal p, the term in years t, the interest rate r, and the\n",
        "number of compounding periods per year n. The function returns the value at the end of term\n",
        "rounded to the nearest cent.\n",
        "For the example above:\n",
        "compound_interest(10000, 10, 0.06, 12) ➞ 18193.97\n",
        "Note that the interest rate is given as a decimal and n=12 because with monthly compounding\n",
        "there are 12 periods per year. Compounding can also be done annually, quarterly, weekly, or\n",
        "daily.\n",
        "Examples\n",
        "compound_interest(100, 1, 0.05, 1) ➞ 105.0\n",
        "compound_interest(3500, 15, 0.1, 4) ➞ 15399.26\n",
        "compound_interest(100000, 20, 0.15, 365) ➞ 2007316.26\n",
        "\n"
      ]
    },
    {
      "cell_type": "code",
      "execution_count": null,
      "id": "31bb07b7",
      "metadata": {
        "id": "31bb07b7"
      },
      "outputs": [],
      "source": [
        "def compound_interest(p,y,r,n):\n",
        "    CI = P * (((1 + ((r/100.0)/n)) ** (n*y)))\n",
        "    return CI"
      ]
    },
    {
      "cell_type": "code",
      "execution_count": null,
      "id": "30681a44",
      "metadata": {
        "id": "30681a44",
        "outputId": "42679a1c-769f-4a0e-ad43-b60ef57e064b"
      },
      "outputs": [
        {
          "data": {
            "text/plain": [
              "18193.9673403229"
            ]
          },
          "execution_count": 20,
          "metadata": {},
          "output_type": "execute_result"
        }
      ],
      "source": [
        "compound_interest(10000, 10, 6, 12)"
      ]
    },
    {
      "cell_type": "code",
      "execution_count": null,
      "id": "bb4043ae",
      "metadata": {
        "id": "bb4043ae",
        "outputId": "5c5848ea-bcc2-4667-af84-0b5d63ea8666"
      },
      "outputs": [
        {
          "data": {
            "text/plain": [
              "10500.0"
            ]
          },
          "execution_count": 21,
          "metadata": {},
          "output_type": "execute_result"
        }
      ],
      "source": [
        " compound_interest(100, 1, 5, 1) "
      ]
    },
    {
      "cell_type": "code",
      "execution_count": null,
      "id": "2ad1009f",
      "metadata": {
        "id": "2ad1009f",
        "outputId": "c96eb06a-4921-431e-c3fa-eba005b8f9b6"
      },
      "outputs": [
        {
          "data": {
            "text/plain": [
              "11616.167815552704"
            ]
          },
          "execution_count": 22,
          "metadata": {},
          "output_type": "execute_result"
        }
      ],
      "source": [
        "compound_interest(3500, 15, 1, 4)"
      ]
    },
    {
      "cell_type": "code",
      "execution_count": null,
      "id": "4256c532",
      "metadata": {
        "id": "4256c532",
        "outputId": "48f7dd4a-6f71-4649-dbab-662e03a08f0a"
      },
      "outputs": [
        {
          "data": {
            "text/plain": [
              "200731.62632325367"
            ]
          },
          "execution_count": 23,
          "metadata": {},
          "output_type": "execute_result"
        }
      ],
      "source": [
        "compound_interest(100000, 20, 15, 365) "
      ]
    },
    {
      "cell_type": "markdown",
      "id": "1465fe72",
      "metadata": {
        "id": "1465fe72"
      },
      "source": [
        "Question5\n",
        "Write a function that takes a list of elements and returns only the integers.\n",
        "Examples\n",
        "return_only_integer([9, 2, &quot;space&quot;, &quot;car&quot;, &quot;lion&quot;, 16]) ➞ [9, 2, 16]\n",
        "return_only_integer([&quot;hello&quot;, 81, &quot;basketball&quot;, 123, &quot;fox&quot;]) ➞ [81, 123]\n",
        "return_only_integer([10, &quot;121&quot;, 56, 20, &quot;car&quot;, 3, &quot;lion&quot;]) ➞ [10, 56, 20,\n",
        "3]\n",
        "return_only_integer([&quot;String&quot;, True, 3.3, 1]) ➞ [1]"
      ]
    },
    {
      "cell_type": "code",
      "execution_count": null,
      "id": "c41ccd65",
      "metadata": {
        "id": "c41ccd65"
      },
      "outputs": [],
      "source": [
        "def return_only_integer(l):\n",
        "    l1 = []\n",
        "    for i in l:\n",
        "        if type(i)==int:\n",
        "            l1.append(i)\n",
        "    return l1"
      ]
    },
    {
      "cell_type": "code",
      "execution_count": null,
      "id": "a1a01076",
      "metadata": {
        "id": "a1a01076",
        "outputId": "1c320d70-6166-496c-da13-93d06c4b383e"
      },
      "outputs": [
        {
          "data": {
            "text/plain": [
              "[9, 2, 16]"
            ]
          },
          "execution_count": 7,
          "metadata": {},
          "output_type": "execute_result"
        }
      ],
      "source": [
        "return_only_integer([9, 2, \"space\", \"car\", \"lion\", 16])"
      ]
    },
    {
      "cell_type": "code",
      "execution_count": null,
      "id": "39fc90ab",
      "metadata": {
        "id": "39fc90ab",
        "outputId": "421e7b31-a000-42fe-e210-7d7cb00a4a48"
      },
      "outputs": [
        {
          "data": {
            "text/plain": [
              "[81, 123]"
            ]
          },
          "execution_count": 8,
          "metadata": {},
          "output_type": "execute_result"
        }
      ],
      "source": [
        "return_only_integer([\"hello\", 81, \"basketball\", 123, \"fox\"]) "
      ]
    },
    {
      "cell_type": "code",
      "execution_count": null,
      "id": "a8b8d0f7",
      "metadata": {
        "id": "a8b8d0f7",
        "outputId": "834362b6-fecf-4f29-e713-fa62a919c198"
      },
      "outputs": [
        {
          "data": {
            "text/plain": [
              "[10, 56, 20, 3]"
            ]
          },
          "execution_count": 10,
          "metadata": {},
          "output_type": "execute_result"
        }
      ],
      "source": [
        "return_only_integer([10, \"121\", 56, 20, \"car\", 3, \"lion\"])"
      ]
    },
    {
      "cell_type": "code",
      "execution_count": null,
      "id": "a64dde30",
      "metadata": {
        "id": "a64dde30",
        "outputId": "ff66c701-78ea-49b7-8554-244e2482ffee"
      },
      "outputs": [
        {
          "data": {
            "text/plain": [
              "[1]"
            ]
          },
          "execution_count": 9,
          "metadata": {},
          "output_type": "execute_result"
        }
      ],
      "source": [
        " return_only_integer([\"String\", True, 3.3, 1])"
      ]
    },
    {
      "cell_type": "code",
      "execution_count": null,
      "id": "0555d6f7",
      "metadata": {
        "id": "0555d6f7"
      },
      "outputs": [],
      "source": [
        ""
      ]
    }
  ],
  "metadata": {
    "kernelspec": {
      "display_name": "Python 3 (ipykernel)",
      "language": "python",
      "name": "python3"
    },
    "language_info": {
      "codemirror_mode": {
        "name": "ipython",
        "version": 3
      },
      "file_extension": ".py",
      "mimetype": "text/x-python",
      "name": "python",
      "nbconvert_exporter": "python",
      "pygments_lexer": "ipython3",
      "version": "3.9.7"
    },
    "colab": {
      "name": "Assignment21.ipynb",
      "provenance": []
    }
  },
  "nbformat": 4,
  "nbformat_minor": 5
}