{
  "cells": [
    {
      "cell_type": "code",
      "source": [
        "\n",
        "Q-1. Write an SQL query to print details of workers excluding first names, “Vipul” and “Satish” from Worker table."
      ],
      "metadata": {
        "id": "ItF0ysoZkFdo"
      },
      "id": "ItF0ysoZkFdo",
      "execution_count": null,
      "outputs": []
    },
    {
      "cell_type": "code",
      "execution_count": null,
      "id": "7bf485f5",
      "metadata": {
        "id": "7bf485f5"
      },
      "outputs": [],
      "source": [
        "select *from workers where FIRST_NAME not in ('Vipul','Satish')"
      ]
    },
    {
      "cell_type": "code",
      "source": [
        "Q-2. Write an SQL query to print details of the Workers whose FIRST_NAME ends with ‘h’ and contains six alphabets."
      ],
      "metadata": {
        "id": "wGSYvCEukJBZ"
      },
      "id": "wGSYvCEukJBZ",
      "execution_count": null,
      "outputs": []
    },
    {
      "cell_type": "code",
      "execution_count": null,
      "id": "4fb0c454",
      "metadata": {
        "id": "4fb0c454"
      },
      "outputs": [],
      "source": [
        "select *from Wokers where FIRST_NAME like '_____h';"
      ]
    },
    {
      "cell_type": "code",
      "execution_count": null,
      "id": "5e4cbdf5",
      "metadata": {
        "id": "5e4cbdf5"
      },
      "outputs": [],
      "source": [
        "Q-3. Write a query to validate Email of Employee."
      ]
    },
    {
      "cell_type": "code",
      "execution_count": null,
      "id": "ce04c0d6",
      "metadata": {
        "id": "ce04c0d6"
      },
      "outputs": [],
      "source": [
        "select *from Worker where Email_id is like %@.%.%"
      ]
    }
  ],
  "metadata": {
    "kernelspec": {
      "display_name": "Python 3 (ipykernel)",
      "language": "python",
      "name": "python3"
    },
    "language_info": {
      "codemirror_mode": {
        "name": "ipython",
        "version": 3
      },
      "file_extension": ".py",
      "mimetype": "text/x-python",
      "name": "python",
      "nbconvert_exporter": "python",
      "pygments_lexer": "ipython3",
      "version": "3.9.7"
    },
    "colab": {
      "name": "Assignment5_sql.ipynb",
      "provenance": []
    }
  },
  "nbformat": 4,
  "nbformat_minor": 5
}