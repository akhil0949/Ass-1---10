{
  "nbformat": 4,
  "nbformat_minor": 0,
  "metadata": {
    "colab": {
      "name": "Untitled42.ipynb",
      "provenance": [],
      "authorship_tag": "ABX9TyPK3SCvz1xeE5Z3d32+9Gr9",
      "include_colab_link": true
    },
    "kernelspec": {
      "name": "python3",
      "display_name": "Python 3"
    },
    "language_info": {
      "name": "python"
    }
  },
  "cells": [
    {
      "cell_type": "markdown",
      "metadata": {
        "id": "view-in-github",
        "colab_type": "text"
      },
      "source": [
        "<a href=\"https://colab.research.google.com/github/akhil0949/Ass-1---10/blob/main/Untitled42.ipynb\" target=\"_parent\"><img src=\"https://colab.research.google.com/assets/colab-badge.svg\" alt=\"Open In Colab\"/></a>"
      ]
    },
    {
      "cell_type": "code",
      "execution_count": null,
      "metadata": {
        "id": "jNiE8AaKvTQo"
      },
      "outputs": [],
      "source": [
        "Q1. In Python 3.X, what are the names and functions of string object types?\n",
        "Ans.\n",
        " string capitalize()\n",
        " String casefold() Method.\n",
        " String center() Method.\n",
        " String count() Method.\n",
        " Strings encode() method.\n",
        " String endswith() Method.\n",
        " expandtabs()."
      ]
    },
    {
      "cell_type": "code",
      "source": [
        "Q2. How do the string forms in Python 3.X vary in terms of operations?\n",
        "Ans.\n",
        "center()\tReturns a centered string\n",
        "count()\t    Returns the number of times a specified value occurs in a string\n",
        "encode()\tReturns an encoded version of the string\n",
        "endswith()\tReturns true if the string ends with the specified value"
      ],
      "metadata": {
        "id": "QOeiOTMavj-1"
      },
      "execution_count": null,
      "outputs": []
    },
    {
      "cell_type": "code",
      "source": [
        "Q3. In 3.X, how do you put non-ASCII Unicode characters in a string?\n",
        "Ans.\n",
        "Use str. \n",
        "encode(encoding, errors) with encoding as \"ASCII\" and errors as \"ignore\" to return str without \"ASCII\" characters. Use str. decode() to encode str ."
      ],
      "metadata": {
        "id": "Q4fu9aJZv9bv"
      },
      "execution_count": null,
      "outputs": []
    },
    {
      "cell_type": "code",
      "source": [
        "Q4. In Python 3.X, what are the key differences between text-mode and binary-mode files?\n",
        "Ans.\n",
        "When we try to read or write files in our program, usually there are two modes to use. Text mode, usually by default, and binary mode. Obviously, \n",
        "in text mode, the program writes data to file as text characters, and in binary mode, the program writes data to files as 0/1 bits"
      ],
      "metadata": {
        "id": "NHt7c3iTwH76"
      },
      "execution_count": null,
      "outputs": []
    },
    {
      "cell_type": "code",
      "source": [
        "Q5. How can you interpret a Unicode text file containing text encoded in a different encoding than\n",
        "your platforms default?\n",
        "Ans.\n",
        "Unicode is a standard for encoding character. Unicode string is a python data structure that can store zero or more unicode characters. Unicode string is designed to store text data.\n",
        "Specific code points can be written using the \\u escape sequence, which is followed by four hex digits giving the code point. The \\U escape sequence is similar, but expects 8 hex digits, not 4."
      ],
      "metadata": {
        "id": "0S6bG1pDwS8s"
      },
      "execution_count": null,
      "outputs": []
    },
    {
      "cell_type": "code",
      "source": [
        "Q6. What is the best way to make a Unicode text file in a particular encoding format?\n",
        "Ans.\n",
        "How do I create a Unicode in Python?\n",
        "To create an instance of unicode , you can use the unicode() built-in, or prefix a string literal with a u , like so: my_unicode = u'This is my Unicode string. ' . \n",
        "In Python 3, there is one and only one string type. Its name is str and it's Unicode.\n"
      ],
      "metadata": {
        "id": "AQU4j85Xwx73"
      },
      "execution_count": null,
      "outputs": []
    },
    {
      "cell_type": "code",
      "source": [
        "Q7. What qualifies ASCII text as a form of Unicode text?\n",
        "Ans.\n",
        "The first 128 Unicode code points represent the ASCII characters, which means that any ASCII text is also a UTF-8 text.\n",
        "ASCII has its equivalent in Unicode. The difference between ASCII and Unicode is that ASCII represents lowercase letters (a-z), uppercase letters (A-Z), \n",
        "digits (0–9) and symbols such as punctuation marks while Unicode represents letters of English, Arabic, Greek etc."
      ],
      "metadata": {
        "id": "x_Vrte3gxWYB"
      },
      "execution_count": null,
      "outputs": []
    },
    {
      "cell_type": "code",
      "source": [
        "Q8. How much of an effect does the change in string types in Python 3.X have on your code?\n",
        "Ans.\n",
        "One of the most noticeable changes in Python 3.0 is the mutation of string object types. In a nutshell, 2.X's str and unicode types have morphed into 3.X's bytes and str types, and a new mutable bytearray type has been added. Especially if you process data that is either Unicode or binary in nature, \n",
        "this can have substantial impacts on your code. As a general rule of thumb, how much you need to care about this topic depends in large part upon"
      ],
      "metadata": {
        "id": "kgwPvKiXxhPj"
      },
      "execution_count": null,
      "outputs": []
    }
  ]
}