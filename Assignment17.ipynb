{
  "cells": [
    {
      "cell_type": "markdown",
      "metadata": {
        "id": "view-in-github",
        "colab_type": "text"
      },
      "source": [
        "<a href=\"https://colab.research.google.com/github/akhil0949/Ass-1---10/blob/main/Assignment17.ipynb\" target=\"_parent\"><img src=\"https://colab.research.google.com/assets/colab-badge.svg\" alt=\"Open In Colab\"/></a>"
      ]
    },
    {
      "cell_type": "markdown",
      "id": "bb55fc15",
      "metadata": {
        "id": "bb55fc15"
      },
      "source": [
        "1. Assign the value 7 to the variable guess_me. Then, write the conditional tests (if, else, and elif) to\n",
        "print the string &#39;too low&#39; if guess_me is less than 7, &#39;too high&#39; if greater than 7, and &#39;just right&#39; if equal\n",
        "to 7.\n"
      ]
    },
    {
      "cell_type": "code",
      "execution_count": null,
      "id": "6b56f61d",
      "metadata": {
        "id": "6b56f61d",
        "outputId": "5f375c27-be5a-4600-927e-ee53de046eae"
      },
      "outputs": [
        {
          "name": "stdout",
          "output_type": "stream",
          "text": [
            "equal to 7\n"
          ]
        }
      ],
      "source": [
        "guess_me =7\n",
        "if guess_me<7:\n",
        "    print('too low')\n",
        "elif guess_me>7:\n",
        "    print('too high')\n",
        "else:\n",
        "    print('equal to 7')"
      ]
    },
    {
      "cell_type": "markdown",
      "id": "9dd9be1c",
      "metadata": {
        "id": "9dd9be1c"
      },
      "source": [
        "2. Assign the value 7 to the variable guess_me and the value 1 to the variable start. Write a while\n",
        "loop that compares start with guess_me. Print too low if start is less than guess me. If start equals\n",
        "guess_me, print &#39;found it!&#39; and exit the loop. If start is greater than guess_me, print &#39;oops&#39; and exit\n",
        "the loop. Increment start at the end of the loop.\n"
      ]
    },
    {
      "cell_type": "code",
      "execution_count": null,
      "id": "8e56174c",
      "metadata": {
        "id": "8e56174c",
        "outputId": "93710acf-fd42-4dd5-fb45-c8ad7673793a"
      },
      "outputs": [
        {
          "name": "stdout",
          "output_type": "stream",
          "text": [
            "too low\n",
            "too low\n",
            "too low\n",
            "too low\n",
            "too low\n",
            "too low\n",
            "found it!\n"
          ]
        }
      ],
      "source": [
        "guess_me =7\n",
        "start = 1\n",
        "while True:\n",
        "    if start < guess_me:\n",
        "        print('too low')\n",
        "    elif start == guess_me:\n",
        "        print('found it!')\n",
        "        break\n",
        "    else:\n",
        "        print('oops')\n",
        "        break\n",
        "    start = start+1"
      ]
    },
    {
      "cell_type": "markdown",
      "id": "45420b1b",
      "metadata": {
        "id": "45420b1b"
      },
      "source": [
        "3. Print the following values of the list [3, 2, 1, 0] using a for loop.\n"
      ]
    },
    {
      "cell_type": "code",
      "execution_count": null,
      "id": "72671fc7",
      "metadata": {
        "id": "72671fc7",
        "outputId": "8717047b-70fc-4ff2-fa22-d994a085e6ac"
      },
      "outputs": [
        {
          "name": "stdout",
          "output_type": "stream",
          "text": [
            "3\n",
            "2\n",
            "1\n",
            "0\n"
          ]
        }
      ],
      "source": [
        "l = [3,2,1,0]\n",
        "for i in l:\n",
        "    print(i)"
      ]
    },
    {
      "cell_type": "markdown",
      "id": "ba95ab95",
      "metadata": {
        "id": "ba95ab95"
      },
      "source": [
        "4. Use a list comprehension to make a list of the even numbers in range(10)\n"
      ]
    },
    {
      "cell_type": "code",
      "execution_count": null,
      "id": "4a0cd83b",
      "metadata": {
        "id": "4a0cd83b",
        "outputId": "968156cd-7374-44b9-eb58-4ab3a7975e55"
      },
      "outputs": [
        {
          "name": "stdout",
          "output_type": "stream",
          "text": [
            "[0, 2, 4, 6, 8]\n"
          ]
        }
      ],
      "source": [
        "even_num = [n for n in range(0,10) if n%2==0]\n",
        "print(even_num)"
      ]
    },
    {
      "cell_type": "markdown",
      "id": "a49f6169",
      "metadata": {
        "id": "a49f6169"
      },
      "source": [
        "5. Use a dictionary comprehension to create the dictionary squares. Use range(10) to return the\n",
        "keys, and use the square of each key as its value.\n"
      ]
    },
    {
      "cell_type": "code",
      "execution_count": null,
      "id": "11ecc69e",
      "metadata": {
        "id": "11ecc69e",
        "outputId": "274cb800-4985-49aa-f10d-4cc306d49714"
      },
      "outputs": [
        {
          "data": {
            "text/plain": [
              "{0: 0, 1: 1, 2: 4, 3: 9, 4: 16, 5: 25, 6: 36, 7: 49, 8: 64, 9: 81}"
            ]
          },
          "execution_count": 10,
          "metadata": {},
          "output_type": "execute_result"
        }
      ],
      "source": [
        "dict = {n :n*n for n in range(0,10)}\n",
        "dict"
      ]
    },
    {
      "cell_type": "markdown",
      "id": "d9c385d4",
      "metadata": {
        "id": "d9c385d4"
      },
      "source": [
        "6. Construct the set odd from the odd numbers in the range using a set comprehension (10).\n"
      ]
    },
    {
      "cell_type": "code",
      "execution_count": null,
      "id": "7f716f70",
      "metadata": {
        "id": "7f716f70",
        "outputId": "b71acf5a-928e-4e7f-ff6b-eba2b8504137"
      },
      "outputs": [
        {
          "data": {
            "text/plain": [
              "{1, 3, 5, 7, 9}"
            ]
          },
          "execution_count": 14,
          "metadata": {},
          "output_type": "execute_result"
        }
      ],
      "source": [
        "odd_num = set(n for n in range(10) if n%2==1)\n",
        "odd_num"
      ]
    },
    {
      "cell_type": "markdown",
      "id": "b098e3c8",
      "metadata": {
        "id": "b098e3c8"
      },
      "source": [
        "8. Define a function called good that returns the list [&#39;Harry&#39;, &#39;Ron&#39;, &#39;Hermione&#39;].\n"
      ]
    },
    {
      "cell_type": "code",
      "execution_count": null,
      "id": "8f78e38c",
      "metadata": {
        "id": "8f78e38c",
        "outputId": "403d94f1-361d-4e21-bd9c-2c57b3f9b0c2"
      },
      "outputs": [
        {
          "data": {
            "text/plain": [
              "['Harry', 'Ron', 'Hermione']"
            ]
          },
          "execution_count": 16,
          "metadata": {},
          "output_type": "execute_result"
        }
      ],
      "source": [
        "def good():\n",
        "    return ['Harry','Ron','Hermione']\n",
        "good()"
      ]
    },
    {
      "cell_type": "markdown",
      "id": "1f352ac0",
      "metadata": {
        "id": "1f352ac0"
      },
      "source": [
        "9. Define a generator function called get_odds that returns the odd numbers from range(10). Use a\n",
        "for loop to find and print the third value returned.\n"
      ]
    },
    {
      "cell_type": "code",
      "execution_count": null,
      "id": "0b5f6eda",
      "metadata": {
        "id": "0b5f6eda",
        "outputId": "9f9bb05f-f65e-434e-a43a-dfc60a2c2c9a"
      },
      "outputs": [
        {
          "name": "stdout",
          "output_type": "stream",
          "text": [
            "The third value is: 5\n"
          ]
        }
      ],
      "source": [
        "def get_odds():\n",
        "    for n in range(1,10,2):\n",
        "        yield n\n",
        "count =1\n",
        "for i in get_odds():\n",
        "    if count == 3:\n",
        "        print(\"The third value is:\",i)\n",
        "        break\n",
        "    count= count+1\n",
        "        "
      ]
    },
    {
      "cell_type": "markdown",
      "id": "33e95357",
      "metadata": {
        "id": "33e95357"
      },
      "source": [
        "10. Define an exception called OopsException. Raise this exception to see what happens. Then write\n",
        "the code to catch this exception and print &#39;Caught an oops&#39;.\n"
      ]
    },
    {
      "cell_type": "code",
      "execution_count": null,
      "id": "6554c349",
      "metadata": {
        "id": "6554c349",
        "outputId": "a2fb76b8-d598-4e84-994a-f3026b10245d"
      },
      "outputs": [
        {
          "name": "stdout",
          "output_type": "stream",
          "text": [
            "Caught an err\n"
          ]
        }
      ],
      "source": [
        "class  OopsException(Exception):\n",
        "    pass\n",
        "\n",
        "def raiseException(num):\n",
        "    \n",
        "    if num <5:\n",
        "        raise OopsException(num)\n",
        "try:\n",
        "    raiseException(4)\n",
        "except OopsException as err:\n",
        "    print('Caught an err')\n",
        "        \n"
      ]
    },
    {
      "cell_type": "markdown",
      "id": "ee7b07d4",
      "metadata": {
        "id": "ee7b07d4"
      },
      "source": [
        "11. Use zip() to make a dictionary called movies that pairs these lists: titles = [&#39;Creature of Habit&#39;,\n",
        "&#39;Crewel Fate&#39;] and plots = [&#39;A nun turns into a monster&#39;, &#39;A haunted yarn shop&#39;]."
      ]
    },
    {
      "cell_type": "code",
      "execution_count": null,
      "id": "4769ca8c",
      "metadata": {
        "id": "4769ca8c",
        "outputId": "94885eff-e54c-47ca-99c0-cb07f44a9476"
      },
      "outputs": [
        {
          "name": "stdout",
          "output_type": "stream",
          "text": [
            "{'creature of Habit': 'A nun turns into a mosster', 'Crewel Fate': 'A haunted yarn shop'}\n"
          ]
        }
      ],
      "source": [
        "titles = ['creature of Habit', 'Crewel Fate']\n",
        "plots = ['A nun turns into a mosster', 'A haunted yarn shop']\n",
        "movies = {}\n",
        "for title,plot in zip(titles,plots):\n",
        "    movies[title] = plot\n",
        "print(movies)"
      ]
    },
    {
      "cell_type": "code",
      "execution_count": null,
      "id": "47b0a252",
      "metadata": {
        "id": "47b0a252"
      },
      "outputs": [],
      "source": [
        ""
      ]
    }
  ],
  "metadata": {
    "kernelspec": {
      "display_name": "Python 3 (ipykernel)",
      "language": "python",
      "name": "python3"
    },
    "language_info": {
      "codemirror_mode": {
        "name": "ipython",
        "version": 3
      },
      "file_extension": ".py",
      "mimetype": "text/x-python",
      "name": "python",
      "nbconvert_exporter": "python",
      "pygments_lexer": "ipython3",
      "version": "3.9.7"
    },
    "colab": {
      "name": "Assignment17.ipynb",
      "provenance": [],
      "include_colab_link": true
    }
  },
  "nbformat": 4,
  "nbformat_minor": 5
}