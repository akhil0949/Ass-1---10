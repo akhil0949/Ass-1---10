{
  "cells": [
    {
      "cell_type": "markdown",
      "id": "f41003ef",
      "metadata": {
        "id": "f41003ef"
      },
      "source": [
        "1. Write a function that takes a positive integer num and calculates how many\n",
        "dots exist in a pentagonal shape around the center dot on the Nth iteration.\n",
        "In the image below you can see the first iteration is only a single dot. On the\n",
        "second, there are 6 dots. On the third, there are 16 dots, and on the fourth\n",
        "there are 31 dots.\n",
        "\n",
        "Return the number of dots that exist in the whole pentagon on the Nth\n",
        "iteration.\n",
        "Examples\n",
        "pentagonal(1) ➞ 1\n",
        "pentagonal(2) ➞ 6\n",
        "pentagonal(3) ➞ 16\n",
        "pentagonal(8) ➞ 141\n",
        "\n"
      ]
    },
    {
      "cell_type": "code",
      "execution_count": null,
      "id": "589b7e85",
      "metadata": {
        "id": "589b7e85"
      },
      "outputs": [],
      "source": [
        "def pentagonal(n):\n",
        "    x = (5*n*n-5*n+2)//2\n",
        "    return x"
      ]
    },
    {
      "cell_type": "code",
      "execution_count": null,
      "id": "21564a46",
      "metadata": {
        "id": "21564a46",
        "outputId": "f0971ec1-2948-4e86-9121-9ac2ae6f4f6f"
      },
      "outputs": [
        {
          "data": {
            "text/plain": [
              "1"
            ]
          },
          "execution_count": 6,
          "metadata": {},
          "output_type": "execute_result"
        }
      ],
      "source": [
        "pentagonal(1)\n"
      ]
    },
    {
      "cell_type": "code",
      "execution_count": null,
      "id": "091e49c5",
      "metadata": {
        "id": "091e49c5",
        "outputId": "d70948ed-7ff9-4939-9f69-463917a68fd8"
      },
      "outputs": [
        {
          "data": {
            "text/plain": [
              "6"
            ]
          },
          "execution_count": 7,
          "metadata": {},
          "output_type": "execute_result"
        }
      ],
      "source": [
        "pentagonal(2)\n"
      ]
    },
    {
      "cell_type": "code",
      "execution_count": null,
      "id": "4ca5f442",
      "metadata": {
        "id": "4ca5f442",
        "outputId": "cfd9ae98-b1dc-46c3-c7bc-8004fcf939d5"
      },
      "outputs": [
        {
          "data": {
            "text/plain": [
              "16"
            ]
          },
          "execution_count": 8,
          "metadata": {},
          "output_type": "execute_result"
        }
      ],
      "source": [
        "pentagonal(3)\n",
        "\n"
      ]
    },
    {
      "cell_type": "code",
      "execution_count": null,
      "id": "2ffb8487",
      "metadata": {
        "id": "2ffb8487",
        "outputId": "231ddf1f-2de5-4317-fe28-e361fd43cede"
      },
      "outputs": [
        {
          "data": {
            "text/plain": [
              "141"
            ]
          },
          "execution_count": 9,
          "metadata": {},
          "output_type": "execute_result"
        }
      ],
      "source": [
        "pentagonal(8)"
      ]
    },
    {
      "cell_type": "markdown",
      "id": "00b3fa9b",
      "metadata": {
        "id": "00b3fa9b"
      },
      "source": [
        "2. Make a function that encrypts a given input with these steps:\n",
        "Input: &quot;apple&quot;\n",
        "Step 1: Reverse the input: &quot;elppa&quot;\n",
        "Step 2: Replace all vowels using the following chart:\n",
        "a =&gt; 0\n",
        "e =&gt; 1\n",
        "i =&gt; 2\n",
        "o =&gt; 2\n",
        "u =&gt; 3\n",
        "# &quot;1lpp0&quot;\n",
        "utput: &quot;1lpp0aca&quot;\n",
        "Examples\n",
        "encrypt(&quot;banana&quot;) ➞ &quot;0n0n0baca&quot;\n",
        "encrypt(&quot;karaca&quot;) ➞ &quot;0c0r0kaca&quot;\n",
        "encrypt(&quot;burak&quot;) ➞ &quot;k0r3baca&quot;\n",
        "encrypt(&quot;alpaca&quot;) ➞ &quot;0c0pl0aca&quot;\n",
        "Step 3: Add &quot;aca&quot; to the end of the word: &quot;1lpp0aca&quot;\n",
        "O"
      ]
    },
    {
      "cell_type": "code",
      "execution_count": null,
      "id": "85e355ad",
      "metadata": {
        "id": "85e355ad"
      },
      "outputs": [],
      "source": [
        "def encrypt(str1):\n",
        "    str1 = str1[::-1]\n",
        "    vowels = 'aeiou'\n",
        "    encoded = [ ]\n",
        "    encrt = {'a':0,'e':1,'i':2,'o':3,'u':4}\n",
        "    for i in range(len(str1)):\n",
        "        if str1[i] in vowels:\n",
        "            encoded.append(str(encrt[str1[i]]))\n",
        "        else:\n",
        "            encoded.append(str1[i])\n",
        "    enc = ''.join(encoded)\n",
        "    enc1 = enc + 'aca'\n",
        "    return enc1\n",
        "        \n",
        "        "
      ]
    },
    {
      "cell_type": "code",
      "execution_count": null,
      "id": "41c7e72a",
      "metadata": {
        "id": "41c7e72a",
        "outputId": "53515a87-a2e1-4c3e-e1b1-1f0122b64661"
      },
      "outputs": [
        {
          "data": {
            "text/plain": [
              "'0n0n0baca'"
            ]
          },
          "execution_count": 28,
          "metadata": {},
          "output_type": "execute_result"
        }
      ],
      "source": [
        "encrypt(\"banana\")"
      ]
    },
    {
      "cell_type": "code",
      "execution_count": null,
      "id": "75af2e8a",
      "metadata": {
        "id": "75af2e8a",
        "outputId": "9c01a32d-1d03-4ca6-8fcf-f02f4145770a"
      },
      "outputs": [
        {
          "data": {
            "text/plain": [
              "'0c0r0kaca'"
            ]
          },
          "execution_count": 29,
          "metadata": {},
          "output_type": "execute_result"
        }
      ],
      "source": [
        " encrypt(\"karaca\") "
      ]
    },
    {
      "cell_type": "code",
      "execution_count": null,
      "id": "3970cbb7",
      "metadata": {
        "id": "3970cbb7",
        "outputId": "592107a8-e6ed-451e-f0ad-668f39cd2854"
      },
      "outputs": [
        {
          "data": {
            "text/plain": [
              "'k0r4baca'"
            ]
          },
          "execution_count": 30,
          "metadata": {},
          "output_type": "execute_result"
        }
      ],
      "source": [
        "encrypt(\"burak\")"
      ]
    },
    {
      "cell_type": "code",
      "execution_count": null,
      "id": "88012e62",
      "metadata": {
        "id": "88012e62",
        "outputId": "77e76380-25e7-4a8c-d9ff-f34dcde3ad59"
      },
      "outputs": [
        {
          "data": {
            "text/plain": [
              "'0c0pl0aca'"
            ]
          },
          "execution_count": 31,
          "metadata": {},
          "output_type": "execute_result"
        }
      ],
      "source": [
        "encrypt(\"alpaca\")"
      ]
    },
    {
      "cell_type": "markdown",
      "id": "7b1f0f52",
      "metadata": {
        "id": "7b1f0f52"
      },
      "source": [
        "3. Given the month and year as numbers, return whether that month contains\n",
        "a Friday 13th.(i.e You can check Python&#39;s datetime module)\n",
        "Examples\n",
        "has_friday_13(3, 2020) ➞ True\n",
        "has_friday_13(10, 2017) ➞ True\n",
        "has_friday_13(1, 1985) ➞ False\n",
        "\n"
      ]
    },
    {
      "cell_type": "code",
      "execution_count": null,
      "id": "fe793990",
      "metadata": {
        "id": "fe793990"
      },
      "outputs": [],
      "source": [
        "def has_friday_13(month,year):\n",
        "    import datetime\n",
        "    d = True if datetime.datetime.strptime('13 '+' '+str(month)+' '+str(year), '%d %m %Y').weekday()==4 else False \n",
        "    return d"
      ]
    },
    {
      "cell_type": "code",
      "execution_count": null,
      "id": "41d29808",
      "metadata": {
        "id": "41d29808",
        "outputId": "183acccc-58bb-4ede-d975-866e5fc09251"
      },
      "outputs": [
        {
          "data": {
            "text/plain": [
              "True"
            ]
          },
          "execution_count": 37,
          "metadata": {},
          "output_type": "execute_result"
        }
      ],
      "source": [
        "has_friday_13(3, 2020)   "
      ]
    },
    {
      "cell_type": "code",
      "execution_count": null,
      "id": "c9eb33aa",
      "metadata": {
        "id": "c9eb33aa",
        "outputId": "c1cc936d-3de9-44af-a5a7-120925e06480"
      },
      "outputs": [
        {
          "data": {
            "text/plain": [
              "True"
            ]
          },
          "execution_count": 38,
          "metadata": {},
          "output_type": "execute_result"
        }
      ],
      "source": [
        "has_friday_13(10, 2017)"
      ]
    },
    {
      "cell_type": "code",
      "execution_count": null,
      "id": "2144578e",
      "metadata": {
        "id": "2144578e",
        "outputId": "53c7779f-ff7a-4338-e176-a6a71a41b893"
      },
      "outputs": [
        {
          "data": {
            "text/plain": [
              "False"
            ]
          },
          "execution_count": 39,
          "metadata": {},
          "output_type": "execute_result"
        }
      ],
      "source": [
        "has_friday_13(1, 1985) "
      ]
    },
    {
      "cell_type": "markdown",
      "id": "ffcd41de",
      "metadata": {
        "id": "ffcd41de"
      },
      "source": [
        "4. Write a regular expression that will help us count how many bad cookies\n",
        "are produced every day. You must use RegEx negative lookbehind.\n",
        "Example\n",
        "lst = [&quot;bad cookie&quot;, &quot;good cookie&quot;, &quot;bad cookie&quot;, &quot;good cookie&quot;, &quot;good cookie&quot;]\n",
        "pattern = &quot;yourregularexpressionhere&quot;\n",
        "len(re.findall(pattern, &quot;, &quot;.join(lst))) ➞ 2\n"
      ]
    },
    {
      "cell_type": "code",
      "execution_count": null,
      "id": "6fa2c116",
      "metadata": {
        "id": "6fa2c116",
        "outputId": "0033463d-00df-43fc-bdb6-0a90ddd507bc"
      },
      "outputs": [
        {
          "data": {
            "text/plain": [
              "2"
            ]
          },
          "execution_count": 8,
          "metadata": {},
          "output_type": "execute_result"
        }
      ],
      "source": [
        "import re\n",
        "lst = [\"bad cookie\", \"good cookie\", \"bad cookie\", \"good cookie\", \"good cookie\"]\n",
        "pattern = \"bad\\s\\w\"\n",
        "len(re.findall(pattern,\",\".join(lst)))"
      ]
    },
    {
      "cell_type": "markdown",
      "id": "f3575bfd",
      "metadata": {
        "id": "f3575bfd"
      },
      "source": [
        "5. Given a list of words in the singular form, return a set of those words in the\n",
        "plural form if they appear more than once in the list.\n",
        "Examples\n",
        "pluralize([&quot;cow&quot;, &quot;pig&quot;, &quot;cow&quot;, &quot;cow&quot;]) ➞ { &quot;cows&quot;, &quot;pig&quot; }\n",
        "pluralize([&quot;table&quot;, &quot;table&quot;, &quot;table&quot;]) ➞ { &quot;tables&quot;}"
      ]
    },
    {
      "cell_type": "code",
      "execution_count": null,
      "id": "3bef4049",
      "metadata": {
        "id": "3bef4049"
      },
      "outputs": [],
      "source": [
        "def pluralize(l):\n",
        "    list1 = []\n",
        "    for i in l:\n",
        "        if l.count(i)> 1:\n",
        "            list1.append(i+'s')\n",
        "        else:\n",
        "            list1.append(i)\n",
        "    return set(list1)"
      ]
    },
    {
      "cell_type": "code",
      "execution_count": null,
      "id": "4700c703",
      "metadata": {
        "id": "4700c703",
        "outputId": "2a79e97e-f1b3-49c6-be14-0629db41ddc1"
      },
      "outputs": [
        {
          "data": {
            "text/plain": [
              "{'cows', 'pig'}"
            ]
          },
          "execution_count": 4,
          "metadata": {},
          "output_type": "execute_result"
        }
      ],
      "source": [
        "pluralize([\"cow\", \"pig\", \"cow\", \"cow\"]) "
      ]
    },
    {
      "cell_type": "code",
      "execution_count": null,
      "id": "31e5ba95",
      "metadata": {
        "id": "31e5ba95",
        "outputId": "c79f6e40-8745-4e06-c90a-53b4c268502d"
      },
      "outputs": [
        {
          "data": {
            "text/plain": [
              "{'tables'}"
            ]
          },
          "execution_count": 5,
          "metadata": {},
          "output_type": "execute_result"
        }
      ],
      "source": [
        "pluralize([\"table\", \"table\", \"table\"])"
      ]
    },
    {
      "cell_type": "code",
      "execution_count": null,
      "id": "1db5c927",
      "metadata": {
        "id": "1db5c927"
      },
      "outputs": [],
      "source": [
        ""
      ]
    }
  ],
  "metadata": {
    "kernelspec": {
      "display_name": "Python 3 (ipykernel)",
      "language": "python",
      "name": "python3"
    },
    "language_info": {
      "codemirror_mode": {
        "name": "ipython",
        "version": 3
      },
      "file_extension": ".py",
      "mimetype": "text/x-python",
      "name": "python",
      "nbconvert_exporter": "python",
      "pygments_lexer": "ipython3",
      "version": "3.9.7"
    },
    "colab": {
      "name": "Assignment2.ipynb",
      "provenance": []
    }
  },
  "nbformat": 4,
  "nbformat_minor": 5
}