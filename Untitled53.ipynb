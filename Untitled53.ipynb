{
  "nbformat": 4,
  "nbformat_minor": 0,
  "metadata": {
    "colab": {
      "name": "Untitled53.ipynb",
      "provenance": [],
      "authorship_tag": "ABX9TyNx8T2COmmW2F+vminVKkKm",
      "include_colab_link": true
    },
    "kernelspec": {
      "name": "python3",
      "display_name": "Python 3"
    },
    "language_info": {
      "name": "python"
    }
  },
  "cells": [
    {
      "cell_type": "markdown",
      "metadata": {
        "id": "view-in-github",
        "colab_type": "text"
      },
      "source": [
        "<a href=\"https://colab.research.google.com/github/akhil0949/Ass-1---10/blob/main/Untitled53.ipynb\" target=\"_parent\"><img src=\"https://colab.research.google.com/assets/colab-badge.svg\" alt=\"Open In Colab\"/></a>"
      ]
    },
    {
      "cell_type": "code",
      "execution_count": null,
      "metadata": {
        "id": "p4fB-u_YLM20"
      },
      "outputs": [],
      "source": [
        "1. Is it possible that an event is independent of itself? If so, when?\n",
        "Ans.\n",
        "The event A is said to be independent of itself if and only if P(A) = 1 or P(A)= 0."
      ]
    },
    {
      "cell_type": "code",
      "source": [
        "2. Is it always true that if A and B are independent events, then Ac and Bc are independent\n",
        "events? Show that it is, or give a counterexample.\n",
        "Ans.\n",
        "Events A and B are independent if the equation P(A∩B) = P(A) · P(B) holds true. You can use the equation to check if events are independent; multiply the probabilities of the two events together to see if they equal the probability of them both happening together."
      ],
      "metadata": {
        "id": "i2DrFqOdLO2s"
      },
      "execution_count": null,
      "outputs": []
    }
  ]
}