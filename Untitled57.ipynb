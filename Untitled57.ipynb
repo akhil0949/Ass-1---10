{
  "nbformat": 4,
  "nbformat_minor": 0,
  "metadata": {
    "colab": {
      "name": "Untitled57.ipynb",
      "provenance": [],
      "authorship_tag": "ABX9TyMKBE2CIGmupv8rf7JT/wFp",
      "include_colab_link": true
    },
    "kernelspec": {
      "name": "python3",
      "display_name": "Python 3"
    },
    "language_info": {
      "name": "python"
    }
  },
  "cells": [
    {
      "cell_type": "markdown",
      "metadata": {
        "id": "view-in-github",
        "colab_type": "text"
      },
      "source": [
        "<a href=\"https://colab.research.google.com/github/akhil0949/Ass-1---10/blob/main/Untitled57.ipynb\" target=\"_parent\"><img src=\"https://colab.research.google.com/assets/colab-badge.svg\" alt=\"Open In Colab\"/></a>"
      ]
    },
    {
      "cell_type": "code",
      "execution_count": null,
      "metadata": {
        "id": "MSbLlatkj344"
      },
      "outputs": [],
      "source": [
        "1. What are the key tasks that machine learning entails? What does data pre-processing imply?\n",
        "Ans.\n",
        "A machine learning task is the type of prediction or inference being made, based on the problem or question that is being asked, and the available data. \n",
        "For example, the classification task assigns data to categories, and the clustering task groups data according to similarity."
      ]
    },
    {
      "cell_type": "code",
      "source": [
        "2. Describe quantitative and qualitative data in depth. Make a distinction between the two.\n",
        "Ans.\n",
        "Quantitative data are measures of values or counts and are expressed as numbers. Quantitative data are data about numeric variables (e.g. how many; how much; or how often). \n",
        "Qualitative data are measures of 'types' and may be represented by a name, symbol, or a number code."
      ],
      "metadata": {
        "id": "JK9zKBfaj9Fl"
      },
      "execution_count": null,
      "outputs": []
    },
    {
      "cell_type": "code",
      "source": [
        "3. Create a basic data collection that includes some sample records. Have at least one attribute from\n",
        "each of the machine learning data types.\n",
        "\n",
        "Ans.\n",
        "Surveys can be easily done online and with ease. Fact that the digital landscape is constantly evolving, online surveys are becoming more and more prevalent every day.\n",
        "\n",
        "Online surveys can be accessed anytime and anywhere. The accessibility that online surveys and questionnaires provide is one of the most significant advantages that you can utilize to collect data from your target audience with ease.\n",
        "\n",
        "Low price method. Compared to the other data collection methods, creating surveys and questionnaires don’t require large spends.\n",
        "\n",
        "Offers a wide range of methods of data collection. When utilizing surveys and questionnaires, you will have the power to collect different data types such as opinions, values, preferences, etc."
      ],
      "metadata": {
        "id": "BX-yiht8j9IK"
      },
      "execution_count": null,
      "outputs": []
    },
    {
      "cell_type": "code",
      "source": [
        "4. What are the various causes of machine learning data issues? What are the ramifications?\n",
        "Ans.\n",
        "1) Understanding Which Processes Need Automation. ...\n",
        "2) Lack of Quality Data. ...\n",
        "3) Inadequate Infrastructure. ...\n",
        "4) Implementation. ...\n",
        "5) Lack of Skilled Resources"
      ],
      "metadata": {
        "id": "yDAGWypgj9NT"
      },
      "execution_count": null,
      "outputs": []
    },
    {
      "cell_type": "code",
      "source": [
        "5. Demonstrate various approaches to categorical data exploration with appropriate examples.\n",
        "Ans.\n",
        "The goal of data exploration is to learn about characteristics and potential problems of a data set without the need to formulate assumptions about the data beforehand.\n",
        "\n",
        "Data exploration is the first step of data analysis used to explore and visualize data to uncover insights from the start or identify areas or patterns to dig into more. \n",
        "Using interactive dashboards and point-and-click data exploration, users can better understand the bigger picture and get to insights faster."
      ],
      "metadata": {
        "id": "DGjXtx-Yj9Ov"
      },
      "execution_count": null,
      "outputs": []
    },
    {
      "cell_type": "code",
      "source": [
        "6. How would the learning activity be affected if certain variables have missing values? Having said\n",
        "that, what can be done about it?\n",
        "Ans.\n",
        "Missing data can reduce the statistical power of a study and can produce biased estimates, leading to invalid conclusions."
      ],
      "metadata": {
        "id": "JLop__knj9P4"
      },
      "execution_count": null,
      "outputs": []
    },
    {
      "cell_type": "code",
      "source": [
        "7. Describe the various methods for dealing with missing data values in depth.\n",
        "Ans.\n",
        "Deleting Rows with missing values\n",
        "Impute missing values for continuous variable\n",
        "Impute missing values for categorical variable\n",
        "Other Imputation Methods\n",
        "Using Algorithms that support missing values\n",
        "Prediction of missing values"
      ],
      "metadata": {
        "id": "si56IF8wj9SP"
      },
      "execution_count": null,
      "outputs": []
    },
    {
      "cell_type": "code",
      "source": [
        "8. What are the various data pre-processing techniques? Explain dimensionality reduction and\n",
        "function selection in a few words.\n",
        "Ans.\n",
        "Data Cleaning.\n",
        "Dimensionality Reduction.\n",
        "Feature Engineering.\n",
        "Sampling Data.\n",
        "Data Transformation.\n",
        "Imbalanced Data."
      ],
      "metadata": {
        "id": "RVxCTx5dj9U3"
      },
      "execution_count": null,
      "outputs": []
    },
    {
      "cell_type": "code",
      "source": [
        "9. i. What is the IQR? What criteria are used to assess it?\n",
        "In descriptive statistics, the interquartile range is a measure of statistical dispersion, which is the spread of the data. The IQR may also be called the midspread, middle 50%, fourth spread, or H‑spread. \n",
        "It is defined as the difference between the 75th and 25th percentiles of the data. \n",
        "\n",
        "Describe the various components of a box plot in detail?\n",
        "A box and whisker plot—also called a box plot—displays the five-number summary of a set of data. The five-number summary is the minimum, first quartile, median, third quartile, and maximum.\n",
        "\n"
      ],
      "metadata": {
        "id": "MqcXepY_j9YM"
      },
      "execution_count": null,
      "outputs": []
    },
    {
      "cell_type": "code",
      "source": [
        "10. Make brief notes on any two of the following:\n",
        "Ans.\n",
        "1. Data collected at regular intervals\n",
        "Interval data is a type of data which is measured along a scale, in which each point is placed at an equal distance (interval) from one another. Interval data is one of the two types of discrete data.\n",
        "\n",
        "2. The gap between the quartiles\n",
        "The median is considered the second quartile (Q2). The interquartile range is the difference between upper and lower quartiles. The semi-interquartile range is half the interquartile range.\n",
        " When the data set is small, it is simple to identify the values of quartiles."
      ],
      "metadata": {
        "id": "aBC518dpj9a5"
      },
      "execution_count": null,
      "outputs": []
    },
    {
      "cell_type": "code",
      "source": [
        "1. Make a comparison between:\n",
        "1. Data with nominal and ordinal values\n",
        "Nominal data is a group of non-parametric variables, while Ordinal data is a group of non-parametric ordered variables\n",
        "\n",
        "2. Histogram and box plot\n",
        "Histograms are a special kind of bar graph that shows a bar for a range of data values instead of a single value. A box plot is a data display that draws a box over a number line to show the interquartile range of the data.\n",
        "\n",
        "3. The average and median\n",
        "The average is the arithmetic mean of a set of numbers. The median is a numeric value that separates the higher half of a set from the lower half."
      ],
      "metadata": {
        "id": "QSk_eXZOj9dN"
      },
      "execution_count": null,
      "outputs": []
    }
  ]
}