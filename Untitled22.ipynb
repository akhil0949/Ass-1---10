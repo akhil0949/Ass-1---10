{
  "nbformat": 4,
  "nbformat_minor": 0,
  "metadata": {
    "colab": {
      "name": "Untitled22.ipynb",
      "provenance": [],
      "authorship_tag": "ABX9TyM1ur4/4XpVKBa6f1cn/HCL",
      "include_colab_link": true
    },
    "kernelspec": {
      "name": "python3",
      "display_name": "Python 3"
    },
    "language_info": {
      "name": "python"
    }
  },
  "cells": [
    {
      "cell_type": "markdown",
      "metadata": {
        "id": "view-in-github",
        "colab_type": "text"
      },
      "source": [
        "<a href=\"https://colab.research.google.com/github/akhil0949/Ass-1---10/blob/main/Untitled22.ipynb\" target=\"_parent\"><img src=\"https://colab.research.google.com/assets/colab-badge.svg\" alt=\"Open In Colab\"/></a>"
      ]
    },
    {
      "cell_type": "code",
      "execution_count": null,
      "metadata": {
        "id": "UMnGAZv-rROC"
      },
      "outputs": [],
      "source": [
        "Q-13. Write an SQL query to show only odd rows from a table.\n",
        "Ans. select * from employees where mod(EMPID,2) <> 0"
      ]
    },
    {
      "cell_type": "code",
      "source": [
        "Q-14. Write an SQL query to clone a new table from another table.\n",
        "Ans. Select * into new_table from old_table."
      ],
      "metadata": {
        "id": "OgWJmoRRraaY"
      },
      "execution_count": null,
      "outputs": []
    }
  ]
}