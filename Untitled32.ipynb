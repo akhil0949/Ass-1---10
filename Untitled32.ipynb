{
  "nbformat": 4,
  "nbformat_minor": 0,
  "metadata": {
    "colab": {
      "name": "Untitled32.ipynb",
      "provenance": [],
      "authorship_tag": "ABX9TyNCTlaUv8K9g3+T1LyDs41l",
      "include_colab_link": true
    },
    "kernelspec": {
      "name": "python3",
      "display_name": "Python 3"
    },
    "language_info": {
      "name": "python"
    }
  },
  "cells": [
    {
      "cell_type": "markdown",
      "metadata": {
        "id": "view-in-github",
        "colab_type": "text"
      },
      "source": [
        "<a href=\"https://colab.research.google.com/github/akhil0949/Ass-1---10/blob/main/Untitled32.ipynb\" target=\"_parent\"><img src=\"https://colab.research.google.com/assets/colab-badge.svg\" alt=\"Open In Colab\"/></a>"
      ]
    },
    {
      "cell_type": "code",
      "execution_count": null,
      "metadata": {
        "id": "hBHcZGa6L8lL"
      },
      "outputs": [],
      "source": [
        "Q1. What is the purpose of the try statement?\n",
        "Ans.\n",
        "Try statement is used to handle these errors within our code in Python. The try block is used to check some code for errors i.e the code inside the try block will execute when there is no error in the program."
      ]
    },
    {
      "cell_type": "code",
      "source": [
        "Q2. What are the two most popular try statement variations?\n",
        "Ans.\n",
        "try:\n",
        "    # Some Code\n",
        "except:\n",
        "    # Executed if error in the\n",
        "    # try block"
      ],
      "metadata": {
        "id": "nZu2p0tVMQDi"
      },
      "execution_count": null,
      "outputs": []
    },
    {
      "cell_type": "code",
      "source": [
        "Q3. What is the purpose of the raise statement?\n",
        "Ans.\n",
        "The raise keyword raises an error and stops the control flow of the program. It is used to bring up the current exception in an exception handler so that it can be handled further up the call stack"
      ],
      "metadata": {
        "id": "cTNbjb6MMQHA"
      },
      "execution_count": null,
      "outputs": []
    },
    {
      "cell_type": "code",
      "source": [
        "Q4. What does the assert statement do, and what other statement is it like?\n",
        "Ans.\n",
        "the assert statement is used to continue the execute if the given condition evaluates to True. If the assert condition evaluates to False, then it raises the AssertionError exception with the specified error message."
      ],
      "metadata": {
        "id": "bxA5xVP_MQKy"
      },
      "execution_count": null,
      "outputs": []
    },
    {
      "cell_type": "code",
      "source": [
        "Q5. What is the purpose of the with/as argument, and what other statement is it like?\n",
        "Ans.\n",
        "The with statement in Python is used for resource management and exception handling. You'd most likely find it when working with file streams. For example, the statement ensures that the file stream process doesn't block other processes if an exception is raised, \n",
        "but terminates properly."
      ],
      "metadata": {
        "id": "Q0rXPMuIMQOI"
      },
      "execution_count": null,
      "outputs": []
    },
    {
      "cell_type": "code",
      "source": [
        ""
      ],
      "metadata": {
        "id": "pLwijOwoMQSB"
      },
      "execution_count": null,
      "outputs": []
    }
  ]
}