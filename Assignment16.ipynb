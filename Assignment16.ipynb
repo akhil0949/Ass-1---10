{
  "cells": [
    {
      "cell_type": "markdown",
      "id": "f6fb2490",
      "metadata": {
        "id": "f6fb2490"
      },
      "source": [
        "1. Rondo Form is a type of musical structure, in which there is a recurring\n",
        "theme/refrain, notated as A. Here are the rules for valid rondo forms:\n",
        "- Rondo forms always start and end with an A section.\n",
        "- In between the A sections, there should be contrasting sections notated as\n",
        "B, then C, then D, etc... No letter should be skipped.\n",
        "- There shouldn&#39;t be any repeats in the sequence (such as ABBACCA).\n",
        "Create a function which validates whether a given string is a valid Rondo\n",
        "Form.\n",
        "Examples\n",
        "valid_rondo(&quot;ABACADAEAFAGAHAIAJA&quot;) ➞ True\n",
        "valid_rondo(&quot;ABA&quot;) ➞ True\n",
        "valid_rondo(&quot;ABBACCA&quot;) ➞ False\n",
        "valid_rondo(&quot;ACAC&quot;) ➞ False\n",
        "valid_rondo(&quot;A&quot;) ➞ False\n"
      ]
    },
    {
      "cell_type": "code",
      "execution_count": null,
      "id": "6d7db209",
      "metadata": {
        "id": "6d7db209"
      },
      "outputs": [],
      "source": [
        "def valid_rondo(s):\n",
        "    letter = ord(\"A\")\n",
        "    next_letter = ord(\"B\")\n",
        "    l= len(s)\n",
        "    if l<2:\n",
        "        return False\n",
        "    elif s[0] and s[l-1] != \"A\":\n",
        "        return False\n",
        "    else:\n",
        "        for i in range(0,l-1,2):\n",
        "#             print(s[i])\n",
        "            if s[i]!= \"A\":\n",
        "                return False\n",
        "            else:\n",
        "                for i in range(1,l-1,2):\n",
        "#                     print(s[i],next_letter)\n",
        "                    if ord(s[i]) != next_letter:\n",
        "                        return False\n",
        "                    else:\n",
        "                        next_letter += 1\n",
        "                return True"
      ]
    },
    {
      "cell_type": "code",
      "execution_count": null,
      "id": "321a9048",
      "metadata": {
        "id": "321a9048",
        "outputId": "ebbd6be5-2980-44a4-abcc-c3299c37face"
      },
      "outputs": [
        {
          "data": {
            "text/plain": [
              "True"
            ]
          },
          "execution_count": 141,
          "metadata": {},
          "output_type": "execute_result"
        }
      ],
      "source": [
        "valid_rondo(\"ABACADAEAFAGAHAIAJA\")"
      ]
    },
    {
      "cell_type": "code",
      "execution_count": null,
      "id": "62cc919a",
      "metadata": {
        "id": "62cc919a",
        "outputId": "85d721ea-2856-474a-a401-e6fe801f2465"
      },
      "outputs": [
        {
          "data": {
            "text/plain": [
              "True"
            ]
          },
          "execution_count": 142,
          "metadata": {},
          "output_type": "execute_result"
        }
      ],
      "source": [
        "valid_rondo(\"ABA\")"
      ]
    },
    {
      "cell_type": "code",
      "execution_count": null,
      "id": "861c4030",
      "metadata": {
        "id": "861c4030",
        "outputId": "f8e6c9f1-a052-40c1-f135-aac67b1ef643"
      },
      "outputs": [
        {
          "data": {
            "text/plain": [
              "False"
            ]
          },
          "execution_count": 143,
          "metadata": {},
          "output_type": "execute_result"
        }
      ],
      "source": [
        "valid_rondo(\"ABBACCA\") "
      ]
    },
    {
      "cell_type": "code",
      "execution_count": null,
      "id": "c20ddb5f",
      "metadata": {
        "id": "c20ddb5f",
        "outputId": "64086709-b647-4cee-8da5-b7dd522432f5"
      },
      "outputs": [
        {
          "data": {
            "text/plain": [
              "False"
            ]
          },
          "execution_count": 144,
          "metadata": {},
          "output_type": "execute_result"
        }
      ],
      "source": [
        "valid_rondo(\"ACAC\")"
      ]
    },
    {
      "cell_type": "code",
      "execution_count": null,
      "id": "cd21f498",
      "metadata": {
        "id": "cd21f498",
        "outputId": "0fcb4daf-9697-4f5b-f816-535078fef047"
      },
      "outputs": [
        {
          "data": {
            "text/plain": [
              "False"
            ]
          },
          "execution_count": 148,
          "metadata": {},
          "output_type": "execute_result"
        }
      ],
      "source": [
        "valid_rondo(\"A\")"
      ]
    },
    {
      "cell_type": "markdown",
      "id": "e2ebbf0b",
      "metadata": {
        "id": "e2ebbf0b"
      },
      "source": [
        "2. Create a function that returns the whole of the first sentence which\n",
        "contains a specific word. Include the full stop at the end of the sentence.\n",
        "Examples\n",
        "txt = &quot;I have a cat. I have a mat. Things are going swell.&quot;\n",
        "sentence_searcher(txt, &quot;have&quot;) ➞ &quot;I have a cat.&quot;\n",
        "sentence_searcher(txt, &quot;MAT&quot;) ➞ &quot;I have a mat.&quot;\n",
        "sentence_searcher(txt, &quot;things&quot;) ➞ &quot;Things are going swell.&quot;\n",
        "sentence_searcher(txt, &quot;flat&quot;) ➞ &quot;&quot;\n"
      ]
    },
    {
      "cell_type": "code",
      "execution_count": null,
      "id": "f038afe1",
      "metadata": {
        "id": "f038afe1"
      },
      "outputs": [],
      "source": [
        "def sentence_searcher(txt, ser):\n",
        "    s = txt.split(\".\")\n",
        "    for i in range(len(s)):\n",
        "        if ser.lower() in s[i]:\n",
        "            return s[i]\n",
        "        elif ser.upper() in s[i]:\n",
        "            return s[i]\n",
        "        elif ser.title() in s[i]:\n",
        "            return s[i] \n",
        "    return \"\""
      ]
    },
    {
      "cell_type": "code",
      "execution_count": null,
      "id": "44d44918",
      "metadata": {
        "id": "44d44918"
      },
      "outputs": [],
      "source": [
        "txt = \"I have a cat. I have a mat. Things are going swell.\""
      ]
    },
    {
      "cell_type": "code",
      "execution_count": null,
      "id": "a819f4cb",
      "metadata": {
        "id": "a819f4cb",
        "outputId": "a08eb1fd-9e77-48b9-cbbf-54ee9cd2b89f"
      },
      "outputs": [
        {
          "data": {
            "text/plain": [
              "'I have a cat'"
            ]
          },
          "execution_count": 46,
          "metadata": {},
          "output_type": "execute_result"
        }
      ],
      "source": [
        "sentence_searcher(txt, \"have\") "
      ]
    },
    {
      "cell_type": "code",
      "execution_count": null,
      "id": "17e9e63b",
      "metadata": {
        "id": "17e9e63b",
        "outputId": "5b337ef7-1263-4cbf-f1a7-0ef46cb29482"
      },
      "outputs": [
        {
          "data": {
            "text/plain": [
              "' I have a mat'"
            ]
          },
          "execution_count": 47,
          "metadata": {},
          "output_type": "execute_result"
        }
      ],
      "source": [
        "sentence_searcher(txt, \"MAT\")"
      ]
    },
    {
      "cell_type": "code",
      "execution_count": null,
      "id": "a38a9b64",
      "metadata": {
        "id": "a38a9b64",
        "outputId": "45679e6e-0d3c-43cd-fd1a-138d81bb04e1"
      },
      "outputs": [
        {
          "data": {
            "text/plain": [
              "' Things are going swell'"
            ]
          },
          "execution_count": 48,
          "metadata": {},
          "output_type": "execute_result"
        }
      ],
      "source": [
        "sentence_searcher(txt, \"things\") "
      ]
    },
    {
      "cell_type": "code",
      "execution_count": null,
      "id": "6e58197e",
      "metadata": {
        "id": "6e58197e",
        "outputId": "95b0fa07-814b-4753-ba95-0242cd197faa"
      },
      "outputs": [
        {
          "data": {
            "text/plain": [
              "''"
            ]
          },
          "execution_count": 42,
          "metadata": {},
          "output_type": "execute_result"
        }
      ],
      "source": [
        "sentence_searcher(txt, \"flat\")"
      ]
    },
    {
      "cell_type": "markdown",
      "id": "97b8e93d",
      "metadata": {
        "id": "97b8e93d"
      },
      "source": [
        "3. Given a number, find the &quot;round &quot;of each digit of the number. An integer is\n",
        "called &quot;round&quot; if all its digits except the leftmost (most significant) are equal to\n",
        "zero.\n",
        "- Round numbers: 4000, 1, 9, 800, 90\n",
        "- Not round numbers: 110, 707, 222, 1001\n",
        "\n",
        "Create a function that takes a number and returns the &quot;round&quot; of each digit\n",
        "(except if the digit is zero) as a string. Check out the following examples for\n",
        "more clarification.\n",
        "Examples\n",
        "sum_round(101) ➞ &quot;1 100&quot;\n",
        "sum_round(1234) ➞ &quot;4 30 200 1000&quot;\n",
        "sum_round(54210) ➞ &quot;10 200 4000 50000&quot;\n",
        "\n"
      ]
    },
    {
      "cell_type": "code",
      "execution_count": null,
      "id": "1b190521",
      "metadata": {
        "id": "1b190521"
      },
      "outputs": [],
      "source": [
        "def sum_round(n):\n",
        "    n = str(n)\n",
        "    l = len(n)\n",
        "    s = \"\"\n",
        "    for i in range(l):\n",
        "        if int(n)%10!=0:\n",
        "            s = s + (str((int(n)%10)*(10**i)))\n",
        "            s+= \" \"\n",
        "        n = int(n)//10\n",
        "    return s"
      ]
    },
    {
      "cell_type": "code",
      "execution_count": null,
      "id": "0cd2f6a3",
      "metadata": {
        "id": "0cd2f6a3",
        "outputId": "a0f8c76f-94f2-46e3-cc43-c9c46aaadec6"
      },
      "outputs": [
        {
          "data": {
            "text/plain": [
              "'1 100 '"
            ]
          },
          "execution_count": 154,
          "metadata": {},
          "output_type": "execute_result"
        }
      ],
      "source": [
        "sum_round(101) \n",
        "    "
      ]
    },
    {
      "cell_type": "code",
      "execution_count": null,
      "id": "2c3446e8",
      "metadata": {
        "id": "2c3446e8",
        "outputId": "25e99d7c-383c-4a41-b15d-184f6dff64c0"
      },
      "outputs": [
        {
          "data": {
            "text/plain": [
              "'4 30 200 1000 '"
            ]
          },
          "execution_count": 138,
          "metadata": {},
          "output_type": "execute_result"
        }
      ],
      "source": [
        "sum_round(1234)"
      ]
    },
    {
      "cell_type": "code",
      "execution_count": null,
      "id": "d18b91f8",
      "metadata": {
        "id": "d18b91f8",
        "outputId": "4078dc18-a582-4513-a841-2fb305f760df"
      },
      "outputs": [
        {
          "data": {
            "text/plain": [
              "'10 200 4000 50000 '"
            ]
          },
          "execution_count": 139,
          "metadata": {},
          "output_type": "execute_result"
        }
      ],
      "source": [
        "sum_round(54210) "
      ]
    },
    {
      "cell_type": "markdown",
      "id": "67c15fc5",
      "metadata": {
        "id": "67c15fc5"
      },
      "source": [
        "4. Your task, is to create N x N multiplication table, of size n provided in\n",
        "parameter.\n",
        "For example, when n is 5, the multiplication table is:\n",
        "- 1, 2, 3, 4, 5\n",
        "- 2, 4, 6, 8, 10\n",
        "- 3, 6, 9, 12, 15\n",
        "- 4, 8, 12, 16, 20\n",
        "- 5, 10, 15, 20, 25\n",
        "This example will result in:\n",
        "[[1, 2, 3, 4, 5], [2, 4, 6, 8, 10], [3, 6, 9, 12, 15], [4, 8, 12, 16, 20], [5, 10, 15, 20,\n",
        "25]]\n",
        "Examples\n",
        "multiplication_table(1) ➞ [[1]]\n",
        "multiplication_table(3) ➞ [[1, 2, 3], [2, 4, 6], [3, 6, 9]]"
      ]
    },
    {
      "cell_type": "code",
      "execution_count": null,
      "id": "64791aec",
      "metadata": {
        "id": "64791aec"
      },
      "outputs": [],
      "source": [
        ""
      ]
    },
    {
      "cell_type": "code",
      "execution_count": null,
      "id": "cacc4e44",
      "metadata": {
        "id": "cacc4e44"
      },
      "outputs": [],
      "source": [
        "def multiplication_table(n):\n",
        "    x = 1\n",
        "    temp = []\n",
        "    tab = []\n",
        "    while x<= n:\n",
        "        temp = []\n",
        "        for i in range(1,n+1):\n",
        "            temp.append(i*x)\n",
        "        tab.append(temp)\n",
        "        x = x+1\n",
        "    return tab"
      ]
    },
    {
      "cell_type": "code",
      "execution_count": null,
      "id": "4848ddf7",
      "metadata": {
        "id": "4848ddf7",
        "outputId": "2f7c94f1-0571-45a7-9f85-a72200d02a12"
      },
      "outputs": [
        {
          "data": {
            "text/plain": [
              "[[1]]"
            ]
          },
          "execution_count": 53,
          "metadata": {},
          "output_type": "execute_result"
        }
      ],
      "source": [
        "multiplication_table(1)"
      ]
    },
    {
      "cell_type": "code",
      "execution_count": null,
      "id": "a9002e03",
      "metadata": {
        "id": "a9002e03",
        "outputId": "980e4143-4a8b-47a3-b7e3-e52cfd450e38"
      },
      "outputs": [
        {
          "data": {
            "text/plain": [
              "[[1, 2, 3], [2, 4, 6], [3, 6, 9]]"
            ]
          },
          "execution_count": 54,
          "metadata": {},
          "output_type": "execute_result"
        }
      ],
      "source": [
        "multiplication_table(3)"
      ]
    },
    {
      "cell_type": "code",
      "execution_count": null,
      "id": "f42d5f78",
      "metadata": {
        "id": "f42d5f78",
        "outputId": "9e45d90c-4324-4fe8-e657-6f80ca738d82"
      },
      "outputs": [
        {
          "data": {
            "text/plain": [
              "[[1, 2, 3, 4, 5],\n",
              " [2, 4, 6, 8, 10],\n",
              " [3, 6, 9, 12, 15],\n",
              " [4, 8, 12, 16, 20],\n",
              " [5, 10, 15, 20, 25]]"
            ]
          },
          "execution_count": 55,
          "metadata": {},
          "output_type": "execute_result"
        }
      ],
      "source": [
        "multiplication_table(5)"
      ]
    },
    {
      "cell_type": "code",
      "execution_count": null,
      "id": "c912451c",
      "metadata": {
        "id": "c912451c",
        "outputId": "56b58375-27e4-4e6e-d834-7771b60a5517"
      },
      "outputs": [
        {
          "data": {
            "text/plain": [
              "[[1, 2, 3, 4, 5, 6],\n",
              " [2, 4, 6, 8, 10, 12],\n",
              " [3, 6, 9, 12, 15, 18],\n",
              " [4, 8, 12, 16, 20, 24],\n",
              " [5, 10, 15, 20, 25, 30],\n",
              " [6, 12, 18, 24, 30, 36]]"
            ]
          },
          "execution_count": 56,
          "metadata": {},
          "output_type": "execute_result"
        }
      ],
      "source": [
        "multiplication_table(6)"
      ]
    },
    {
      "cell_type": "markdown",
      "id": "5e91667b",
      "metadata": {
        "id": "5e91667b"
      },
      "source": [
        "5. Create a function that returns True if two lines rhyme and False otherwise.\n",
        "For the purposes of this exercise, two lines rhyme if the last word from each\n",
        "sentence contains the same vowels.\n",
        "Examples\n",
        "does_rhyme(&quot;Sam I am!&quot;, &quot;Green eggs and ham.&quot;) ➞ True\n",
        "does_rhyme(&quot;Sam I am!&quot;, &quot;Green eggs and HAM.&quot;) ➞ True\n",
        "# Capitalization and punctuation should not matter.\n",
        "\n",
        "does_rhyme(&quot;You are off to the races&quot;, &quot;a splendid day.&quot;) ➞ False\n",
        "does_rhyme(&quot;and frequently do?&quot;, &quot;you gotta move.&quot;) ➞ False"
      ]
    },
    {
      "cell_type": "code",
      "execution_count": null,
      "id": "953beeb7",
      "metadata": {
        "id": "953beeb7"
      },
      "outputs": [],
      "source": [
        "def does_rhyme(s1,s2):\n",
        "    x1 = s1.split(\" \")[-1]\n",
        "    x2 = s2.split(\" \")[-1]\n",
        "    n1= \"\"\n",
        "    n2= \"\"\n",
        "    for i in x1:\n",
        "        if (i.isalpha()) == True:\n",
        "            n1 = n1+i\n",
        "    for j in x2:\n",
        "        if j.isalpha() == True:\n",
        "            n2 = n2+j\n",
        "    for k in range(len(s1),0,-1):\n",
        "        if n1 in  n2:\n",
        "            return True\n",
        "        elif n1 in n2.upper():\n",
        "            return True\n",
        "        elif n1.upper() in n2:\n",
        "            return True\n",
        "        else:\n",
        "            return False   \n",
        "    "
      ]
    },
    {
      "cell_type": "code",
      "execution_count": null,
      "id": "fc7492db",
      "metadata": {
        "id": "fc7492db",
        "outputId": "48012962-5b7d-445a-cc1c-b145096047f2"
      },
      "outputs": [
        {
          "data": {
            "text/plain": [
              "True"
            ]
          },
          "execution_count": 75,
          "metadata": {},
          "output_type": "execute_result"
        }
      ],
      "source": [
        "does_rhyme(\"Sam I am!\", \"Green eggs and ham.\") "
      ]
    },
    {
      "cell_type": "code",
      "execution_count": null,
      "id": "c43da7c3",
      "metadata": {
        "id": "c43da7c3",
        "outputId": "3e9bfbef-d88b-47c1-9936-d6b8b73c399f"
      },
      "outputs": [
        {
          "data": {
            "text/plain": [
              "True"
            ]
          },
          "execution_count": 76,
          "metadata": {},
          "output_type": "execute_result"
        }
      ],
      "source": [
        "does_rhyme(\"Sam I am!\", \"Green eggs and HAM.\")"
      ]
    },
    {
      "cell_type": "code",
      "execution_count": null,
      "id": "c4292b41",
      "metadata": {
        "id": "c4292b41",
        "outputId": "009a9f51-7a33-4e11-e5df-a088fa681cca"
      },
      "outputs": [
        {
          "data": {
            "text/plain": [
              "False"
            ]
          },
          "execution_count": 77,
          "metadata": {},
          "output_type": "execute_result"
        }
      ],
      "source": [
        "does_rhyme(\"You are off to the races\", \"a splendid day.\") "
      ]
    },
    {
      "cell_type": "code",
      "execution_count": null,
      "id": "a09a87f8",
      "metadata": {
        "id": "a09a87f8",
        "outputId": "7d3f69a0-e65e-4e1c-e0c4-ffb5a639c841"
      },
      "outputs": [
        {
          "data": {
            "text/plain": [
              "False"
            ]
          },
          "execution_count": 78,
          "metadata": {},
          "output_type": "execute_result"
        }
      ],
      "source": [
        "does_rhyme(\"and frequently do?\", \"you gotta move.\") "
      ]
    }
  ],
  "metadata": {
    "kernelspec": {
      "display_name": "Python 3 (ipykernel)",
      "language": "python",
      "name": "python3"
    },
    "language_info": {
      "codemirror_mode": {
        "name": "ipython",
        "version": 3
      },
      "file_extension": ".py",
      "mimetype": "text/x-python",
      "name": "python",
      "nbconvert_exporter": "python",
      "pygments_lexer": "ipython3",
      "version": "3.9.7"
    },
    "colab": {
      "name": "Assignment16.ipynb",
      "provenance": []
    }
  },
  "nbformat": 4,
  "nbformat_minor": 5
}