{
  "nbformat": 4,
  "nbformat_minor": 0,
  "metadata": {
    "colab": {
      "name": "Untitled9.ipynb",
      "provenance": [],
      "authorship_tag": "ABX9TyPnwprzOqrgU0tzgAzxbuWI",
      "include_colab_link": true
    },
    "kernelspec": {
      "name": "python3",
      "display_name": "Python 3"
    },
    "language_info": {
      "name": "python"
    }
  },
  "cells": [
    {
      "cell_type": "markdown",
      "metadata": {
        "id": "view-in-github",
        "colab_type": "text"
      },
      "source": [
        "<a href=\"https://colab.research.google.com/github/akhil0949/Ass-1---10/blob/main/Untitled9.ipynb\" target=\"_parent\"><img src=\"https://colab.research.google.com/assets/colab-badge.svg\" alt=\"Open In Colab\"/></a>"
      ]
    },
    {
      "cell_type": "code",
      "execution_count": null,
      "metadata": {
        "id": "zRENVfE2qxNO"
      },
      "outputs": [],
      "source": [
        "Q1. What is the relationship between classes and modules?\n",
        "Ans. conceptually, a module is a vaguely defined component that is more or less self-sufficient and more or less provides a certain functionality. \n",
        "     Conceptually, a class is a construct for defining a certain type of object.\n",
        "     "
      ]
    },
    {
      "cell_type": "code",
      "source": [
        "Q2. How do you make instances and classes?\n",
        "Ans. To create instances of a class, you call the class using class name and pass in whatever arguments its __init__ method accepts"
      ],
      "metadata": {
        "id": "QZGeRhEqrmU-"
      },
      "execution_count": null,
      "outputs": []
    },
    {
      "cell_type": "code",
      "source": [
        "Q3. Where and how should be class attributes created?\n",
        "Ans. Class attributes belong to the class itself they will be shared by all the instances. \n",
        "Such attributes are defined in the class body parts usually at the top, for legibility. Unlike class attributes, instance attributes are not shared by objects"
      ],
      "metadata": {
        "id": "nWbzSk6zr3_B"
      },
      "execution_count": null,
      "outputs": []
    },
    {
      "cell_type": "code",
      "source": [
        "Q4. Where and how are instance attributes created?\n",
        "Ans. An instance attribute is a Python variable belonging to one, and only one, object. \n",
        "This variable is only accessible in the scope of this object and it is defined inside the constructor function, __init__(self,..) of the class."
      ],
      "metadata": {
        "id": "MqIKF5kUsCJ5"
      },
      "execution_count": null,
      "outputs": []
    },
    {
      "cell_type": "code",
      "source": [
        "Q5. What does the term 'self' in a Python class mean?\n",
        "Ans. The self parameter is a reference to the current instance of the class, and is used to access variables that belongs to the class."
      ],
      "metadata": {
        "id": "p4dqYTOvsItF"
      },
      "execution_count": null,
      "outputs": []
    },
    {
      "cell_type": "code",
      "source": [
        "Q6. How does a Python class handle operator overloading?\n",
        "Ans. The operator overloading in Python means provide extended meaning beyond their predefined operational meaning. Such as, we use the \"+\" operator for adding two integers as well as joining two strings or merging two lists. \n",
        "We can achieve this as the \"+\" operator is overloaded by the \"int\" class and \"str\" class."
      ],
      "metadata": {
        "id": "ABEoCET0sVKw"
      },
      "execution_count": null,
      "outputs": []
    },
    {
      "cell_type": "code",
      "source": [
        "Q7. When do you consider allowing operator overloading of your classes?\n",
        "Ans. Consider that we have two objects which are a physical representation of a class (user-defined data type) and we have to add two objects with binary '+' operator it throws an error, \n",
        "because compiler don't know how to add two objects. So we define a method for an operator and that process is called operator overloading."
      ],
      "metadata": {
        "id": "4eFlegddsg_w"
      },
      "execution_count": null,
      "outputs": []
    },
    {
      "cell_type": "code",
      "source": [
        "Q8. What is the most popular form of operator overloading?\n",
        "Ans. A very popular and convenient example is the Addition (+) operator. \n",
        "Just think how the '+' operator operates on two numbers and the same operator operates on two strings. It performs “Addition” on numbers whereas it performs “Concatenation” on strings."
      ],
      "metadata": {
        "id": "jPulFhrBsp5B"
      },
      "execution_count": null,
      "outputs": []
    },
    {
      "cell_type": "code",
      "source": [
        "Q9. What are the two most important concepts to grasp in order to comprehend Python OOP code?\n",
        "Ans. we will elaborate on two key concepts of OOP which are inheritance and polymorphism. Both inheritance and polymorphism are key ingredients for designing robust, flexible, and easy-to-maintain software."
      ],
      "metadata": {
        "id": "krZl2NYKsyMB"
      },
      "execution_count": null,
      "outputs": []
    }
  ]
}