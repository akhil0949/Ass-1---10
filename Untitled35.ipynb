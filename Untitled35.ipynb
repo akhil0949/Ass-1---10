{
  "nbformat": 4,
  "nbformat_minor": 0,
  "metadata": {
    "colab": {
      "name": "Untitled35.ipynb",
      "provenance": [],
      "authorship_tag": "ABX9TyOWoWz+0dJaeOc6wamOXKZ5",
      "include_colab_link": true
    },
    "kernelspec": {
      "name": "python3",
      "display_name": "Python 3"
    },
    "language_info": {
      "name": "python"
    }
  },
  "cells": [
    {
      "cell_type": "markdown",
      "metadata": {
        "id": "view-in-github",
        "colab_type": "text"
      },
      "source": [
        "<a href=\"https://colab.research.google.com/github/akhil0949/Ass-1---10/blob/main/Untitled35.ipynb\" target=\"_parent\"><img src=\"https://colab.research.google.com/assets/colab-badge.svg\" alt=\"Open In Colab\"/></a>"
      ]
    },
    {
      "cell_type": "code",
      "execution_count": null,
      "metadata": {
        "id": "qN59HeWoVHRG"
      },
      "outputs": [],
      "source": [
        "Q1. What is the concept of a metaclass?\n",
        "Ans.\n",
        "A metaclass in Python is a class of a class that defines how a class behaves. A class is itself an instance of a metaclass. \n",
        "A class in Python defines how the instance of the class will behave. In order to understand metaclasses well, one needs to have prior experience working with Python classes"
      ]
    },
    {
      "cell_type": "code",
      "source": [
        "Q2. What is the best way to declare a classes metaclass?\n",
        "Ans.\n",
        "In Python 2, you can add a __metaclass__ attribute when you write a class (see next section for the Python 3 syntax): class Foo(object): __metaclass__ = something... [...] If you do so, Python will use the metaclass to create the class Foo ."
      ],
      "metadata": {
        "id": "ehERbRCWVM6U"
      },
      "execution_count": null,
      "outputs": []
    },
    {
      "cell_type": "code",
      "source": [
        "Q3. How do class decorators overlap with metaclasses for handling classes?\n",
        "Ans.\n",
        "Anything you can do with a class decorator, you can of course do with a custom metaclass (just apply the functionality of the \"decorator function\", \n",
        "i.e., the one that takes a class object and modifies it, in the course of the metaclass's __new__ or __init__ that make the class object!-)."
      ],
      "metadata": {
        "id": "mWVqHkIEVyXT"
      },
      "execution_count": null,
      "outputs": []
    },
    {
      "cell_type": "code",
      "source": [
        "Q4. How do class decorators overlap with metaclasses for handling instances?\n",
        "Ans.\n",
        "the class decorators sometimes overlap with metaclasses in terms of functionality. Although they are typically used for managing or augmenting instances, \n",
        "class decorators can also augment classes, independent of any created instances."
      ],
      "metadata": {
        "id": "uMZ2J5M6VM9w"
      },
      "execution_count": null,
      "outputs": []
    },
    {
      "cell_type": "code",
      "source": [
        ""
      ],
      "metadata": {
        "id": "3pybkeo7VNDd"
      },
      "execution_count": null,
      "outputs": []
    }
  ]
}