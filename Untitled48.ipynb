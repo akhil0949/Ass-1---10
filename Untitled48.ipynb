{
  "nbformat": 4,
  "nbformat_minor": 0,
  "metadata": {
    "colab": {
      "name": "Untitled48.ipynb",
      "provenance": [],
      "authorship_tag": "ABX9TyOU5VzYU9lMiIFJjvXNRkjp",
      "include_colab_link": true
    },
    "kernelspec": {
      "name": "python3",
      "display_name": "Python 3"
    },
    "language_info": {
      "name": "python"
    }
  },
  "cells": [
    {
      "cell_type": "markdown",
      "metadata": {
        "id": "view-in-github",
        "colab_type": "text"
      },
      "source": [
        "<a href=\"https://colab.research.google.com/github/akhil0949/Ass-1---10/blob/main/Untitled48.ipynb\" target=\"_parent\"><img src=\"https://colab.research.google.com/assets/colab-badge.svg\" alt=\"Open In Colab\"/></a>"
      ]
    },
    {
      "cell_type": "code",
      "execution_count": null,
      "metadata": {
        "id": "LsTQMyPuBsc3"
      },
      "outputs": [],
      "source": [
        "Q1. Describe the differences between text and binary files in a single paragraph.\n",
        "Ans.\n",
        "\n",
        "Text files are organized around lines, each of which ends with a newline character ('\\n'). The source code files are themselves text files. \n",
        "A binary file is the one in which data is stored in the file in the same way as it is stored in the main memory for processing."
      ]
    },
    {
      "cell_type": "code",
      "source": [
        "Q2. What are some scenarios where using text files will be the better option? When would you like to\n",
        "use binary files instead of text files?\n",
        "Ans.\n",
        "\n",
        "A binary file is the one in which data is stored in the file in the same way as it is stored in the main memory for processing. It is stored in binary format instead of ASCII characters. \n",
        "It is normally used for storing numeric information (int, float, double)"
      ],
      "metadata": {
        "id": "2RNXovv3CA2Y"
      },
      "execution_count": null,
      "outputs": []
    },
    {
      "cell_type": "code",
      "source": [
        "Q3. What are some of the issues with using binary operations to read and write a Python integer\n",
        "directly to disc?\n",
        "Ans.\n",
        "it is possible to encode or decode strings and binary strings using the encode() or decode() function. We need the encoding because in some encodings it is not possible to to decode the strings. This problem compounds when not using non Latin characters like Hebrew, Japanese and Chinese. \n",
        "Because in those languages more than one byte is assigned to each letter. But what do we use when we need to modify a set of bytes, we use a bytearray."
      ],
      "metadata": {
        "id": "81oFHGslCA4_"
      },
      "execution_count": null,
      "outputs": []
    },
    {
      "cell_type": "code",
      "source": [
        "Q4. Describe a benefit of using the with keyword instead of explicitly opening a file.\n",
        "Ans.\n",
        "\n",
        "Using with means that the file will be closed as soon as you leave the block. This is beneficial because closing a file is something that can easily be forgotten and ties up resources that you no longer need."
      ],
      "metadata": {
        "id": "VgpExg-zCA7U"
      },
      "execution_count": null,
      "outputs": []
    },
    {
      "cell_type": "code",
      "source": [
        "Q5. Does Python have the trailing newline while reading a line of text? Does Python append a\n",
        "newline when you write a line of text?\n",
        "Ans.\n",
        "Use the strip() and the rstrip() Methods to Read a Line Without a Newline in Python. \n",
        "The strip() method in Python helps in omitting the spaces that are present at the beginning (leading) and at the end (trailing). Besides white spaces, the strip() method also includes the newline characters.\n",
        "\n",
        "The default value of the end parameter of the built-in print function is \\n , so a new line character is appended to the string."
      ],
      "metadata": {
        "id": "T_CDoBBFCA94"
      },
      "execution_count": null,
      "outputs": []
    },
    {
      "cell_type": "code",
      "source": [
        "Q6. What file operations enable for random-access operation?\n",
        "Ans.\n",
        "This class is used for reading and writing to random access file. A random access file behaves like a large array of bytes. \n",
        "There is a cursor implied to the array called file pointer, by moving the cursor we do the read write operations."
      ],
      "metadata": {
        "id": "ORW34E8qCBAh"
      },
      "execution_count": null,
      "outputs": []
    },
    {
      "cell_type": "code",
      "source": [
        "Q7. When do you think you&#39;ll use the struct package the most?\n",
        "Ans.\n",
        "struct. pack() is the function that converts a given list of values into their corresponding string representation. It requires the user to specify the format and order of the values that need to be converted. \n",
        "The following code shows how to pack some given data into its binary form using the module's struct.\n"
      ],
      "metadata": {
        "id": "1SIFoZPaCBDF"
      },
      "execution_count": null,
      "outputs": []
    },
    {
      "cell_type": "code",
      "source": [
        "Q8. When is pickling the best option?\n",
        "Ans.\n",
        "\n",
        "Pickle in Python is primarily used in serializing and deserializing a Python object structure. In other words, \n",
        "it's the process of converting a Python object into a byte stream to store it in a file/database, maintain program state across sessions, or transport data over the network"
      ],
      "metadata": {
        "id": "mKKsYGCJET5W"
      },
      "execution_count": null,
      "outputs": []
    },
    {
      "cell_type": "code",
      "source": [
        "Q9. When will it be best to use the shelve package?\n",
        "Ans.\n",
        "\n",
        "The shelve module in Python's standard library is a simple yet effective tool for persistent data storage when using a relational database solution is not required. \n",
        "The shelf object defined in this module is dictionary-like object which is persistently stored in a disk file."
      ],
      "metadata": {
        "id": "YEmD20dMET8a"
      },
      "execution_count": null,
      "outputs": []
    },
    {
      "cell_type": "code",
      "source": [
        "Q10. What is a special restriction when using the shelve package, as opposed to using other data\n",
        "dictionaries?\n",
        "Ans.\n",
        "The shelf dictionary has certain restrictions. Only string data type can be used as key in this special dictionary object, whereas any picklable Python object can be used as value."
      ],
      "metadata": {
        "id": "OGd3tvDPET_t"
      },
      "execution_count": null,
      "outputs": []
    }
  ]
}