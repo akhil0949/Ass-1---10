{
  "nbformat": 4,
  "nbformat_minor": 0,
  "metadata": {
    "colab": {
      "name": "Untitled30.ipynb",
      "provenance": [],
      "authorship_tag": "ABX9TyPfW/bEtP5ojf1FgeXez3FQ",
      "include_colab_link": true
    },
    "kernelspec": {
      "name": "python3",
      "display_name": "Python 3"
    },
    "language_info": {
      "name": "python"
    }
  },
  "cells": [
    {
      "cell_type": "markdown",
      "metadata": {
        "id": "view-in-github",
        "colab_type": "text"
      },
      "source": [
        "<a href=\"https://colab.research.google.com/github/akhil0949/Ass-1---10/blob/main/Untitled30.ipynb\" target=\"_parent\"><img src=\"https://colab.research.google.com/assets/colab-badge.svg\" alt=\"Open In Colab\"/></a>"
      ]
    },
    {
      "cell_type": "code",
      "execution_count": null,
      "metadata": {
        "id": "dKoAni2g1eOw"
      },
      "outputs": [],
      "source": [
        "Q-19. Write an SQL query to determine the 5th highest salary without using TOP or limit\n",
        "method.\n",
        "Ans.\n",
        "\n",
        "select * from (Select name,salary,dense_rank() over(ORDER BY salary DESC) as Salary_ranking from employees) where Salary_ranking = 5"
      ]
    },
    {
      "cell_type": "code",
      "source": [
        "Q-20. Write an SQL query to fetch the list of employees with the same salary.\n",
        "Ans.\n",
        "\n",
        "Select * from employees e, employees e1 WHERE e.salary = e1.salary"
      ],
      "metadata": {
        "id": "WNFCAo4E3WnU"
      },
      "execution_count": null,
      "outputs": []
    },
    {
      "cell_type": "code",
      "source": [
        ""
      ],
      "metadata": {
        "id": "-X4pAGZa3Wts"
      },
      "execution_count": null,
      "outputs": []
    },
    {
      "cell_type": "code",
      "source": [
        ""
      ],
      "metadata": {
        "id": "gxS1tvXy3Wu8"
      },
      "execution_count": null,
      "outputs": []
    }
  ]
}