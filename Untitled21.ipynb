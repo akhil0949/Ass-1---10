{
  "nbformat": 4,
  "nbformat_minor": 0,
  "metadata": {
    "colab": {
      "name": "Untitled21.ipynb",
      "provenance": [],
      "authorship_tag": "ABX9TyMGFQ+BeyTGulyBuQR2Etla",
      "include_colab_link": true
    },
    "kernelspec": {
      "name": "python3",
      "display_name": "Python 3"
    },
    "language_info": {
      "name": "python"
    }
  },
  "cells": [
    {
      "cell_type": "markdown",
      "metadata": {
        "id": "view-in-github",
        "colab_type": "text"
      },
      "source": [
        "<a href=\"https://colab.research.google.com/github/akhil0949/Ass-1---10/blob/main/Untitled21.ipynb\" target=\"_parent\"><img src=\"https://colab.research.google.com/assets/colab-badge.svg\" alt=\"Open In Colab\"/></a>"
      ]
    },
    {
      "cell_type": "code",
      "execution_count": null,
      "metadata": {
        "id": "IVz2klUvESbf"
      },
      "outputs": [],
      "source": [
        "Q-1. Write an SQL query to print details of the Workers who have joined in Feb’2014.\n",
        "Ans.\n",
        "select * from Workers where hiredate like '%feb-2014%'"
      ]
    },
    {
      "cell_type": "code",
      "source": [
        "Q-2. Write an SQL query to fetch duplicate records having matching data in some fields of\n",
        "a table.\n",
        "Ans.\n",
        "select Column_name,count(*) from table_name group by column_name having count(*) > 1"
      ],
      "metadata": {
        "id": "52e2cS3LFeu3"
      },
      "execution_count": null,
      "outputs": []
    },
    {
      "cell_type": "code",
      "source": [
        "Q-3. How to remove duplicate rows from Employees table.\n",
        "Ans. \n",
        "DELETE\n",
        "FROM table\n",
        "WHERE col1 IN (\n",
        "    SELECT id\n",
        "    FROM table\n",
        "    GROUP BY id\n",
        "    HAVING (COUNT(col1) > 1)\n",
        ")"
      ],
      "metadata": {
        "id": "vxMtUdruFexP"
      },
      "execution_count": null,
      "outputs": []
    }
  ]
}