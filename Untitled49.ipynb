{
  "nbformat": 4,
  "nbformat_minor": 0,
  "metadata": {
    "colab": {
      "name": "Untitled49.ipynb",
      "provenance": [],
      "authorship_tag": "ABX9TyPRGCGZiG6oiXfLfSEv40r3",
      "include_colab_link": true
    },
    "kernelspec": {
      "name": "python3",
      "display_name": "Python 3"
    },
    "language_info": {
      "name": "python"
    }
  },
  "cells": [
    {
      "cell_type": "markdown",
      "metadata": {
        "id": "view-in-github",
        "colab_type": "text"
      },
      "source": [
        "<a href=\"https://colab.research.google.com/github/akhil0949/Ass-1---10/blob/main/Untitled49.ipynb\" target=\"_parent\"><img src=\"https://colab.research.google.com/assets/colab-badge.svg\" alt=\"Open In Colab\"/></a>"
      ]
    },
    {
      "cell_type": "code",
      "execution_count": null,
      "metadata": {
        "id": "fz5jAUQGEw-d"
      },
      "outputs": [],
      "source": [
        "1. What are the key tasks involved in getting ready to work with machine learning modeling?\n",
        "Ans.\n",
        "Step 1: Collect Data. ...\n",
        "Step 2: Prepare the data. ...\n",
        "Step 3: Choose the model. ...\n",
        "Step 4 Train your machine model. ...\n",
        "Step 5: Evaluation. ...\n",
        "Step 6: Parameter Tuning. ...\n",
        "Step 7: Prediction or Inference."
      ]
    },
    {
      "cell_type": "code",
      "source": [
        "2. What are the different forms of data used in machine learning? Give a specific example for each of\n",
        "them.\n",
        "Ans.\n",
        "Most data can be categorized into 4 basic types from a Machine Learning perspective: numerical data, categorical data, time-series data, and text."
      ],
      "metadata": {
        "id": "YfEw8MVGFZ_D"
      },
      "execution_count": null,
      "outputs": []
    },
    {
      "cell_type": "code",
      "source": [
        "3. Distinguish:\n",
        " 1. Numeric vs. categorical attributes\n",
        " 2. Feature selection vs. dimensionality reduction\n",
        "\n",
        "Ans.\n",
        " 1. Numeric vs. categorical attributes\n",
        " A categorical variable is a category or type. For example, hair color is a categorical value or hometown is a categorical variable. Species, treatment type, and gender are all categorical variables. \n",
        " A numerical variable is a variable where the measurement or number has a numerical meaning.\n",
        "\n",
        " 2. Feature selection vs. dimensionality reduction\n",
        "While both methods are used for reducing the number of features in a dataset, there is an important difference. \n",
        "Feature selection is simply selecting and excluding given features without changing them. Dimensionality reduction transforms features into a lower dimension."
      ],
      "metadata": {
        "id": "2LLqdTiNFaCB"
      },
      "execution_count": null,
      "outputs": []
    },
    {
      "cell_type": "code",
      "source": [
        "4. Make quick notes on any two of the following:\n",
        "Ans.\n",
        "1. The histogram - Histograms group the data in bins and is the fastest way to get idea about the distribution of each attribute in dataset. The following are some of the characteristics of histograms\n",
        "2. Scatter Plot - Scatter plots are used to plot data points on a horizontal and a vertical axis in the attempt to show how much one variable is affected by another. Each row in the data table is represented by a marker whose position depends on its values in the columns set on the X and Y axes.\n",
        "3.3.PCA (Personal Computer Aid) - Principal component analysis (PCA) is a technique used for identification of a smaller number of uncorrelated variables known as principal components from a larger set of data. The technique is widely used to emphasize variation and capture strong patterns in a data set."
      ],
      "metadata": {
        "id": "b8CrGkAuFaEu"
      },
      "execution_count": null,
      "outputs": []
    },
    {
      "cell_type": "code",
      "source": [
        "5. Why is it necessary to investigate data? Is there a discrepancy in how qualitative and quantitative\n",
        "data are explored?\n",
        "Ans.\n",
        "Qualitative and quantitative analysis of data\n",
        "Quantitative research deals with numbers and statistics, while qualitative research deals with words and meanings. Quantitative methods allow you to systematically measure variables and test hypotheses. \n",
        "Qualitative methods allow you to explore concepts and experiences in more detail."
      ],
      "metadata": {
        "id": "SVyvuz7HFaHK"
      },
      "execution_count": null,
      "outputs": []
    },
    {
      "cell_type": "code",
      "source": [
        "6. What are the various histogram shapes? What exactly are ‘bins&#39;?\n",
        "Ans.\n",
        "How would you describe the shape of the histogram? Bell-shaped: A bell-shaped picture, shown below, usually presents a normal distribution. Bimodal: A bimodal shape, shown below, has two peaks. \n",
        "This shape may show that the data has come from two different systems.\n",
        "A histogram displays numerical data by grouping data into \"bins\" of equal width. Each bin is plotted as a bar whose height corresponds to how many data points are in that bin.\n",
        " Bins are also sometimes called \"intervals\", \"classes\", or \"buckets\"."
      ],
      "metadata": {
        "id": "5ML81B2eFaMH"
      },
      "execution_count": null,
      "outputs": []
    },
    {
      "cell_type": "code",
      "source": [
        "7. How do we deal with data outliers?\n",
        "Ans.\n",
        "Set up a filter in your testing tool. Even though this has a little cost, filtering out outliers is worth it. ...\n",
        "Remove or change outliers during post-test analysis. ...\n",
        "Change the value of outliers. ...\n",
        "Consider the underlying distribution. ...\n",
        "Consider the value of mild outliers."
      ],
      "metadata": {
        "id": "e6ZqocSvFaOj"
      },
      "execution_count": null,
      "outputs": []
    },
    {
      "cell_type": "code",
      "source": [
        "8. What are the various central inclination measures? Why does mean vary too much from median in\n",
        "certain data sets?\n",
        "Ans.\n",
        "Mean, Mode , Median are the three central inclination measures.\n",
        "However, because the mean finds the average of all the values, both high and low, the few outlying data points on the high end cause the mean to increase, \n",
        "making it higher than the median. Compare the mean and the median of a data set that has a symmetrical distribution."
      ],
      "metadata": {
        "id": "Hagx1969FaSq"
      },
      "execution_count": null,
      "outputs": []
    },
    {
      "cell_type": "code",
      "source": [
        "9. Describe how a scatter plot can be used to investigate bivariate relationships. Is it possible to find\n",
        "outliers using a scatter plot?\n",
        "Ans.\n",
        "Scatterplots are useful for identifying relationships in bivariate data. In considering the relationship between two quantitative variables, we can sometimes identify one of the variables as the explanatory variable, \n",
        "or independent variable, and the other as the response variable, or dependent variable.\n",
        "\n",
        "An outlier for a scatter plot is the point or points that are farthest from the regression line. There is at least one outlier on a scatter plot in most cases, and there is usually only one outlier. \n",
        "Note that outliers for a scatter plot are very different from outliers for a boxplot."
      ],
      "metadata": {
        "id": "ngSPId4cFaVW"
      },
      "execution_count": null,
      "outputs": []
    },
    {
      "cell_type": "code",
      "source": [
        "10. Describe how cross-tabs can be used to figure out how two variables are related.\n",
        "Ans.\n",
        "To describe the relationship between two categorical variables, we use a special type of table called a cross-tabulation (or \"crosstab\" for short). In a cross-tabulation, the categories of one variable determine the rows of the table, \n",
        "and the categories of the other variable determine the columns."
      ],
      "metadata": {
        "id": "bHaj2E4oFaYC"
      },
      "execution_count": null,
      "outputs": []
    }
  ]
}