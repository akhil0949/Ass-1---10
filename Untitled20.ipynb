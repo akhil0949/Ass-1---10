{
  "nbformat": 4,
  "nbformat_minor": 0,
  "metadata": {
    "colab": {
      "name": "Untitled20.ipynb",
      "provenance": [],
      "authorship_tag": "ABX9TyMmzhUTeyiDCF3VHmou1ZF0",
      "include_colab_link": true
    },
    "kernelspec": {
      "name": "python3",
      "display_name": "Python 3"
    },
    "language_info": {
      "name": "python"
    }
  },
  "cells": [
    {
      "cell_type": "markdown",
      "metadata": {
        "id": "view-in-github",
        "colab_type": "text"
      },
      "source": [
        "<a href=\"https://colab.research.google.com/github/akhil0949/Ass-1---10/blob/main/Untitled20.ipynb\" target=\"_parent\"><img src=\"https://colab.research.google.com/assets/colab-badge.svg\" alt=\"Open In Colab\"/></a>"
      ]
    },
    {
      "cell_type": "code",
      "execution_count": null,
      "metadata": {
        "id": "BOcMy1rlr9iy"
      },
      "outputs": [],
      "source": [
        "Q-1. Write an SQL query to print the first three characters of  FIRST_NAME from Worker\n",
        "table.\n",
        "Ans. SELECT left(FIRST_NAME,3) from Worker;"
      ]
    },
    {
      "cell_type": "code",
      "source": [
        "Q-2. Write an SQL query to find the position of the alphabet (‘a’) in the first name\n",
        "column ‘Amitabh’ from Worker table.\n",
        "\n",
        "Ans. SELECT CHARINDEX('a',first name) from Worker table"
      ],
      "metadata": {
        "id": "KGWtEuJ5sC8g"
      },
      "execution_count": null,
      "outputs": []
    },
    {
      "cell_type": "code",
      "source": [
        "Q-3. Write an SQL query to print the name of employees having the highest salary in each\n",
        "department.\n",
        "Ans. select ename,salary,department from employees where (department,salary) in (select max(salary),department from employees group by department)"
      ],
      "metadata": {
        "id": "QxJcsVqxsC_l"
      },
      "execution_count": null,
      "outputs": []
    }
  ]
}