{
  "nbformat": 4,
  "nbformat_minor": 0,
  "metadata": {
    "colab": {
      "name": "Untitled34.ipynb",
      "provenance": [],
      "authorship_tag": "ABX9TyPMcWG8G1GY825ukuUa/Ub/",
      "include_colab_link": true
    },
    "kernelspec": {
      "name": "python3",
      "display_name": "Python 3"
    },
    "language_info": {
      "name": "python"
    }
  },
  "cells": [
    {
      "cell_type": "markdown",
      "metadata": {
        "id": "view-in-github",
        "colab_type": "text"
      },
      "source": [
        "<a href=\"https://colab.research.google.com/github/akhil0949/Ass-1---10/blob/main/Untitled34.ipynb\" target=\"_parent\"><img src=\"https://colab.research.google.com/assets/colab-badge.svg\" alt=\"Open In Colab\"/></a>"
      ]
    },
    {
      "cell_type": "code",
      "execution_count": null,
      "metadata": {
        "id": "AdKazi8hTta5"
      },
      "outputs": [],
      "source": [
        "Q1. What is the difference between __getattr__ and __getattribute__?\n",
        "Ans.\n",
        "A key difference between __getattr__ and __getattribute__ is that __getattr__ is only invoked if the attribute wasn't found the usual ways. \n",
        "It's good for implementing a fallback for missing attributes, and is probably the one of two you want."
      ]
    },
    {
      "cell_type": "code",
      "source": [
        "Q2. What is the difference between properties and descriptors?\n",
        "Ans.\n",
        "descriptors are a low-level mechanism that lets you hook into an object's attributes being accessed. Properties are a high-level application of this; that is, properties are implemented using descriptors. "
      ],
      "metadata": {
        "id": "x_F9k6toT9z6"
      },
      "execution_count": null,
      "outputs": []
    },
    {
      "cell_type": "code",
      "source": [
        "Q3. What are the key differences in functionality between __getattr__ and __getattribute__, as well as\n",
        "properties and descriptors?\n",
        "Ans.\n",
        "__getattr__ : Python will call __getattr__ method whenever you request an attribute that hasn't already been defined.\n",
        "__getattribute__ : python invokes this method for every attribute regardless whether it exists or not. So why do we need __getattribute__ method? \n",
        "One good reason is that you can prevent access to attributes and make them more secure as shown in the following example.\n",
        "properties : The property function gives us a handy way to implement a simple descriptor without defining a separate class.\n",
        "descriptors : descriptors are a low-level mechanism that lets you hook into an object's attributes being accessed. Properties are a high-level application of this; that is, properties are implemented using descriptors."
      ],
      "metadata": {
        "id": "z139PLYHT92t"
      },
      "execution_count": null,
      "outputs": []
    },
    {
      "cell_type": "code",
      "source": [
        ""
      ],
      "metadata": {
        "id": "MGRL0urCT95z"
      },
      "execution_count": null,
      "outputs": []
    }
  ]
}