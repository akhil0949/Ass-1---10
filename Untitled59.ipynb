{
  "nbformat": 4,
  "nbformat_minor": 0,
  "metadata": {
    "colab": {
      "name": "Untitled59.ipynb",
      "provenance": [],
      "authorship_tag": "ABX9TyMLify8eeSPm41C+VIy6KGJ",
      "include_colab_link": true
    },
    "kernelspec": {
      "name": "python3",
      "display_name": "Python 3"
    },
    "language_info": {
      "name": "python"
    }
  },
  "cells": [
    {
      "cell_type": "markdown",
      "metadata": {
        "id": "view-in-github",
        "colab_type": "text"
      },
      "source": [
        "<a href=\"https://colab.research.google.com/github/akhil0949/Ass-1---10/blob/main/Untitled59.ipynb\" target=\"_parent\"><img src=\"https://colab.research.google.com/assets/colab-badge.svg\" alt=\"Open In Colab\"/></a>"
      ]
    },
    {
      "cell_type": "code",
      "execution_count": null,
      "metadata": {
        "id": "ihVhPqdnbiDz"
      },
      "outputs": [],
      "source": [
        "1. What exactly is a feature? Give an example to illustrate your point.\n",
        "Ans.\n",
        "In machine learning and pattern recognition, a feature is an individual measurable property or characteristic of a phenomenon. Choosing informative, discriminating and \n",
        "independent features is a crucial element of effective algorithms in pattern recognition, classification and regression."
      ]
    },
    {
      "cell_type": "code",
      "source": [
        "2. What are the various circumstances in which feature construction is required?\n",
        "Ans.\n",
        "The process of generating new variables (features) based on already existing variables is known as feature construction.\n",
        "Feature Construction is done by transforming the numerical features into categorical features which is done while performing Binning.\n",
        "Also, feature construction is done by decomposing variables so that these new variables can be used in various machine learning algorithms such as the creation of Dummy Variables by performing Encoding\n",
        "\n",
        "1.Binning\n",
        "2.Encoding\n"
      ],
      "metadata": {
        "id": "mNLPb5LZbwnj"
      },
      "execution_count": null,
      "outputs": []
    },
    {
      "cell_type": "code",
      "source": [
        "3. Describe how nominal variables are encoded.\n",
        "Ans.\n",
        "When we have a feature where variables are just names and there is no order or rank to this variable's feature. For example: City of person lives in, \n",
        "Gender of person, Marital Status, etc… In the above example, We do not have any order or rank, or sequence."
      ],
      "metadata": {
        "id": "rr_Ur7XhbwqU"
      },
      "execution_count": null,
      "outputs": []
    },
    {
      "cell_type": "code",
      "source": [
        "4. Describe how numeric features are converted to categorical features.\n",
        "Ans.\n",
        "Transforming categorical features to numerical features\n",
        "Step 1 - Import the library. import pandas as pd.\n",
        "Step 2 - Setting up the Data. We have created a dictionary and passed it through the pd.DataFrame to create a dataframe with columns \"name\", \"episodes\", \"gender\".\n",
        "Step 3 - Converting the values."
      ],
      "metadata": {
        "id": "M7_ibCY7bwsw"
      },
      "execution_count": null,
      "outputs": []
    },
    {
      "cell_type": "code",
      "source": [
        "5. Describe the feature selection wrapper approach. State the advantages and disadvantages of this\n",
        "approach?\n",
        "Ans.\n",
        "In wrapper methods, the feature selection process is based on a specific machine learning algorithm that we are trying to fit on a given dataset. \n",
        "It follows a greedy search approach by evaluating all the possible combinations of features against the evaluation criterion."
      ],
      "metadata": {
        "id": "IXhOpmntbwvY"
      },
      "execution_count": null,
      "outputs": []
    },
    {
      "cell_type": "code",
      "source": [
        "6. When is a feature considered irrelevant? What can be said to quantify it?\n",
        "Ans.\n",
        "For example, if two features {X1, X2} are highly correlated, then the two features become redundant features since they have same information in terms of correlation measure. In other words,\n",
        " the correlation measure provides statistical association between any given a pair of features."
      ],
      "metadata": {
        "id": "8OO5raKxbwx_"
      },
      "execution_count": null,
      "outputs": []
    },
    {
      "cell_type": "code",
      "source": [
        "7. When is a function considered redundant? What criteria are used to identify features that could\n",
        "be redundant?\n",
        "Ans.\n",
        "In engineering, redundancy is the duplication of critical components or functions of a system with the intention of increasing reliability of the system, usually in the form of a backup or fail-safe, or to improve actual system performance, \n",
        "such as in the case of GNSS receivers, or multi-threaded computer processing."
      ],
      "metadata": {
        "id": "VT4wkmuKbw0c"
      },
      "execution_count": null,
      "outputs": []
    },
    {
      "cell_type": "code",
      "source": [
        "8. What are the various distance measurements used to determine feature similarity?\n",
        "Ans.\n",
        "Perhaps four of the most commonly used distance measures in machine learning are as follows: Hamming Distance. Euclidean Distance. Manhattan Distance"
      ],
      "metadata": {
        "id": "0HCxpxPLbw3A"
      },
      "execution_count": null,
      "outputs": []
    },
    {
      "cell_type": "code",
      "source": [
        "9. State difference between Euclidean and Manhattan distances?\n",
        "Ans.\n",
        "Euclidean distance is the shortest path between source and destination which is a straight line\n",
        "Manhattan distance is sum of all the real distances between source(s) and destination(d) and each distance are always the straight lines"
      ],
      "metadata": {
        "id": "I-r93_UGbw6Y"
      },
      "execution_count": null,
      "outputs": []
    },
    {
      "cell_type": "code",
      "source": [
        "10. Distinguish between feature transformation and feature selection.\n",
        "Ans.\n",
        "The key difference between feature selection and feature extraction techniques used for dimensionality reduction \n",
        "is that while the original features are maintained in the case of feature selection algorithms, the feature extraction algorithms transform the data onto a new feature space."
      ],
      "metadata": {
        "id": "fNnQVfj5bw-D"
      },
      "execution_count": null,
      "outputs": []
    },
    {
      "cell_type": "code",
      "source": [
        "11. Make brief notes on any two of the following:\n",
        "1.SVD (Standard Variable Diameter Diameter)\n",
        "\n",
        "2. Collection of features using a hybrid approach\n",
        "\n",
        "3. The width of the silhouette\n",
        "\n",
        "4. Receiver operating characteristic curve\n",
        "Ans.\n",
        "The symbol or variable for diameter, ⌀, is sometimes used in technical drawings or specifications as a prefix or suffix for a number (e.g. \"⌀ 55 mm\"), indicating that it represents diameter.\n",
        "\n",
        "A hybrid feature selection method is proposed for classification in small sample size data sets. The filter step is based on instance learning taking advantage of the small sample size of data.\n",
        " A few candidate feature subsets are generated since their number corresponds to the number of instances.\n",
        "\n",
        "The original silhouette width\n",
        "a(i) is defined as the average dissimilarity between i and all other objects in A, while c(i,C) is the average dissimilarity between i and all objects in C. s(i) ranges between −1 and 1.\n",
        "\n",
        "A receiver operating characteristic curve, or ROC curve, is a graphical plot that illustrates the diagnostic ability of a binary classifier system as its discrimination threshold is varied. "
      ],
      "metadata": {
        "id": "Es5w1G73bxAv"
      },
      "execution_count": null,
      "outputs": []
    },
    {
      "cell_type": "markdown",
      "source": [
        ""
      ],
      "metadata": {
        "id": "tl0V0tqwdXc4"
      }
    },
    {
      "cell_type": "code",
      "source": [
        ""
      ],
      "metadata": {
        "id": "ONlcfEbjbxDN"
      },
      "execution_count": null,
      "outputs": []
    },
    {
      "cell_type": "code",
      "source": [
        ""
      ],
      "metadata": {
        "id": "hJk3INIybxFq"
      },
      "execution_count": null,
      "outputs": []
    },
    {
      "cell_type": "code",
      "source": [
        ""
      ],
      "metadata": {
        "id": "ySXsEH3JbxIL"
      },
      "execution_count": null,
      "outputs": []
    },
    {
      "cell_type": "code",
      "source": [
        ""
      ],
      "metadata": {
        "id": "3s-otF-DbxKn"
      },
      "execution_count": null,
      "outputs": []
    },
    {
      "cell_type": "code",
      "source": [
        ""
      ],
      "metadata": {
        "id": "QG-SjnJ6bxNX"
      },
      "execution_count": null,
      "outputs": []
    }
  ]
}