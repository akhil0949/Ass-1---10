{
  "nbformat": 4,
  "nbformat_minor": 0,
  "metadata": {
    "colab": {
      "name": "Untitled11.ipynb",
      "provenance": [],
      "authorship_tag": "ABX9TyPf1iw91bhziyoKEkpCpGOf",
      "include_colab_link": true
    },
    "kernelspec": {
      "name": "python3",
      "display_name": "Python 3"
    },
    "language_info": {
      "name": "python"
    }
  },
  "cells": [
    {
      "cell_type": "markdown",
      "metadata": {
        "id": "view-in-github",
        "colab_type": "text"
      },
      "source": [
        "<a href=\"https://colab.research.google.com/github/akhil0949/Ass-1---10/blob/main/Untitled11.ipynb\" target=\"_parent\"><img src=\"https://colab.research.google.com/assets/colab-badge.svg\" alt=\"Open In Colab\"/></a>"
      ]
    },
    {
      "cell_type": "code",
      "execution_count": null,
      "metadata": {
        "id": "fl6NHob86VX3"
      },
      "outputs": [],
      "source": [
        "Q1. Which two operator overloading methods can you use in your classes to support iteration?\n",
        "Ans. The __iter__ returns the iterator object and is implicitly called at the start of loops. The __next__ method returns the next value and is implicitly called at each loop increment. __next__ raises a StopIteration exception when there are no more value to return, \n",
        "which is implicitly captured by looping constructs to stop iterating."
      ]
    },
    {
      "cell_type": "code",
      "source": [
        "Q2. In what contexts do the two operator overloading methods manage printing?\n",
        "Ans. Python allows us to change the default behavior of an operator depending on the operands that we use. This practice is referred to as \"operator overloading\".\n",
        "The functionality of Python operators depends on built-in classes. \n",
        "However, the same operator will behave differently when applied to different types. A good example is the \"+\" operator. \n",
        "This operator will perform an arithmetic operation when applied on two numbers, will concatenate two strings, and will merge two lists."
      ],
      "metadata": {
        "id": "JPidA5LJ6rrf"
      },
      "execution_count": null,
      "outputs": []
    },
    {
      "cell_type": "code",
      "source": [
        "Q3. In a class, how do you intercept slice operations?\n",
        "Ans. \"setslice\" and \"delslice\" are deprecated, if you want to do the interception you need to work with python slice objects passed to \"setitem\" and \"delitem\". \n",
        "If you want to intecept both slices and ordinary accesses this code works perfectly in python"
      ],
      "metadata": {
        "id": "qZzvrvux6rvF"
      },
      "execution_count": null,
      "outputs": []
    },
    {
      "cell_type": "code",
      "source": [
        "Q4. In a class, how do you capture in-place addition?\n",
        "Ans. Python provides the operator x += y to add two objects in-place by calculating the sum x + y and assigning the result to the first operands variable name x "
      ],
      "metadata": {
        "id": "8Nex_2Ys6ryx"
      },
      "execution_count": null,
      "outputs": []
    },
    {
      "cell_type": "code",
      "source": [
        "Q5. When is it appropriate to use operator overloading?\n",
        "Ans. The purpose of operator overloading is to provide a special meaning of an operator for a user-defined data type.\n",
        "we can also use operator overloading to perform different operations using one operator"
      ],
      "metadata": {
        "id": "fcpFHIXN6r3F"
      },
      "execution_count": null,
      "outputs": []
    },
    {
      "cell_type": "code",
      "source": [
        ""
      ],
      "metadata": {
        "id": "bYAShbHQ6r81"
      },
      "execution_count": null,
      "outputs": []
    }
  ]
}