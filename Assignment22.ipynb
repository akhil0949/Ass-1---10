{
  "cells": [
    {
      "cell_type": "markdown",
      "id": "a442ff6a",
      "metadata": {
        "id": "a442ff6a"
      },
      "source": [
        "Q1. What is the result of the code, and explain?\n",
        "\n",
        "Ans: Answer will be \"iNeuron\" because X was defined before function and act as global variable"
      ]
    },
    {
      "cell_type": "code",
      "execution_count": null,
      "id": "ba11fa89",
      "metadata": {
        "id": "ba11fa89",
        "outputId": "bc8d7109-f05a-4409-9ef9-3739f80449a4"
      },
      "outputs": [
        {
          "name": "stdout",
          "output_type": "stream",
          "text": [
            "iNeuron\n"
          ]
        }
      ],
      "source": [
        "X = 'iNeuron'\n",
        "def func():\n",
        "    print(X)\n",
        "\n",
        "func()"
      ]
    },
    {
      "cell_type": "markdown",
      "id": "9dc902fa",
      "metadata": {
        "id": "9dc902fa"
      },
      "source": [
        "Q2.2. What is the result of the code, and explain?\n",
        "\n",
        "Ans:  iNeuron will be  will be the result because X = 'NI' act as a local variable and print is out side the function and the scope of X outside function is global"
      ]
    },
    {
      "cell_type": "code",
      "execution_count": null,
      "id": "6c7ba2a9",
      "metadata": {
        "id": "6c7ba2a9",
        "outputId": "45918fa2-93c9-44cb-8288-a177bd6045f2"
      },
      "outputs": [
        {
          "name": "stdout",
          "output_type": "stream",
          "text": [
            "iNeuron\n"
          ]
        }
      ],
      "source": [
        "X = 'iNeuron'\n",
        "\n",
        "def func():\n",
        "    X = 'NI'\n",
        "func()\n",
        "\n",
        "print(X)"
      ]
    },
    {
      "cell_type": "markdown",
      "id": "f854d074",
      "metadata": {
        "id": "f854d074"
      },
      "source": [
        "Q3.What does this code print, and why?\n",
        "\n",
        "Ans  NI will be printed first because first function is called whose local variable is NI and outside the function X is printed as iNeuron because it takes the global variable"
      ]
    },
    {
      "cell_type": "code",
      "execution_count": null,
      "id": "809f8640",
      "metadata": {
        "id": "809f8640",
        "outputId": "aee45eaf-2e14-4f9f-8172-a702047a5d20"
      },
      "outputs": [
        {
          "name": "stdout",
          "output_type": "stream",
          "text": [
            "NI\n",
            "iNeuron\n"
          ]
        }
      ],
      "source": [
        "X = 'iNeuron'\n",
        "\n",
        "def func():\n",
        "    X = 'NI'\n",
        "    print(X)\n",
        "func()\n",
        "\n",
        "print(X)"
      ]
    },
    {
      "cell_type": "markdown",
      "id": "45b19e1a",
      "metadata": {
        "id": "45b19e1a"
      },
      "source": [
        "Q4. What output does this code produce? Why?\n",
        "\n",
        "Ans: result will be Ni because X in the function is defined as global variable so X was overwritten"
      ]
    },
    {
      "cell_type": "code",
      "execution_count": null,
      "id": "6f1baa37",
      "metadata": {
        "id": "6f1baa37",
        "outputId": "9f1f254d-3832-4137-9401-e5111845d276"
      },
      "outputs": [
        {
          "name": "stdout",
          "output_type": "stream",
          "text": [
            "NI\n"
          ]
        }
      ],
      "source": [
        "X = 'iNeuron'\n",
        "def func():\n",
        "    global X\n",
        "    X = 'NI'\n",
        "\n",
        "func()\n",
        "print(X)"
      ]
    },
    {
      "cell_type": "markdown",
      "id": "8711232e",
      "metadata": {
        "id": "8711232e"
      },
      "source": [
        "Q5. What about this code—what’s the output, and why?\n",
        "\n",
        "Ans : nested() is called and it prints the X of global variable.\n",
        "      func() is called it doesn't give any output\n",
        "      X it will give string X as iNeuron"
      ]
    },
    {
      "cell_type": "code",
      "execution_count": null,
      "id": "f1167250",
      "metadata": {
        "id": "f1167250",
        "outputId": "36e15ff3-7de2-46dc-8691-cc2b3c6f2f5f"
      },
      "outputs": [
        {
          "name": "stdout",
          "output_type": "stream",
          "text": [
            "iNeuron\n"
          ]
        },
        {
          "data": {
            "text/plain": [
              "'iNeuron'"
            ]
          },
          "execution_count": 11,
          "metadata": {},
          "output_type": "execute_result"
        }
      ],
      "source": [
        "X = 'iNeuron'\n",
        "def func():\n",
        "    X = 'NI'\n",
        "def nested():\n",
        "    print(X)\n",
        "    \n",
        "nested()\n",
        "\n",
        "func()\n",
        "X"
      ]
    },
    {
      "cell_type": "markdown",
      "id": "1d8cabfe",
      "metadata": {
        "id": "1d8cabfe"
      },
      "source": [
        "Q6. How about this code: what is its output in Python 3, and explain\n",
        "    \n",
        "Ans:  result will be x not found"
      ]
    },
    {
      "cell_type": "code",
      "execution_count": null,
      "id": "ac2d9929",
      "metadata": {
        "id": "ac2d9929",
        "outputId": "380b94ba-e2d5-4e64-fb69-a6ed2a243c12"
      },
      "outputs": [
        {
          "ename": "SyntaxError",
          "evalue": "no binding for nonlocal 'X' found (Temp/ipykernel_22944/161969117.py, line 5)",
          "output_type": "error",
          "traceback": [
            "\u001b[1;36m  File \u001b[1;32m\"C:\\Users\\SAMARTH\\AppData\\Local\\Temp/ipykernel_22944/161969117.py\"\u001b[1;36m, line \u001b[1;32m5\u001b[0m\n\u001b[1;33m    nonlocal X\u001b[0m\n\u001b[1;37m    ^\u001b[0m\n\u001b[1;31mSyntaxError\u001b[0m\u001b[1;31m:\u001b[0m no binding for nonlocal 'X' found\n"
          ]
        }
      ],
      "source": [
        "def func():\n",
        "    X = 'NI'\n",
        "    \n",
        "def nested():\n",
        "    nonlocal X\n",
        "    X = 'Spam'\n",
        "\n",
        "nested()\n",
        "print(X)\n",
        "\n",
        "func()"
      ]
    },
    {
      "cell_type": "code",
      "execution_count": null,
      "id": "45f48659",
      "metadata": {
        "id": "45f48659"
      },
      "outputs": [],
      "source": [
        ""
      ]
    }
  ],
  "metadata": {
    "kernelspec": {
      "display_name": "Python 3 (ipykernel)",
      "language": "python",
      "name": "python3"
    },
    "language_info": {
      "codemirror_mode": {
        "name": "ipython",
        "version": 3
      },
      "file_extension": ".py",
      "mimetype": "text/x-python",
      "name": "python",
      "nbconvert_exporter": "python",
      "pygments_lexer": "ipython3",
      "version": "3.9.7"
    },
    "colab": {
      "name": "Assignment22.ipynb",
      "provenance": []
    }
  },
  "nbformat": 4,
  "nbformat_minor": 5
}