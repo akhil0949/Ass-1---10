{
  "nbformat": 4,
  "nbformat_minor": 0,
  "metadata": {
    "colab": {
      "name": "Untitled47.ipynb",
      "provenance": [],
      "authorship_tag": "ABX9TyOrxxH9p6MCcKu+d3zzGA+O",
      "include_colab_link": true
    },
    "kernelspec": {
      "name": "python3",
      "display_name": "Python 3"
    },
    "language_info": {
      "name": "python"
    }
  },
  "cells": [
    {
      "cell_type": "markdown",
      "metadata": {
        "id": "view-in-github",
        "colab_type": "text"
      },
      "source": [
        "<a href=\"https://colab.research.google.com/github/akhil0949/Ass-1---10/blob/main/Untitled47.ipynb\" target=\"_parent\"><img src=\"https://colab.research.google.com/assets/colab-badge.svg\" alt=\"Open In Colab\"/></a>"
      ]
    },
    {
      "cell_type": "code",
      "execution_count": null,
      "metadata": {
        "id": "hKEezN169Wlh"
      },
      "outputs": [],
      "source": [
        "Q1. What is the benefit of regular expressions?\n",
        "Ans.\n",
        "Benefits of using Regular Expression\n",
        "Supported by almost any language, there are only a few programming languages which do not understand regular expressions; Do more with less, keep your code cleaner; Faster validations, \n",
        "instead of having many IF and ELSE operators you may validate only once with a regular expression."
      ]
    },
    {
      "cell_type": "code",
      "source": [
        "Q2. Describe the difference between the effects of (ab)c+; and a(bc)+; Which of these, if any, is the\n",
        "unqualified pattern abc+;?\n",
        "Ans.\n",
        "(ab)c+; and a(bc)+ are unqualified pattern."
      ],
      "metadata": {
        "id": "bKaRF4Nk9c3F"
      },
      "execution_count": null,
      "outputs": []
    },
    {
      "cell_type": "code",
      "source": [
        "Q3. How much do you need to use the following sentence while using regular expressions?\n",
        "\n",
        "import re\n",
        "This module provides regular expression matching operations similar to those found in Perl.\n",
        "Regular expressions use the backslash character ('\\') to indicate special forms or to allow special characters to be used without invoking their special meaning.\n",
        "\n",
        "if we use one time , its enough to use for entire program"
      ],
      "metadata": {
        "id": "dGHLy8rm9c5j"
      },
      "execution_count": null,
      "outputs": []
    },
    {
      "cell_type": "code",
      "source": [
        "Q4. Which characters have special significance in square brackets when expressing a range, and\n",
        "under what circumstances?\n",
        "Square brackets match something that you kind of don't know about a string you're looking for. If you are searching for a name in a string but you're not sure of the exact name you could use instead of that letter a square bracket. \n",
        "Everything you put inside these brackets are alternatives in place of one character."
      ],
      "metadata": {
        "id": "8uW3XSJT9c-q"
      },
      "execution_count": null,
      "outputs": []
    },
    {
      "cell_type": "code",
      "source": [
        "Q5. How does compiling a regular-expression object benefit you?\n",
        "Ans.\n",
        "We can combine a regular expression pattern into pattern objects, which can be used for pattern matching. It also helps to search a pattern again without rewriting it."
      ],
      "metadata": {
        "id": "b-rfB2HR9dBO"
      },
      "execution_count": null,
      "outputs": []
    },
    {
      "cell_type": "code",
      "source": [
        "Q6. What are some examples of how to use the match object returned by re.match and re.search?\n",
        "Ans.\n",
        "There is a difference between the use of both functions. Both return the first match of a substring found in the string, but re. match() searches only from the beginning of the string and return match object if found. \n",
        "But if a match of substring is found somewhere in the middle of the string, it returns none."
      ],
      "metadata": {
        "id": "vU_acahb9dEB"
      },
      "execution_count": null,
      "outputs": []
    },
    {
      "cell_type": "code",
      "source": [
        "Q7. What is the difference between using a vertical bar (|) as an alteration and using square brackets\n",
        "as a character set?\n",
        "\n",
        "Ans.\n",
        "The vertical bar is a regex \"or\" means \"a or b\"\n",
        "Square brackets are a character class meaning \"any character from a or b."
      ],
      "metadata": {
        "id": "lpy-kQjF9dG_"
      },
      "execution_count": null,
      "outputs": []
    },
    {
      "cell_type": "code",
      "source": [
        "Q8. In regular-expression search patterns, why is it necessary to use the raw-string indicator (r)? In  \n",
        "replacement strings?\n",
        "Ans.\n",
        "The solution is to use Python’s raw string notation for regular expression patterns; backslashes are not handled in any special way in a string literal prefixed with 'r'. So r\"\\n\" is a two-character string containing '\\' and 'n', \n",
        "while \"\\n\" is a one-character string containing a newline. Usually patterns will be expressed in Python code using this raw string notation."
      ],
      "metadata": {
        "id": "vtZXoyiT9dJb"
      },
      "execution_count": null,
      "outputs": []
    }
  ]
}