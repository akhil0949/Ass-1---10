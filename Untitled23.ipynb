{
  "nbformat": 4,
  "nbformat_minor": 0,
  "metadata": {
    "colab": {
      "name": "Untitled23.ipynb",
      "provenance": [],
      "authorship_tag": "ABX9TyMj33xa7PCwOL6VFnS2VnZf",
      "include_colab_link": true
    },
    "kernelspec": {
      "name": "python3",
      "display_name": "Python 3"
    },
    "language_info": {
      "name": "python"
    }
  },
  "cells": [
    {
      "cell_type": "markdown",
      "metadata": {
        "id": "view-in-github",
        "colab_type": "text"
      },
      "source": [
        "<a href=\"https://colab.research.google.com/github/akhil0949/Ass-1---10/blob/main/Untitled23.ipynb\" target=\"_parent\"><img src=\"https://colab.research.google.com/assets/colab-badge.svg\" alt=\"Open In Colab\"/></a>"
      ]
    },
    {
      "cell_type": "code",
      "execution_count": null,
      "metadata": {
        "id": "ApAjy8MMvHda"
      },
      "outputs": [],
      "source": [
        "Q-15. Write an SQL query to fetch intersecting records of two tables.\n",
        "Ans. \n",
        "select EmpID from Employees intersect EmpID from new_employees"
      ]
    },
    {
      "cell_type": "code",
      "source": [
        "Q-16. Write an SQL query to show records from one table that another table does not\n",
        "have.\n",
        "Ans.\n",
        "select EmpID from Employees except EmpID from new_employees"
      ],
      "metadata": {
        "id": "bzuck55GvWtZ"
      },
      "execution_count": null,
      "outputs": []
    }
  ]
}