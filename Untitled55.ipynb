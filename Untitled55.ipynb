{
  "nbformat": 4,
  "nbformat_minor": 0,
  "metadata": {
    "colab": {
      "name": "Untitled55.ipynb",
      "provenance": [],
      "authorship_tag": "ABX9TyNGCQkUhmM3lnmval5sC6zK",
      "include_colab_link": true
    },
    "kernelspec": {
      "name": "python3",
      "display_name": "Python 3"
    },
    "language_info": {
      "name": "python"
    }
  },
  "cells": [
    {
      "cell_type": "markdown",
      "metadata": {
        "id": "view-in-github",
        "colab_type": "text"
      },
      "source": [
        "<a href=\"https://colab.research.google.com/github/akhil0949/Ass-1---10/blob/main/Untitled55.ipynb\" target=\"_parent\"><img src=\"https://colab.research.google.com/assets/colab-badge.svg\" alt=\"Open In Colab\"/></a>"
      ]
    },
    {
      "cell_type": "code",
      "execution_count": null,
      "metadata": {
        "id": "v8D7OSSXd1c2"
      },
      "outputs": [],
      "source": [
        "1. What is the concept of human learning? Please give two examples.\n",
        "Ans.\n",
        "It is the form of learning which requires higher order mental processes like thinking, reasoning, intelligence, etc. we learn different concepts from childhood. \n",
        "For example, when we see a dog and attach the term 'dog', we learn that the word dog refers to a particular animal"
      ]
    },
    {
      "cell_type": "code",
      "source": [
        "2. What different forms of human learning are there? Are there any machine learning equivalents?\n",
        "Ans.\n",
        "Three Major Types of Learning\n",
        "Learning through association - Classical Conditioning.\n",
        "Learning through consequences – Operant Conditioning.\n",
        "Learning through observation – Modeling/Observational Learning.\n",
        "There are four types of machine learning algorithms: supervised, semi-supervised, unsupervised and reinforcement."
      ],
      "metadata": {
        "id": "wGgBdoL8eAQo"
      },
      "execution_count": null,
      "outputs": []
    },
    {
      "cell_type": "code",
      "source": [
        "3. What is machine learning, and how does it work? What are the key responsibilities of machine\n",
        "learning?\n",
        "Ans.\n",
        "Machine learning (ML) is a type of artificial intelligence (AI) that allows software applications to become more accurate at predicting outcomes without being explicitly programmed to do so. \n",
        "Machine learning algorithms use historical data as input to predict new output values."
      ],
      "metadata": {
        "id": "-NxP2SpjeAS1"
      },
      "execution_count": null,
      "outputs": []
    },
    {
      "cell_type": "code",
      "source": [
        "4. Define the terms penalt and reward in the context of reinforcement learning.\n",
        "Ans.\n",
        "In Reinforcement Learning (RL), agents are trained on a reward and punishment mechanism. The agent is rewarded for correct moves and punished for the wrong ones. \n",
        "In doing so, the agent tries to minimize wrong moves and maximize the right ones."
      ],
      "metadata": {
        "id": "gW6eLXyweAVm"
      },
      "execution_count": null,
      "outputs": []
    },
    {
      "cell_type": "code",
      "source": [
        "5. Explain the term learning as a search?\n",
        "Ans.\n",
        "Definition. Learning can be viewed as a search through the space of all sentences in a concept description language for a sentence that best describes the data. \n",
        "Alternatively, it can be viewed as a search through all hypotheses in a hypothesis space."
      ],
      "metadata": {
        "id": "Ob2U453weAX4"
      },
      "execution_count": null,
      "outputs": []
    },
    {
      "cell_type": "code",
      "source": [
        "6. What are the various goals of machine learning? What is the relationship between these and\n",
        "human learning?\n",
        "Ans.\n",
        "The Goals of Machine Learning.\n",
        "(1) To make the computers smarter, more intelligent. The more direct objective in this aspect is to develop systems (programs) for specific practical learning tasks in application domains. \n",
        "(2) To dev elop computational models of human learning process and perform computer simulations."
      ],
      "metadata": {
        "id": "stIBI4i_ewDk"
      },
      "execution_count": null,
      "outputs": []
    },
    {
      "cell_type": "code",
      "source": [
        "7. Illustrate the various elements of machine learning using a real-life illustration.\n",
        "Ans.\n",
        "Herein, we share few examples of machine learning that we use everyday and perhaps have no idea that they are driven by ML. Siri, Alexa, Google Now are some of the popular examples of virtual personal assistants. \n",
        "As the name suggests, they assist in finding information, when asked over voice."
      ],
      "metadata": {
        "id": "q4lamW6DewFu"
      },
      "execution_count": null,
      "outputs": []
    },
    {
      "cell_type": "code",
      "source": [
        "8. Provide an example of the abstraction method.\n",
        "Ans.\n",
        "Example of Abstract class that has an abstract method\n",
        "abstract class Bike{\n",
        "abstract void run();\n",
        "}\n",
        "class Honda4 extends Bike{\n",
        "void run(){System.out.println(\"running safely\");}\n",
        "public static void main(String args[]){\n",
        "Bike obj = new Honda4();\n",
        "obj.run();"
      ],
      "metadata": {
        "id": "wCKQ-RpCewIq"
      },
      "execution_count": null,
      "outputs": []
    },
    {
      "cell_type": "code",
      "source": [
        "9. What is the concept of generalization? What function does it play in the machine learning\n",
        "process?\n",
        "Ans.\n",
        "\n",
        "Generalization refers to your model's ability to adapt properly to new, previously unseen data, drawn from the same distribution as the one used to create the model\n",
        "\n",
        "In machine learning, classification refers to a predictive modeling problem where a class label is predicted for a given example of input data. Examples of classification problems include: Given an example, \n",
        "classify if it is spam or not. Given a handwritten character, classify it as one of the known characters.\n",
        "\n",
        "The most significant difference between regression vs classification is that while regression helps predict a continuous quantity, classification predicts discrete class labels. \n",
        "There are also some overlaps between the two types of machine learning algorithms."
      ],
      "metadata": {
        "id": "p2PC-FXCewOA"
      },
      "execution_count": null,
      "outputs": []
    },
    {
      "cell_type": "code",
      "source": [
        "11. What is regression, and how does it work? Give an example of a real-world problem that was\n",
        "solved using regression.\n",
        "Ans.\n",
        "Regression is a statistical method used in finance, investing, and other disciplines that attempts to determine the strength and character of the relationship between \n",
        "one dependent variable (usually denoted by Y) and a series of other variables (known as independent variables)."
      ],
      "metadata": {
        "id": "mHINarKufTnW"
      },
      "execution_count": null,
      "outputs": []
    },
    {
      "cell_type": "code",
      "source": [
        "12. Describe the clustering mechanism in detail.\n",
        "Ans.\n",
        "Clustering is the task of dividing the population or data points into a number of groups such that data points in the same groups \n",
        "are more similar to other data points in the same group and dissimilar to the data points in other groups."
      ],
      "metadata": {
        "id": "cnugasUEfTqB"
      },
      "execution_count": null,
      "outputs": []
    },
    {
      "cell_type": "code",
      "source": [
        "13. Make brief observations on two of the following topics:\n",
        "\n",
        "i. Machine learning algorithms are used\n",
        "ii. Studying under supervision\n",
        "iii. Studying without supervision\n",
        "\n",
        "iv. Reinforcement learning is a form of learning based on positive reinforcement.\n",
        "\n",
        "Ans. \n",
        "Studying under supervision : Supervised learning is the types of machine learning in which machines are trained using well \"labelled\" training data, and on basis of that data, machines predict the output. \n",
        "The labelled data means some input data is already tagged with the correct output.\n",
        "\n",
        "Studying without supervision : Unsupervised learning is the training of a machine using information that is neither classified nor labeled and allowing the algorithm to act on that information without guidance. \n",
        "Here the task of the machine is to group unsorted information according to similarities, patterns, and differences without any prior training of data. "
      ],
      "metadata": {
        "id": "KUTU-IuKfTtZ"
      },
      "execution_count": null,
      "outputs": []
    }
  ]
}