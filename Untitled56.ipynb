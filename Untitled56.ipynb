{
  "nbformat": 4,
  "nbformat_minor": 0,
  "metadata": {
    "colab": {
      "name": "Untitled56.ipynb",
      "provenance": [],
      "authorship_tag": "ABX9TyMtGPgVt32iAYA4o5+0DC2+",
      "include_colab_link": true
    },
    "kernelspec": {
      "name": "python3",
      "display_name": "Python 3"
    },
    "language_info": {
      "name": "python"
    }
  },
  "cells": [
    {
      "cell_type": "markdown",
      "metadata": {
        "id": "view-in-github",
        "colab_type": "text"
      },
      "source": [
        "<a href=\"https://colab.research.google.com/github/akhil0949/Ass-1---10/blob/main/Untitled56.ipynb\" target=\"_parent\"><img src=\"https://colab.research.google.com/assets/colab-badge.svg\" alt=\"Open In Colab\"/></a>"
      ]
    },
    {
      "cell_type": "code",
      "execution_count": null,
      "metadata": {
        "id": "we2muhavgjH7"
      },
      "outputs": [],
      "source": [
        "1.Explain the term machine learning, and how does it work? Explain two machine learning\n",
        "applications in the business world. What are some of the ethical concerns that machine learning\n",
        "applications could raise?\n",
        "Ans.\n",
        "Machine learning (ML) is a type of artificial intelligence (AI) that allows software applications to become more accurate at predicting outcomes without being explicitly programmed to do so. \n",
        "Machine learning algorithms use historical data as input to predict new output values.\n",
        "\n",
        "Machine Learning in finance helps in portfolio management, algorithmic trading, loan underwriting, and fraud detection. \n",
        "However, future applications of Machine Learning in finance will include Chatbots and other conversational interfaces for security, customer service, and sentiment analysis."
      ]
    },
    {
      "cell_type": "code",
      "source": [
        "2. Describe the process of human learning:\n",
        "i. Under the supervision of experts\n",
        "\n",
        "ii. With the assistance of experts in an indirect manner\n",
        "\n",
        "iii. Self-education\n",
        "\n",
        "Ans.\n",
        "\n",
        "Humans acquire knowledge through experience either directly or shared by others. Machines acquire knowledge through experience shared in the form of past data. \n",
        "We have the terms, Knowledge, Skill, and Memory being used to define intelligence. Just because you have good memory, that does not mean you are intelligent.\n",
        "\n",
        "\n",
        "Human-guided machine learning is a type of supervised learning, which uses a set of human-labeled training data to develop a model. \n",
        "In supervised learning, the algorithm learns a set of inputs along with corresponding correct outputs.\n",
        "\n",
        "the act or process of educating oneself by one's own efforts especially through reading and informal study"
      ],
      "metadata": {
        "id": "jZ2ZCzFOgz6b"
      },
      "execution_count": null,
      "outputs": []
    },
    {
      "cell_type": "code",
      "source": [
        "3. Provide a few examples of various types of machine learning.\n",
        "Ans.\n",
        "These are three types of machine learning: supervised learning, unsupervised learning, and reinforcement learning."
      ],
      "metadata": {
        "id": "Tf_I8d4Fgz9H"
      },
      "execution_count": null,
      "outputs": []
    },
    {
      "cell_type": "code",
      "source": [
        "4. Examine the various forms of machine learning.\n",
        "Ans.\n",
        "Based on the methods and way of learning, machine learning is divided into mainly four types, which are: Supervised Machine Learning. Unsupervised Machine Learning. Semi-Supervised Machine Learning."
      ],
      "metadata": {
        "id": "cSQddU-8gz_1"
      },
      "execution_count": null,
      "outputs": []
    },
    {
      "cell_type": "code",
      "source": [
        "5. Can you explain what a well-posed learning problem is? Explain the main characteristics that must\n",
        "be present to identify a learning problem properly.\n",
        "Ans. \n",
        "Well Posed Learning Problem – A computer program is said to learn from experience E in context to some task T and some performance measure P, if its performance on T, as was measured by P, upgrades with experience E. \n",
        "\n",
        "Any problem can be segregated as well-posed learning problem if it has three traits – \n",
        "\n",
        "Task\n",
        "Performance Measure \n",
        "Experience "
      ],
      "metadata": {
        "id": "hYYM1xTrg0CZ"
      },
      "execution_count": null,
      "outputs": []
    },
    {
      "cell_type": "code",
      "source": [
        "6. Is machine learning capable of solving all problems? Give a detailed explanation of your answer.\n",
        "Ans.\n",
        "\n",
        "Machine learning is now seen as a silver bullet for solving all problems, but sometimes it is not the answer. \n",
        "“If a typical person can do a mental task with less than one second of thought, we can probably automate it using AI either now or in the near future.”"
      ],
      "metadata": {
        "id": "feUIgm-Mg0FA"
      },
      "execution_count": null,
      "outputs": []
    },
    {
      "cell_type": "code",
      "source": [
        "7. What are the various methods and technologies for solving machine learning problems? Any two\n",
        "of them should be defined in detail.\n",
        "Ans.\n",
        "5 Essential Machine Learning Techniques\n",
        "Regression. Regression methods are used for training supervised ML. ...\n",
        "Classification. Classification algorithms can explain or predict a class value.\n",
        "Clustering. Clustering algorithms are unsupervised learning methods.\n",
        "Decision Trees.\n",
        "Neural Networks."
      ],
      "metadata": {
        "id": "MKBx4z3Hg0Hl"
      },
      "execution_count": null,
      "outputs": []
    },
    {
      "cell_type": "code",
      "source": [
        "8. Can you explain the various forms of supervised learning? Explain each one with an example\n",
        "application.\n",
        "Ans.\n",
        "This is the process of how the machine identifies the objects in Supervised Learning. The main goal of the supervised learning technique is to map the input variable(x) with the output variable(y). \n",
        "Some real-world applications of supervised learning are Risk Assessment, Fraud Detection, Spam filtering, etc."
      ],
      "metadata": {
        "id": "l_Pb-IArg0KL"
      },
      "execution_count": null,
      "outputs": []
    },
    {
      "cell_type": "code",
      "source": [
        "9. What is the difference between supervised and unsupervised learning? With a sample application\n",
        "in each region, explain the differences.\n",
        "Ans.\n",
        "To put it simply, supervised learning uses labeled input and output data, while an unsupervised learning algorithm does not. In supervised learning, \n",
        "the algorithm “learns” from the training dataset by iteratively making predictions on the data and adjusting for the correct answer."
      ],
      "metadata": {
        "id": "R_lES1_7g0Mn"
      },
      "execution_count": null,
      "outputs": []
    },
    {
      "cell_type": "code",
      "source": [
        "10. Describe the machine learning process in depth.\n",
        "Ans.\n",
        "What Is Machine Learning? Machine learning is the process of making systems that learn and improve by themselves, by being specifically programmed. \n",
        "The ultimate goal of machine learning is to design algorithms that automatically help a system gather data and use that data to learn more."
      ],
      "metadata": {
        "id": "hMHObTP5ii9d"
      },
      "execution_count": null,
      "outputs": []
    },
    {
      "cell_type": "code",
      "source": [
        "10. Describe the machine learning process in depth.\n",
        "a. Make brief notes on any two of the following:\n",
        "MATLAB:\n",
        "It's a lousy choice for a general programming language; it's quirky, slow for many tasks (you need to vectorize things to get efficient codes), \n",
        "and not easy to integrate with the outside world. On the other hand, for the things it is good at, it is very very good. Very few things compare\n",
        "\n",
        "Deep learning models can interpret medical images like X-ray, MRI scan, CT scan, etc., to perform diagnosis. \n",
        "The algorithms can detect any risk and flag anomalies in the medical images. Deep learning is extensively used in detecting cancer."
      ],
      "metadata": {
        "id": "8UjTZhmGijAT"
      },
      "execution_count": null,
      "outputs": []
    },
    {
      "cell_type": "code",
      "source": [
        "11. Make a comparison between:-\n",
        "Ans.\n",
        "1. Generalization and abstraction\n",
        "A generalization is a form of abstraction whereby common properties of specific instances are formulated as general concepts or claims. Generalizations posit the existence of a domain or set of elements,\n",
        " as well as one or more common characteristics shared by those elements (thus creating a conceptual model).\n",
        "\n",
        "2. Learning that is guided and unsupervised\n",
        "Unlike supervised learning, no teacher is provided that means no training will be given to the machine. Therefore the machine is restricted to find the hidden structure in unlabeled data by itself.\n",
        "\n",
        "3. Regression and classification\n",
        "The key distinction between Classification vs Regression algorithms is Regression algorithms are used to determine continuous values such as price, income, age, etc. \n",
        "and Classification algorithms are used to forecast or classify the distinct values such as Real or False, Male or Female, Spam or Not Spam, etc."
      ],
      "metadata": {
        "id": "9TIfN6TnijDA"
      },
      "execution_count": null,
      "outputs": []
    },
    {
      "cell_type": "code",
      "source": [
        ""
      ],
      "metadata": {
        "id": "IsF3Mu3FijFW"
      },
      "execution_count": null,
      "outputs": []
    },
    {
      "cell_type": "code",
      "source": [
        ""
      ],
      "metadata": {
        "id": "uhF3rtRsijH6"
      },
      "execution_count": null,
      "outputs": []
    },
    {
      "cell_type": "code",
      "source": [
        ""
      ],
      "metadata": {
        "id": "rqnwnZexg0O2"
      },
      "execution_count": null,
      "outputs": []
    }
  ]
}