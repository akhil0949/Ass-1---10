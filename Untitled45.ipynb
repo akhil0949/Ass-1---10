{
  "nbformat": 4,
  "nbformat_minor": 0,
  "metadata": {
    "colab": {
      "name": "Untitled45.ipynb",
      "provenance": [],
      "authorship_tag": "ABX9TyOXoXNNXhMkLXCfF9yMENq3",
      "include_colab_link": true
    },
    "kernelspec": {
      "name": "python3",
      "display_name": "Python 3"
    },
    "language_info": {
      "name": "python"
    }
  },
  "cells": [
    {
      "cell_type": "markdown",
      "metadata": {
        "id": "view-in-github",
        "colab_type": "text"
      },
      "source": [
        "<a href=\"https://colab.research.google.com/github/akhil0949/Ass-1---10/blob/main/Untitled45.ipynb\" target=\"_parent\"><img src=\"https://colab.research.google.com/assets/colab-badge.svg\" alt=\"Open In Colab\"/></a>"
      ]
    },
    {
      "cell_type": "code",
      "execution_count": null,
      "metadata": {
        "id": "N_xlRgOq3tTI"
      },
      "outputs": [],
      "source": [
        "Q1. Is an assignment operator like += only for show? Is it possible that it would lead to faster results\n",
        "at the runtime?\n",
        "Ans.\n",
        "\n",
        "The Python += Operator. The Python += operator adds two values together and assigns the final value to a variable. This operator is called the addition assignment operator. \n",
        "This operator is often used to add values to a counter variable that tracks how many times something has happened."
      ]
    },
    {
      "cell_type": "code",
      "source": [
        "Q2. What is the smallest number of statements you have to write in most programming languages to\n",
        "replace the Python expression a, b = a + b, a?\n",
        "Ans.\n",
        "\n",
        "In Python, there is a simple and syntactically neat construct to swap variables, we just need to write “x, y = y, x”."
      ],
      "metadata": {
        "id": "KG9yZaXB3wVM"
      },
      "execution_count": null,
      "outputs": []
    },
    {
      "cell_type": "code",
      "source": [
        "Q3. In Python, what is the most effective way to set a list of 100 integers to 0?\n",
        "Ans.\n",
        "num = 100\n",
        "while num:\n",
        "    print(num)\n",
        "    num = num -1\n"
      ],
      "metadata": {
        "id": "V8qUJ8K83wX9"
      },
      "execution_count": null,
      "outputs": []
    },
    {
      "cell_type": "code",
      "source": [
        "Q4. What is the most effective way to initialise a list of 99 integers that repeats the sequence 1, 2, 3?\n",
        "S If necessary, show step-by-step instructions on how to accomplish this.\n",
        "Ans.\n",
        "for i in  range(0,99):\n",
        "    print(i)\n"
      ],
      "metadata": {
        "id": "T-XrNVGm3wiG"
      },
      "execution_count": null,
      "outputs": []
    },
    {
      "cell_type": "code",
      "source": [
        "Q5. If youre using IDLE to run a Python application, explain how to print a multidimensional list as\n",
        "efficiently?\n",
        "\n",
        "Ans.\n",
        "a = [[2, 4, 6, 8, 10], [3, 6, 9, 12, 15], [4, 8, 12, 16, 20]]\n",
        "print(a)"
      ],
      "metadata": {
        "id": "ZQcvbd9-3wkt"
      },
      "execution_count": null,
      "outputs": []
    },
    {
      "cell_type": "code",
      "source": [
        "Q6. Is it possible to use list comprehension with a string? If so, how can you go about doing it?\n",
        "Ans.\n",
        "[expression for element in iterable if condition]\n",
        "names = ['Steve', 'Bill', 'Ram', 'Mohan', 'Abdul']\n",
        "names2 = [s for s in names if 'a' in s]\n",
        "print(names2)"
      ],
      "metadata": {
        "id": "Vf5yl6Jj3wm1"
      },
      "execution_count": null,
      "outputs": []
    },
    {
      "cell_type": "code",
      "source": [
        "Q7. From the command line, how do you get support with a user-written Python programme? Is this\n",
        "possible from inside IDLE?\n",
        "Ans.\n",
        "The Python help function is used to display the documentation of modules, functions, classes, keywords, etc. \n",
        "\n",
        "Syntax:\n",
        "help([object])"
      ],
      "metadata": {
        "id": "XtlZlEnN3wpa"
      },
      "execution_count": null,
      "outputs": []
    },
    {
      "cell_type": "code",
      "source": [
        "Q8. Functions are said to be “first-class objects” in Python but not in most other languages, such as\n",
        "C++ or Java. What can you do in Python with a function (callable object) that you can't do in C or\n",
        "C++?\n",
        "Ans.\n",
        "Python has no support pointers. In C, mostly the functional units are functions as it is a procedural programming language. In Python, mostly the functional units are objects as it is an object oriented programming language. \n",
        "C is a less robust programming language compared to Python."
      ],
      "metadata": {
        "id": "51lc1ioa3wr_"
      },
      "execution_count": null,
      "outputs": []
    },
    {
      "cell_type": "code",
      "source": [
        "Q9. How do you distinguish between a wrapper, a wrapped feature, and a decorator?\n",
        "Ans.\n",
        "Decorator:\n",
        "Allows objects to be composed/add capabilities by wrapping them with a class with the same interface\n",
        "\n",
        "Wrapper:\n",
        "Never heard of this as a design pattern, but I suppose it's just a common name for the above\n",
        "\n",
        "Wraper function:\n",
        "Wrappers around the functions are also knows as decorators which are a very powerful and useful tool in Python"
      ],
      "metadata": {
        "id": "lwLFen_I3wuN"
      },
      "execution_count": null,
      "outputs": []
    },
    {
      "cell_type": "code",
      "source": [
        "Q10. If a function is a generator function, what does it return?\n",
        "Ans.\n",
        "a generator is a function that returns an object (iterator) which we can iterate over (one value at a time)."
      ],
      "metadata": {
        "id": "d5w7vO2M8OiZ"
      },
      "execution_count": null,
      "outputs": []
    },
    {
      "cell_type": "code",
      "source": [
        "Q11. What is the one improvement that must be made to a function in order for it to become a\n",
        "generator function in the Python language?\n",
        "Ans.\n",
        "Create Generators in Python\n",
        "If a function contains at least one yield statement (it may contain other yield or return statements), \n",
        "it becomes a generator function. Both yield and return will return some value from a function."
      ],
      "metadata": {
        "id": "2xzRE1Ld8OlJ"
      },
      "execution_count": null,
      "outputs": []
    },
    {
      "cell_type": "code",
      "source": [
        "Q12. Identify at least one benefit of generators.\n",
        "Ans.\n",
        "Here is advantages of generation expressions within python:\n",
        "Memory efficient method of generating sequence types in python.\n",
        "Adds further brevity and readability to written code. Generator expressions are generator functions shortened.\n",
        "Time-efficient when compared to list comparisons."
      ],
      "metadata": {
        "id": "N1UW7Zll8OoP"
      },
      "execution_count": null,
      "outputs": []
    }
  ]
}