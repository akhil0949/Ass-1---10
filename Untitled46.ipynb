{
  "nbformat": 4,
  "nbformat_minor": 0,
  "metadata": {
    "colab": {
      "name": "Untitled46.ipynb",
      "provenance": [],
      "authorship_tag": "ABX9TyN1o0Nf8CMrQG4XfMBz1DQQ",
      "include_colab_link": true
    },
    "kernelspec": {
      "name": "python3",
      "display_name": "Python 3"
    },
    "language_info": {
      "name": "python"
    }
  },
  "cells": [
    {
      "cell_type": "markdown",
      "metadata": {
        "id": "view-in-github",
        "colab_type": "text"
      },
      "source": [
        "<a href=\"https://colab.research.google.com/github/akhil0949/Ass-1---10/blob/main/Untitled46.ipynb\" target=\"_parent\"><img src=\"https://colab.research.google.com/assets/colab-badge.svg\" alt=\"Open In Colab\"/></a>"
      ]
    },
    {
      "cell_type": "code",
      "execution_count": null,
      "metadata": {
        "id": "klaRsAl-8whI"
      },
      "outputs": [],
      "source": [
        "1. What are the new features added in Python 3.8 version?\n",
        "Ans.\n",
        "Python 3.8 allows the use of the above-discussed assignment operator and equal sign (=) inside the f-strings. \n",
        "For example, say we have two variables “a” and “b”, and we want to print “a + b” along with the result. Here we can use f-strings="
      ]
    },
    {
      "cell_type": "code",
      "source": [
        "2. What is monkey patching in Python?\n",
        "Ans.\n",
        "In Python, the term monkey patch refers to dynamic (or run-time) modifications of a class or module. In Python, we can actually change the behavior of code at run-time."
      ],
      "metadata": {
        "id": "SKGp2T1V83vg"
      },
      "execution_count": null,
      "outputs": []
    },
    {
      "cell_type": "code",
      "source": [
        "3. What is the difference between a shallow copy and deep copy?\n",
        "Ans.\n",
        "In Shallow copy, a copy of the original object is stored and only the reference address is finally copied. In Deep copy, the copy of the original object and the repetitive copies both are stored."
      ],
      "metadata": {
        "id": "Z5Z5Rdyo83yE"
      },
      "execution_count": null,
      "outputs": []
    },
    {
      "cell_type": "code",
      "source": [
        "4. What is the maximum possible length of an identifier?\n",
        "Ans.\n",
        "\n",
        "An identifier can have a maximum length of 79 characters in Python. Python is one of the most popular programming languages."
      ],
      "metadata": {
        "id": "eonU-sTP8307"
      },
      "execution_count": null,
      "outputs": []
    },
    {
      "cell_type": "code",
      "source": [
        "5. What is generator comprehension?\n",
        "Ans.\n",
        "A generator comprehension is a single-line specification for defining a generator in Python. It is absolutely essential to learn this syntax in order to write simple and readable code."
      ],
      "metadata": {
        "id": "Dgmgvkm_833X"
      },
      "execution_count": null,
      "outputs": []
    },
    {
      "cell_type": "code",
      "source": [
        ""
      ],
      "metadata": {
        "id": "4eyTSBgm836C"
      },
      "execution_count": null,
      "outputs": []
    },
    {
      "cell_type": "code",
      "source": [
        ""
      ],
      "metadata": {
        "id": "XCK0hSSz838U"
      },
      "execution_count": null,
      "outputs": []
    }
  ]
}