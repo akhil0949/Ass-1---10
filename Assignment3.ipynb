{
  "cells": [
    {
      "cell_type": "markdown",
      "id": "981708b3",
      "metadata": {
        "id": "981708b3"
      },
      "source": [
        "1. Create a function to perform basic arithmetic operations that includes\n",
        "addition, subtraction, multiplication and division on a string number (e.g. &quot;12 +\n",
        "24&quot; or &quot;23 - 21&quot; or &quot;12 // 12&quot; or &quot;12 * 21&quot;).\n",
        "Here, we have 1 followed by a space, operator followed by another space\n",
        "and 2. For the challenge, we are going to have only two numbers between 1\n",
        "valid operator. The return value should be a number.\n",
        "eval() is not allowed. In case of division, whenever the second number equals\n",
        "&quot;0&quot; return -1.\n",
        "For example:\n",
        "&quot;15 // 0&quot; ➞ -1\n",
        "Examples\n",
        "arithmetic_operation(&quot;12 + 12&quot;) ➞ 24 // 12 + 12 = 24\n",
        "arithmetic_operation(&quot;12 - 12&quot;) ➞ 24 // 12 - 12 = 0\n",
        "arithmetic_operation(&quot;12 * 12&quot;) ➞ 144 // 12 * 12 = 144\n",
        "arithmetic_operation(&quot;12 // 0&quot;) ➞ -1 // 12 / 0 = -1\n"
      ]
    },
    {
      "cell_type": "code",
      "execution_count": null,
      "id": "392c3444",
      "metadata": {
        "id": "392c3444"
      },
      "outputs": [],
      "source": [
        "def arithmetic_operation(str1):\n",
        "    operations = ['+','-','*','/','//','%']\n",
        "    exp1 = list(str1.split())\n",
        "    if exp1[1] == '+':\n",
        "        print('The expression is',str1)\n",
        "        return int(exp1[0])+int(exp1[2])\n",
        "    elif exp1[1]== '-':\n",
        "        print('The expression is',str1)\n",
        "        return int(exp1[0])-int(exp1[2])\n",
        "    elif exp1[1]== '*':\n",
        "        print('The expression is',str1)\n",
        "        return int(exp1[0])*int(exp1[2])\n",
        "    elif exp1[1] =='/':\n",
        "        print('The expression is',str1)\n",
        "        if int(exp1[2])==0 or int(exp1[0])==0:\n",
        "            return -1\n",
        "        else:\n",
        "            return int(exp1[0])/int(exp1[2])\n",
        "    elif exp1[1]=='//':\n",
        "        print('The expression is',str1)\n",
        "        if exp1[2]=='0' or exp1[0]=='0':\n",
        "            return -1\n",
        "        else:\n",
        "            return int(exp1[0])// int(exp1[2])\n",
        "    elif exp1[1]=='%':\n",
        "        print('The expression is',str1)\n",
        "        return int(exp1[0])%int(exp1[2])\n",
        "    "
      ]
    },
    {
      "cell_type": "code",
      "execution_count": null,
      "id": "b0bb3f90",
      "metadata": {
        "id": "b0bb3f90",
        "outputId": "0a2ac46b-63ae-4f91-fa90-02e5ce8aab23"
      },
      "outputs": [
        {
          "name": "stdout",
          "output_type": "stream",
          "text": [
            "The expression is 12 + 12\n"
          ]
        },
        {
          "data": {
            "text/plain": [
              "24"
            ]
          },
          "execution_count": 55,
          "metadata": {},
          "output_type": "execute_result"
        }
      ],
      "source": [
        "arithmetic_operation(\"12 + 12\")"
      ]
    },
    {
      "cell_type": "code",
      "execution_count": null,
      "id": "a0b26e4c",
      "metadata": {
        "id": "a0b26e4c",
        "outputId": "53af1128-3365-46eb-f361-dfff5660ed2e"
      },
      "outputs": [
        {
          "name": "stdout",
          "output_type": "stream",
          "text": [
            "The expression is 12 - 12\n"
          ]
        },
        {
          "data": {
            "text/plain": [
              "0"
            ]
          },
          "execution_count": 56,
          "metadata": {},
          "output_type": "execute_result"
        }
      ],
      "source": [
        "arithmetic_operation(\"12 - 12\")"
      ]
    },
    {
      "cell_type": "code",
      "execution_count": null,
      "id": "bede55fb",
      "metadata": {
        "id": "bede55fb",
        "outputId": "c3cf8681-edd8-4bdb-9e3c-e058a80a1758"
      },
      "outputs": [
        {
          "name": "stdout",
          "output_type": "stream",
          "text": [
            "The expression is 12 * 12\n"
          ]
        },
        {
          "data": {
            "text/plain": [
              "144"
            ]
          },
          "execution_count": 57,
          "metadata": {},
          "output_type": "execute_result"
        }
      ],
      "source": [
        "arithmetic_operation(\"12 * 12\")"
      ]
    },
    {
      "cell_type": "code",
      "execution_count": null,
      "id": "9226fe7a",
      "metadata": {
        "id": "9226fe7a",
        "outputId": "86b4c090-a39f-4b49-d127-c58bb8869042"
      },
      "outputs": [
        {
          "name": "stdout",
          "output_type": "stream",
          "text": [
            "The expression is 12 // 0\n"
          ]
        },
        {
          "data": {
            "text/plain": [
              "-1"
            ]
          },
          "execution_count": 58,
          "metadata": {},
          "output_type": "execute_result"
        }
      ],
      "source": [
        "arithmetic_operation(\"12 // 0\")\n"
      ]
    },
    {
      "cell_type": "code",
      "execution_count": null,
      "id": "cfd36028",
      "metadata": {
        "id": "cfd36028"
      },
      "outputs": [],
      "source": [
        "2. Write a function that takes the coordinates of three points in the form of a\n",
        "2d array and returns the perimeter of the triangle. The given points are the\n",
        "vertices of a triangle on a two-dimensional plane.\n",
        "Examples\n",
        "perimeter( [ [15, 7], [5, 22], [11, 1] ] ) ➞ 47.08\n",
        "perimeter( [ [0, 0], [0, 1], [1, 0] ] ) ➞ 3.42\n",
        "perimeter( [ [-10, -10], [10, 10 ], [-10, 10] ] ) ➞ 68.28\n"
      ]
    },
    {
      "cell_type": "code",
      "execution_count": null,
      "id": "e2cdb8e1",
      "metadata": {
        "id": "e2cdb8e1"
      },
      "outputs": [],
      "source": [
        "import math\n",
        "def perimeter(arr):\n",
        "   \n",
        "    x = arr[0]\n",
        "    y = arr[1]\n",
        "    z = arr[2]\n",
        "    a = math.sqrt((x[0]-x[1])**2 + (y[0]-y[1])**2)\n",
        "    b = math.sqrt((x[0]-x[1])**2 + (z[0]-z[1])**2)\n",
        "    c = math.sqrt((z[0]-z[1])**2 + (y[0]-y[1])**2)\n",
        "    peri = a+b+c\n",
        "    return peri"
      ]
    },
    {
      "cell_type": "code",
      "execution_count": null,
      "id": "e90373d1",
      "metadata": {
        "id": "e90373d1",
        "outputId": "2603b20c-bba8-4b88-ff7d-f50ba64d6d33"
      },
      "outputs": [
        {
          "data": {
            "text/plain": [
              "51.31762562623766"
            ]
          },
          "execution_count": 23,
          "metadata": {},
          "output_type": "execute_result"
        }
      ],
      "source": [
        "perimeter( [[15, 7], [5, 22], [11, 1] ]) "
      ]
    },
    {
      "cell_type": "code",
      "execution_count": null,
      "id": "1bf174aa",
      "metadata": {
        "id": "1bf174aa",
        "outputId": "fd8abf6f-19c5-4f0f-e9d7-55395c0d7b32"
      },
      "outputs": [
        {
          "data": {
            "text/plain": [
              "3.414213562373095"
            ]
          },
          "execution_count": 24,
          "metadata": {},
          "output_type": "execute_result"
        }
      ],
      "source": [
        "perimeter( [ [0, 0], [0, 1], [1, 0] ] )\n"
      ]
    },
    {
      "cell_type": "code",
      "execution_count": null,
      "id": "b8de588f",
      "metadata": {
        "id": "b8de588f",
        "outputId": "50e0cdc5-11df-4ff6-a367-de199631faf3"
      },
      "outputs": [
        {
          "data": {
            "text/plain": [
              "40.0"
            ]
          },
          "execution_count": 25,
          "metadata": {},
          "output_type": "execute_result"
        }
      ],
      "source": [
        "perimeter( [ [-10, -10], [10, 10 ], [-10, 10] ] )"
      ]
    },
    {
      "cell_type": "code",
      "execution_count": null,
      "id": "2b9af799",
      "metadata": {
        "id": "2b9af799"
      },
      "outputs": [],
      "source": [
        "3. A city skyline can be represented as a 2-D list with 1s representing\n",
        "buildings. In the example below, the height of the tallest building is 4 (second-\n",
        "most right column).\n",
        "[[0, 0, 0, 0, 0, 0],\n",
        "[0, 0, 0, 0, 1, 0],\n",
        "[0, 0, 1, 0, 1, 0],\n",
        "[0, 1, 1, 1, 1, 0],\n",
        "\n",
        "[1, 1, 1, 1, 1, 1]]\n",
        "Create a function that takes a skyline (2-D list of 0&#39;s and 1&#39;s) and returns the\n",
        "height of the tallest skyscraper.\n",
        "Examples\n",
        "tallest_skyscraper([\n",
        "[0, 0, 0, 0],\n",
        "[0, 1, 0, 0],\n",
        "[0, 1, 1, 0],\n",
        "[1, 1, 1, 1]\n",
        "]) ➞ 3\n",
        "tallest_skyscraper([\n",
        "[0, 1, 0, 0],\n",
        "[0, 1, 0, 0],\n",
        "[0, 1, 1, 0],\n",
        "[1, 1, 1, 1]\n",
        "]) ➞ 4\n",
        "tallest_skyscraper([\n",
        "[0, 0, 0, 0],\n",
        "[0, 0, 0, 0],\n",
        "[1, 1, 1, 0],\n",
        "[1, 1, 1, 1]\n",
        "]) ➞ 2\n"
      ]
    },
    {
      "cell_type": "code",
      "execution_count": null,
      "id": "53754885",
      "metadata": {
        "id": "53754885"
      },
      "outputs": [],
      "source": [
        "def tallest_skyscraper(arr):\n",
        "    heights = []\n",
        "    sum1 = 0\n",
        "    for i in range(len(arr[0])):\n",
        "        for j in range(len(arr)):\n",
        "            sum1 = sum1+ arr[j][i]\n",
        "        \n",
        "        heights.append(sum1)\n",
        "        sum1 = 0 \n",
        "    return max(heights)"
      ]
    },
    {
      "cell_type": "code",
      "execution_count": null,
      "id": "2f71c414",
      "metadata": {
        "id": "2f71c414",
        "outputId": "4f845a9d-1f20-4d12-cfdb-d9ae3dca9e31"
      },
      "outputs": [
        {
          "data": {
            "text/plain": [
              "3"
            ]
          },
          "execution_count": 62,
          "metadata": {},
          "output_type": "execute_result"
        }
      ],
      "source": [
        "tallest_skyscraper([\n",
        "[0, 0, 0, 0],\n",
        "[0, 1, 0, 0],\n",
        "[0, 1, 1, 0],\n",
        "[1, 1, 1, 1]\n",
        "])"
      ]
    },
    {
      "cell_type": "code",
      "execution_count": null,
      "id": "f39d57e1",
      "metadata": {
        "id": "f39d57e1",
        "outputId": "1ac11cd4-cd15-4b81-cccd-ff6727e7d795"
      },
      "outputs": [
        {
          "data": {
            "text/plain": [
              "2"
            ]
          },
          "execution_count": 63,
          "metadata": {},
          "output_type": "execute_result"
        }
      ],
      "source": [
        "tallest_skyscraper([\n",
        "[0, 0, 0, 0],\n",
        "[0, 0, 0, 0],\n",
        "[1, 1, 1, 0],\n",
        "[1, 1, 1, 1]\n",
        "])"
      ]
    },
    {
      "cell_type": "code",
      "execution_count": null,
      "id": "bb78b49c",
      "metadata": {
        "id": "bb78b49c",
        "outputId": "db204326-c127-47b7-e073-8ff32560d4a7"
      },
      "outputs": [
        {
          "data": {
            "text/plain": [
              "4"
            ]
          },
          "execution_count": 64,
          "metadata": {},
          "output_type": "execute_result"
        }
      ],
      "source": [
        "tallest_skyscraper([\n",
        "[0, 1, 0, 0],\n",
        "[0, 1, 0, 0],\n",
        "[0, 1, 1, 0],\n",
        "[1, 1, 1, 1]\n",
        "])"
      ]
    },
    {
      "cell_type": "code",
      "execution_count": null,
      "id": "2e013fb3",
      "metadata": {
        "id": "2e013fb3"
      },
      "outputs": [],
      "source": [
        "4. A financial institution provides professional services to banks and claims\n",
        "charges from the customers based on the number of man-days provided.\n",
        "Internally, it has set a scheme to motivate and reward staff to meet and\n",
        "exceed targeted billable utilization and revenues by paying a bonus for each\n",
        "day claimed from customers in excess of a threshold target.\n",
        "This quarterly scheme is calculated with a threshold target of 32 days per\n",
        "quarter, and the incentive payment for each billable day in excess of such\n",
        "threshold target is shown as follows:\n",
        "Days Bonus\n",
        "0 to 32 days Zero\n",
        "33 to 40 days SGD$325 per billable day\n",
        "41 to 48 days SGD$550 per billable day\n",
        "Greater than 48 days SGD$600 per billable day\n",
        "\n",
        "Please note that incentive payment is calculated progressively. As an\n",
        "example, if an employee reached total billable days of 45 in a quarter, his/her\n",
        "incentive payment is computed as follows:\n",
        "32*0 + 8*325 + 5*550 = 5350\n",
        "Write a function to read the billable days of an employee and return the bonus\n",
        "he/she has obtained in that quarter.\n",
        "Examples\n",
        "bonus(15) ➞ 0\n",
        "bonus(37) ➞ 1625\n",
        "bonus(50) ➞ 8200\n"
      ]
    },
    {
      "cell_type": "code",
      "execution_count": null,
      "id": "e6371fa7",
      "metadata": {
        "id": "e6371fa7"
      },
      "outputs": [],
      "source": [
        "def bonus(days):\n",
        "    inc =0\n",
        "    d = [32,40,48]\n",
        "    while(True):\n",
        "        if days<=32:\n",
        "            break\n",
        "        if days > 48:\n",
        "            inc = inc+(days-d[2])*600\n",
        "            days = days-d[2]\n",
        "        elif days> 40:\n",
        "            inc = inc+(days-d[1])*550\n",
        "            days = days-d[1]\n",
        "        elif days> 32:\n",
        "            inc = inc+(days-d[0])*325\n",
        "            days = days-d[0]\n",
        "    return inc\n",
        "    "
      ]
    },
    {
      "cell_type": "code",
      "execution_count": null,
      "id": "e860f5fc",
      "metadata": {
        "id": "e860f5fc",
        "outputId": "7b0bfd5f-fb36-4b14-f71f-6b1569575240"
      },
      "outputs": [
        {
          "data": {
            "text/plain": [
              "0"
            ]
          },
          "execution_count": 73,
          "metadata": {},
          "output_type": "execute_result"
        }
      ],
      "source": [
        "bonus(15) \n"
      ]
    },
    {
      "cell_type": "code",
      "execution_count": null,
      "id": "34917b86",
      "metadata": {
        "id": "34917b86",
        "outputId": "67e29cbe-a0b2-41f0-dca1-29ca59b3a9ab"
      },
      "outputs": [
        {
          "data": {
            "text/plain": [
              "1625"
            ]
          },
          "execution_count": 74,
          "metadata": {},
          "output_type": "execute_result"
        }
      ],
      "source": [
        "bonus(37) \n"
      ]
    },
    {
      "cell_type": "code",
      "execution_count": null,
      "id": "c87e211f",
      "metadata": {
        "id": "c87e211f",
        "outputId": "cdd52e38-cc76-4438-bbee-52fc9d2530ad"
      },
      "outputs": [
        {
          "data": {
            "text/plain": [
              "1200"
            ]
          },
          "execution_count": 75,
          "metadata": {},
          "output_type": "execute_result"
        }
      ],
      "source": [
        "bonus(50) "
      ]
    },
    {
      "cell_type": "code",
      "execution_count": null,
      "id": "b3386cb8",
      "metadata": {
        "id": "b3386cb8"
      },
      "outputs": [],
      "source": [
        "5. A number is said to be Disarium if the sum of its digits raised to their\n",
        "respective positions is the number itself.\n",
        "Create a function that determines whether a number is a Disarium or not.\n",
        "Examples\n",
        "is_disarium(75) ➞ False\n",
        "# 7^1 + 5^2 = 7 + 25 = 32\n",
        "is_disarium(135) ➞ True\n",
        "# 1^1 + 3^2 + 5^3 = 1 + 9 + 125 = 135\n",
        "is_disarium(544) ➞ False\n",
        "is_disarium(518) ➞ True\n",
        "is_disarium(466) ➞ False"
      ]
    },
    {
      "cell_type": "code",
      "execution_count": null,
      "id": "f98d4d76",
      "metadata": {
        "id": "f98d4d76"
      },
      "outputs": [],
      "source": [
        "def is_disarium(n):\n",
        "    l= len(str(n))\n",
        "    sum = 0\n",
        "    temp = n\n",
        "    while (temp>0):\n",
        "        d = temp%10\n",
        "        sum= sum +(d**l)\n",
        "        l = l-1\n",
        "        temp = temp//10\n",
        "    if ( n ==sum):\n",
        "        return True \n",
        "    else:\n",
        "        return False \n"
      ]
    },
    {
      "cell_type": "code",
      "execution_count": null,
      "id": "4c263896",
      "metadata": {
        "id": "4c263896",
        "outputId": "e931efef-55e1-4c29-e913-e88cf1f9fec2"
      },
      "outputs": [
        {
          "data": {
            "text/plain": [
              "False"
            ]
          },
          "execution_count": 5,
          "metadata": {},
          "output_type": "execute_result"
        }
      ],
      "source": [
        "is_disarium(75)"
      ]
    },
    {
      "cell_type": "code",
      "execution_count": null,
      "id": "19c24b1f",
      "metadata": {
        "id": "19c24b1f",
        "outputId": "28f1fdf2-9890-4ed8-ecb6-694bbadd4af9"
      },
      "outputs": [
        {
          "data": {
            "text/plain": [
              "True"
            ]
          },
          "execution_count": 6,
          "metadata": {},
          "output_type": "execute_result"
        }
      ],
      "source": [
        "is_disarium(135)"
      ]
    },
    {
      "cell_type": "code",
      "execution_count": null,
      "id": "3e1288da",
      "metadata": {
        "id": "3e1288da",
        "outputId": "2b4bb7d6-ecbc-46a3-8fed-b5614f8854fa"
      },
      "outputs": [
        {
          "data": {
            "text/plain": [
              "False"
            ]
          },
          "execution_count": 7,
          "metadata": {},
          "output_type": "execute_result"
        }
      ],
      "source": [
        "is_disarium(544)\n"
      ]
    },
    {
      "cell_type": "code",
      "execution_count": null,
      "id": "944d24b8",
      "metadata": {
        "id": "944d24b8",
        "outputId": "d4145b1b-77dc-42ec-de5d-41983fe42edb"
      },
      "outputs": [
        {
          "data": {
            "text/plain": [
              "True"
            ]
          },
          "execution_count": 8,
          "metadata": {},
          "output_type": "execute_result"
        }
      ],
      "source": [
        "is_disarium(518) \n",
        " "
      ]
    },
    {
      "cell_type": "code",
      "execution_count": null,
      "id": "769e48b2",
      "metadata": {
        "id": "769e48b2",
        "outputId": "2daa47a0-e1d5-4d99-cd57-48932cab3a86"
      },
      "outputs": [
        {
          "data": {
            "text/plain": [
              "False"
            ]
          },
          "execution_count": 9,
          "metadata": {},
          "output_type": "execute_result"
        }
      ],
      "source": [
        "is_disarium(466)"
      ]
    }
  ],
  "metadata": {
    "kernelspec": {
      "display_name": "Python 3 (ipykernel)",
      "language": "python",
      "name": "python3"
    },
    "language_info": {
      "codemirror_mode": {
        "name": "ipython",
        "version": 3
      },
      "file_extension": ".py",
      "mimetype": "text/x-python",
      "name": "python",
      "nbconvert_exporter": "python",
      "pygments_lexer": "ipython3",
      "version": "3.9.7"
    },
    "colab": {
      "name": "Assignment3.ipynb",
      "provenance": []
    }
  },
  "nbformat": 4,
  "nbformat_minor": 5
}