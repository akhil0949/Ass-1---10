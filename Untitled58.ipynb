{
  "nbformat": 4,
  "nbformat_minor": 0,
  "metadata": {
    "colab": {
      "name": "Untitled58.ipynb",
      "provenance": [],
      "authorship_tag": "ABX9TyP7yffWsE8fq/Svf3Tq8fFG",
      "include_colab_link": true
    },
    "kernelspec": {
      "name": "python3",
      "display_name": "Python 3"
    },
    "language_info": {
      "name": "python"
    }
  },
  "cells": [
    {
      "cell_type": "markdown",
      "metadata": {
        "id": "view-in-github",
        "colab_type": "text"
      },
      "source": [
        "<a href=\"https://colab.research.google.com/github/akhil0949/Ass-1---10/blob/main/Untitled58.ipynb\" target=\"_parent\"><img src=\"https://colab.research.google.com/assets/colab-badge.svg\" alt=\"Open In Colab\"/></a>"
      ]
    },
    {
      "cell_type": "code",
      "execution_count": null,
      "metadata": {
        "id": "5LxiJnlIZ-AV"
      },
      "outputs": [],
      "source": [
        "1. In the sense of machine learning, what is a model? What is the best way to train a model?\n",
        "Ans.\n",
        "A machine learning model is a file that has been trained to recognize certain types of patterns. You train a model over a set of data, \n",
        "providing it an algorithm that it can use to reason over and learn from those data."
      ]
    },
    {
      "cell_type": "code",
      "source": [
        "2. In the sense of machine learning, explain the No Free Lunch theorem.\n",
        "Ans.\n",
        "The No Free Lunch Theorem, often abbreviated as NFL or NFLT, is a theoretical finding that suggests all optimization algorithms perform equally well when their performance is averaged over all possible objective functions."
      ],
      "metadata": {
        "id": "dDch80UVaFKS"
      },
      "execution_count": null,
      "outputs": []
    },
    {
      "cell_type": "code",
      "source": [
        "3. Describe the K-fold cross-validation mechanism in detail.\n",
        "Ans.\n",
        "Cross-validation is a resampling procedure used to evaluate machine learning models on a limited data sample. \n",
        "The procedure has a single parameter called k that refers to the number of groups that a given data sample is to be split into."
      ],
      "metadata": {
        "id": "0PJ5jrzOaFM9"
      },
      "execution_count": null,
      "outputs": []
    },
    {
      "cell_type": "code",
      "source": [
        "4. Describe the bootstrap sampling method. What is the aim of it?\n",
        "Ans.\n",
        "The bootstrap method is a statistical technique for estimating quantities about a population by averaging estimates from multiple small data samples. Importantly, samples are constructed by drawing observations \n",
        "from a large data sample one at a time and returning them to the data sample after they have been chosen."
      ],
      "metadata": {
        "id": "47usx9z5aFQA"
      },
      "execution_count": null,
      "outputs": []
    },
    {
      "cell_type": "code",
      "source": [
        "5. What is the significance of calculating the Kappa value for a classification model? Demonstrate\n",
        "how to measure the Kappa value of a classification model using a sample collection of results.\n",
        "Ans.\n",
        "It basically tells you how much better your classifier is performing over the performance of a classifier that simply guesses at random according to the frequency of each class. \n",
        "Cohen's kappa is always less than or equal to 1. Values of 0 or less, indicate that the classifier is useless."
      ],
      "metadata": {
        "id": "hVzwibi5aFSd"
      },
      "execution_count": null,
      "outputs": []
    },
    {
      "cell_type": "code",
      "source": [
        "6. Describe the model ensemble method. In machine learning, what part does it play?\n",
        "Ans.\n",
        "Ensemble methods are techniques that aim at improving the accuracy of results in models by combining multiple models instead of using a single model. \n",
        "The combined models increase the accuracy of the results significantly. This has boosted the popularity of ensemble methods in machine learning."
      ],
      "metadata": {
        "id": "QfUEPp-MaFU8"
      },
      "execution_count": null,
      "outputs": []
    },
    {
      "cell_type": "code",
      "source": [
        "7. What is a descriptive models main purpose? Give examples of real-world problems that\n",
        "descriptive models were used to solve.\n",
        "Ans.\n",
        "A descriptive model describes a system or other entity and its relationship to its environment. It is generally used to help specify and/or understand what the system is, what it does, and how it does it.\n",
        " A geometric model or spatial model is a descriptive model that represents geometric and/or spatial relationships."
      ],
      "metadata": {
        "id": "G-z3-UN4aFZZ"
      },
      "execution_count": null,
      "outputs": []
    },
    {
      "cell_type": "code",
      "source": [
        "8. Describe how to evaluate a linear regression model.\n",
        "Ans.\n",
        "There are 3 main metrics for model evaluation in regression:\n",
        "R Square/Adjusted R Square.\n",
        "Mean Square Error(MSE)/Root Mean Square Error(RMSE)\n",
        "Mean Absolute Error(MAE)"
      ],
      "metadata": {
        "id": "eT3vQrz-aFb0"
      },
      "execution_count": null,
      "outputs": []
    },
    {
      "cell_type": "code",
      "source": [
        "9. Distinguish :\n",
        "\n",
        "1. Descriptive vs. predictive models\n",
        "\n",
        "2. Underfitting vs. overfitting the model\n",
        "\n",
        "3. Bootstrapping vs. cross-validation\n",
        "Ans.\n",
        "\n",
        "1. A descriptive model will exploit the past data that are stored in databases and provide you with the accurate report. \n",
        "In a Predictive model, it identifies patterns found in past and transactional data to find risks and future outcomes.\n",
        "\n",
        "2. Underfitting occurs when our machine learning model is not able to capture the underlying trend of the data. To avoid the overfitting in the model, the fed of training data can be stopped at an early stage,\n",
        " due to which the model may not learn enough from the training data.\n",
        "\n",
        "3. In summary, Cross validation splits the available dataset to create multiple datasets, and Bootstrapping method uses the original dataset to create multiple datasets after resampling with replacement."
      ],
      "metadata": {
        "id": "26zq-xWlaFed"
      },
      "execution_count": null,
      "outputs": []
    },
    {
      "cell_type": "code",
      "source": [
        "10. Make quick notes on:\n",
        "\n",
        "1. LOOCV.\n",
        "\n",
        "2. F-measurement\n",
        "\n",
        "3. The width of the silhouette\n",
        "\n",
        "4. Receiver operating characteristic curve\n",
        "Ans.\n",
        "1. LOOCV(Leave One Out Cross-Validation) is a type of cross-validation approach in which each observation is considered as the validation set and the rest (N-1) observations are considered as the training set.\n",
        " In LOOCV, fitting of the model is done and predicting using one observation validation set.\n",
        "\n",
        "2. Summary. The F measure (F1 score or F score) is a measure of a test's accuracy and is defined as the weighted harmonic mean of the precision and recall of the test.\n",
        "\n",
        "3. The Average Silhouette Width (ASW) of a clustering is ̄ a ( i ) is the average distance of to points in the cluster to which it was assigned, and is the average distance of\n",
        " to the points in the nearest cluster to which it was not assigned.\n",
        "\n",
        "4. A receiver operating characteristic curve, or ROC curve, is a graphical plot that illustrates the diagnostic ability of a binary classifier system as its discrimination threshold is varied. \n",
        "The method was originally developed for operators of military radar receivers starting in 1941"
      ],
      "metadata": {
        "id": "05H7c1SRa2vD"
      },
      "execution_count": null,
      "outputs": []
    },
    {
      "cell_type": "code",
      "source": [
        ""
      ],
      "metadata": {
        "id": "u65-T8BGaFg1"
      },
      "execution_count": null,
      "outputs": []
    },
    {
      "cell_type": "code",
      "source": [
        ""
      ],
      "metadata": {
        "id": "K4uE0WoFaFjL"
      },
      "execution_count": null,
      "outputs": []
    },
    {
      "cell_type": "code",
      "source": [
        ""
      ],
      "metadata": {
        "id": "-kssm52yaFlX"
      },
      "execution_count": null,
      "outputs": []
    }
  ]
}