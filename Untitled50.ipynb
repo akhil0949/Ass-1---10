{
  "nbformat": 4,
  "nbformat_minor": 0,
  "metadata": {
    "colab": {
      "name": "Untitled50.ipynb",
      "provenance": [],
      "authorship_tag": "ABX9TyPfZVCBJP7I4wbzWliJDZFP",
      "include_colab_link": true
    },
    "kernelspec": {
      "name": "python3",
      "display_name": "Python 3"
    },
    "language_info": {
      "name": "python"
    }
  },
  "cells": [
    {
      "cell_type": "markdown",
      "metadata": {
        "id": "view-in-github",
        "colab_type": "text"
      },
      "source": [
        "<a href=\"https://colab.research.google.com/github/akhil0949/Ass-1---10/blob/main/Untitled50.ipynb\" target=\"_parent\"><img src=\"https://colab.research.google.com/assets/colab-badge.svg\" alt=\"Open In Colab\"/></a>"
      ]
    },
    {
      "cell_type": "code",
      "execution_count": null,
      "metadata": {
        "id": "bA5sDrGnHc--"
      },
      "outputs": [],
      "source": [
        "1. Harvard Law School courses often have assigned seating to facilitate the “Socratic method.”\n",
        "Suppose that there are 100 first year Harvard Law students, and each takes two courses:\n",
        "Torts and Contracts. Both are held in the same lecture hall (which has 100 seats), and the\n",
        "seating is uniformly random and independent for the two courses.\n",
        "(b) Find a simple but accurate approximation to the probability that no one has the same\n",
        "seat for both courses.\n",
        "Ans.\n",
        "Define Ii to be the indicator for student i not having the same seat in both courses,so that \n",
        "N=∑100i=1Ii , Then P(Ii=1)=99/100, and the Ii are weakly dependent.\n",
        "So N is close to Pois(λ) in distribution, where λ=E(N)=100E[I1]=99. Thus P(N=100)≈e−9999100100!=0.03966085721≠e−1"
      ]
    },
    {
      "cell_type": "code",
      "source": [
        "2. There are 100 passengers lined up to board an airplane with 100 seats (with each seat\n",
        "assigned to one of the passengers). The first passenger in line crazily decides to sit in a\n",
        "randomly chosen seat (with all seats equally likely). Each subsequent passenger takes his or\n",
        "her assigned seat if available, and otherwise sits in a random available seat. What is the\n",
        "probability that the last passenger in line gets to sit in his or her assigned seat?\n",
        "Ans.\n",
        "This is probably the ugliest solution possible to this problem but here goes. Let’s first consider a special case where there are only 2 people (Alice and Bob) and 2 seats on the airplane. Alice picks a seat at random. The only way Bob gets to pick his designated seat is if Alice correctly picks hers. Since there are only 2 choices for Alice she picks her own seat correctly with probability 1/21/2\n",
        "\n",
        "Therefore P(P( Bob gets his seat)=P()=P(Alice chooses her own seat)=1/2)=1/2\n",
        "\n",
        "Now lets consider one more special case where we now have 3 people (Alice, Bob and Carlos) boarding the flight in that order and Alice picking a random seat first up. In this scenario, Carlos gets to sit on his designated seat in one of the following two possibilities:\n",
        "\n",
        "Alice picks her own seat\n",
        "Alice picks Bob’s seat and Bob picks Alice’s seat.\n",
        "In all other cases the probability of Carlos picking his seat is 0. So we have :\n",
        "\n",
        "P(P( Carlos gets his seat )=P()=P( Alice picks her own seat )+P()+P( Alice picks Bob’s seat )∗P()∗P( Bob picks Alice’s seat))\n",
        "\n",
        "This reduces to :\n",
        "\n",
        "P(P( Carlos gets his seat )=1/3+(1/3)∗(1/2)=(1/3+1/6)=1/2."
      ],
      "metadata": {
        "id": "Uy4BXka2IJV8"
      },
      "execution_count": null,
      "outputs": []
    },
    {
      "cell_type": "code",
      "source": [
        ""
      ],
      "metadata": {
        "id": "XVQjgB3wIJbI"
      },
      "execution_count": null,
      "outputs": []
    }
  ]
}