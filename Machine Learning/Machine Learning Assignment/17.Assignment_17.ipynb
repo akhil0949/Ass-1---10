{
  "cells": [
    {
      "cell_type": "markdown",
      "id": "b2aa57f2",
      "metadata": {
        "id": "b2aa57f2"
      },
      "source": [
        "# Assignment 17 Solutions"
      ]
    },
    {
      "cell_type": "markdown",
      "id": "111120c6",
      "metadata": {
        "id": "111120c6"
      },
      "source": [
        "##### 1. Using a graph to illustrate slope and intercept, define basic linear regression ?"
      ]
    },
    {
      "cell_type": "markdown",
      "id": "8b9c3386",
      "metadata": {
        "id": "8b9c3386"
      },
      "source": [
        "**Ans:** The equation `y=mx+c` represents a straight line graphically, where m is its slope/gradient and c its intercept. In this tutorial, you will learn how to plot y=mx+b in Python with Matplotlib."
      ]
    },
    {
      "cell_type": "code",
      "execution_count": null,
      "id": "74fe88c6",
      "metadata": {
        "id": "74fe88c6"
      },
      "outputs": [],
      "source": [
        "import matplotlib.pyplot as plt\n",
        "import numpy as np\n",
        "x = np.linspace(-5,5,100)\n",
        "y = 2*x+1\n",
        "plt.plot(x, y, '-r', label='y=2x+1')\n",
        "plt.title('Graph of y=2x+1')\n",
        "plt.xlabel('x', color='#1C2833')\n",
        "plt.ylabel('y', color='#1C2833')\n",
        "plt.legend(loc='upper left')\n",
        "plt.grid()\n",
        "display(plt.show())"
      ]
    },
    {
      "cell_type": "markdown",
      "id": "4ae857d4",
      "metadata": {
        "id": "4ae857d4"
      },
      "source": [
        "##### 2. In a graph, explain the terms rise, run, and slope ?"
      ]
    },
    {
      "cell_type": "markdown",
      "id": "4d0466e5",
      "metadata": {
        "id": "4d0466e5"
      },
      "source": [
        "**Ans:** The slope of a line measures the steepness of the line. Most of you are probably familiar with associating slope with \"Rise Over Run\". Rise means how many units you move up or down from point to point. On the graph that would be a change in the y values. Run means how far left or right you move from point to point."
      ]
    },
    {
      "cell_type": "markdown",
      "id": "c981ac1e",
      "metadata": {
        "id": "c981ac1e"
      },
      "source": [
        "##### 3. Use a graph to demonstrate slope, linear positive slope, and linear negative slope, as well as the different conditions that contribute to slope ?"
      ]
    },
    {
      "cell_type": "markdown",
      "id": "4a3a0fe1",
      "metadata": {
        "id": "4a3a0fe1"
      },
      "source": [
        "**Ans:** The steepness of a hill is called a slope. The same goes for the steepness of a line. The slope is defined as the ratio of the vertical change between two points, the rise, to the horizontal change between the same two points, the run.\n",
        "\n",
        "`Slope=Rise/Run=ChangeinY/changeinX`\n",
        "\n",
        "The slope of a line is usually represented by the letter m. (x1, y1) represents the first point whereas (x2, y2) represents the second point.  \n",
        "\n",
        "`M=Y2−Y1/X2−X1`\n",
        "\n",
        "It is important to keep the x-and y-coordinates in the same order in both the numerator and the denominator otherwise you will get the wrong slope.\n",
        "![download.png](attachment:download.png)"
      ]
    },
    {
      "cell_type": "markdown",
      "id": "07ab2a64",
      "metadata": {
        "id": "07ab2a64"
      },
      "source": [
        "##### 4. Use a graph to demonstrate curve linear negative slope and curve linear positive slope ?"
      ]
    },
    {
      "cell_type": "markdown",
      "id": "e02e15b0",
      "metadata": {
        "id": "e02e15b0"
      },
      "source": [
        "**Ans:** Image result for a graph to demonstrate curve linear negative slope and curve linear positive slope.If the signs are different then the answer is negative! If the slope is negative you can plot your next point by going down and right OR up and left. f the slope is positive you can plot your next point by going up and right OR down and left."
      ]
    },
    {
      "cell_type": "markdown",
      "id": "0be2162e",
      "metadata": {
        "id": "0be2162e"
      },
      "source": [
        "##### 5. Use a graph to show the maximum and low points of curves ?"
      ]
    },
    {
      "cell_type": "markdown",
      "id": "dd662be3",
      "metadata": {
        "id": "dd662be3"
      },
      "source": [
        "**Ans:** To find the maximum/minimum of a curve you must first differentiate the function and then equate it to zero. This gives you one coordinate. To find the other you must resubstitute the one already found into the original function."
      ]
    },
    {
      "cell_type": "markdown",
      "id": "a96163dd",
      "metadata": {
        "id": "a96163dd"
      },
      "source": [
        "##### 6. Use the formulas for a and b to explain ordinary least squares ?"
      ]
    },
    {
      "cell_type": "markdown",
      "id": "d7ef017e",
      "metadata": {
        "id": "d7ef017e"
      },
      "source": [
        "**Ans:** This best line is the Least Squares Regression Line (abbreviated as LSRL). This is true where ˆy is the predicted y-value given x, a is the y intercept, b and is the slope. For every x-value, the Least Squares Regression Line makes a predicted y-value that is close to the observed y-value, but usually slightly off."
      ]
    },
    {
      "cell_type": "markdown",
      "id": "6b3b649e",
      "metadata": {
        "id": "6b3b649e"
      },
      "source": [
        "##### 7. Provide a step-by-step explanation of the OLS algorithm ?"
      ]
    },
    {
      "cell_type": "markdown",
      "id": "245a69d7",
      "metadata": {
        "id": "245a69d7"
      },
      "source": [
        "**Ans:** Ordinary Least Square Method :\n",
        "- Set a difference between dependent variable and its estimation:\n",
        "- Square the difference:\n",
        "- Take summation for all data.\n",
        "- To get the parameters that make the sum of square difference become minimum, take partial derivative for each parameter and equate it with zero."
      ]
    },
    {
      "cell_type": "markdown",
      "id": "54020cf8",
      "metadata": {
        "id": "54020cf8"
      },
      "source": [
        "##### 8. What is the regression's standard error? To represent the same, make a graph ?"
      ]
    },
    {
      "cell_type": "markdown",
      "id": "c9a9f41e",
      "metadata": {
        "id": "c9a9f41e"
      },
      "source": [
        "**Ans:** The standard error of the regression (S), also known as the standard error of the estimate, represents the average distance that the observed values fall from the regression line. Conveniently, it tells you how wrong the regression model is on average using the units of the response variable.\n",
        "![image.png](attachment:image.png)"
      ]
    },
    {
      "cell_type": "markdown",
      "id": "9db681d1",
      "metadata": {
        "id": "9db681d1"
      },
      "source": [
        "##### 9. Provide an example of multiple linear regression ?"
      ]
    },
    {
      "cell_type": "markdown",
      "id": "6772f580",
      "metadata": {
        "id": "6772f580"
      },
      "source": [
        "**Ans:** Multiple Linear Regression is one of the important regression algorithms which models the linear relationship between a single dependent continuous variable and more than one independent variable. Example: Prediction of CO2 emission based on engine size and number of cylinders in a car."
      ]
    },
    {
      "cell_type": "markdown",
      "id": "5b686929",
      "metadata": {
        "id": "5b686929"
      },
      "source": [
        "##### 10. Describe the regression analysis assumptions and the BLUE principle ?"
      ]
    },
    {
      "cell_type": "markdown",
      "id": "c28b0486",
      "metadata": {
        "id": "c28b0486"
      },
      "source": [
        "**Ans:** There are four assumptions associated with a linear regression model:\n",
        "- **Linearity:** The relationship between X and the mean of Y is linear.\n",
        "- **Homoscedasticity:** The variance of residual is the same for any value of X. \n",
        "- **Independence:** Observations are independent of each other.\n",
        "- **BLUE:** is an acronym for the following: Best Linear Unbiased Estimator. In this context, the definition of “best” refers to the minimum variance or the narrowest sampling distribution."
      ]
    },
    {
      "cell_type": "markdown",
      "id": "3e636eaf",
      "metadata": {
        "id": "3e636eaf"
      },
      "source": [
        "##### 11. Describe two major issues with regression analysis ?"
      ]
    },
    {
      "cell_type": "markdown",
      "id": "7628ddf0",
      "metadata": {
        "id": "7628ddf0"
      },
      "source": [
        "**Ans:** It involves very lengthy and complicated procedure of calculations and analysis. It cannot be used in case of qualitative phenomenon viz. honesty, crime etc.\n",
        "\n",
        "The overall idea of regression is to examine two things: \n",
        "1. Does a set of predictor variables do a good job in predicting an outcome (dependent) variable? \n",
        "2. Which variables in particular are significant predictors of the outcome variable, and in what way do they–indicated by the magnitude and sign of the beta"
      ]
    },
    {
      "cell_type": "markdown",
      "id": "64feb7de",
      "metadata": {
        "id": "64feb7de"
      },
      "source": [
        "##### 12. How can the linear regression model's accuracy be improved ?"
      ]
    },
    {
      "cell_type": "markdown",
      "id": "dfc670ba",
      "metadata": {
        "id": "dfc670ba"
      },
      "source": [
        "**Ans:** 8 Methods to Boost the Accuracy of a Model : \n",
        "- Add more data. Having more data is always a good idea.\n",
        "- Treat missing and Outlier values.\n",
        "- Feature Engineering. \n",
        "- Feature Selection. \n",
        "- Multiple algorithms.\n",
        "- Algorithm Tuning.\n",
        "- Ensemble methods."
      ]
    },
    {
      "cell_type": "markdown",
      "id": "bcec9c51",
      "metadata": {
        "id": "bcec9c51"
      },
      "source": [
        "##### 13. Using an example, describe the polynomial regression model in detail ?"
      ]
    },
    {
      "cell_type": "markdown",
      "id": "4e5b35d7",
      "metadata": {
        "id": "4e5b35d7"
      },
      "source": [
        "**Ans:** In statistics, polynomial regression is a form of regression analysis in which the relationship between the independent variable x and the dependent variable y is modelled as an nth degree polynomial in x.For this reason, polynomial regression is considered to be a special case of multiple linear regression.\n",
        "\n",
        "Polynomial regression is one of the machine learning algorithms used for making predictions. For example, it is widely applied to predict the spread rate of COVID-19 and other infectious diseases."
      ]
    },
    {
      "cell_type": "markdown",
      "id": "5830b034",
      "metadata": {
        "id": "5830b034"
      },
      "source": [
        "##### 14. Provide a detailed explanation of logistic regression ?"
      ]
    },
    {
      "cell_type": "markdown",
      "id": "9b4fc218",
      "metadata": {
        "id": "9b4fc218"
      },
      "source": [
        "**Ans:** Logistic regression is a statistical analysis method used to predict a data value based on prior observations of a  data set.Based on historical data about earlier outcomes involving the same input criteria, it then scores new cases on their probability of falling into a particular outcome category."
      ]
    },
    {
      "cell_type": "markdown",
      "id": "f31d6611",
      "metadata": {
        "id": "f31d6611"
      },
      "source": [
        "##### 15. What are the logistic regression assumptions ?"
      ]
    },
    {
      "cell_type": "markdown",
      "id": "e86a0e45",
      "metadata": {
        "id": "e86a0e45"
      },
      "source": [
        "**Ans:** Basic assumptions that must be met for logistic regression include independence of errors, linearity in the logit for continuous variables, absence of multicollinearity, and lack of strongly influential outliers."
      ]
    },
    {
      "cell_type": "markdown",
      "id": "34231365",
      "metadata": {
        "id": "34231365"
      },
      "source": [
        "##### 16. Go through the details of maximum likelihood estimation ?"
      ]
    },
    {
      "cell_type": "markdown",
      "id": "9db1944d",
      "metadata": {
        "id": "9db1944d"
      },
      "source": [
        "**Ans:** Maximum likelihood estimation is a method that determines values for the parameters of a model. The parameter values\", are found such that they maximise the likelihood that the process described by the model produced the data that were\", actually observed.\""
      ]
    }
  ],
  "metadata": {
    "kernelspec": {
      "display_name": "Python 3",
      "language": "python",
      "name": "python3"
    },
    "language_info": {
      "codemirror_mode": {
        "name": "ipython",
        "version": 3
      },
      "file_extension": ".py",
      "mimetype": "text/x-python",
      "name": "python",
      "nbconvert_exporter": "python",
      "pygments_lexer": "ipython3",
      "version": "3.8.8"
    },
    "colab": {
      "name": "17.Assignment_17.ipynb",
      "provenance": []
    }
  },
  "nbformat": 4,
  "nbformat_minor": 5
}