{
  "nbformat": 4,
  "nbformat_minor": 0,
  "metadata": {
    "colab": {
      "name": "Untitled43.ipynb",
      "provenance": [],
      "authorship_tag": "ABX9TyMvC+PyEbq8K0TpAFBX6GW9",
      "include_colab_link": true
    },
    "kernelspec": {
      "name": "python3",
      "display_name": "Python 3"
    },
    "language_info": {
      "name": "python"
    }
  },
  "cells": [
    {
      "cell_type": "markdown",
      "metadata": {
        "id": "view-in-github",
        "colab_type": "text"
      },
      "source": [
        "<a href=\"https://colab.research.google.com/github/akhil0949/Ass-1---10/blob/main/Untitled43.ipynb\" target=\"_parent\"><img src=\"https://colab.research.google.com/assets/colab-badge.svg\" alt=\"Open In Colab\"/></a>"
      ]
    },
    {
      "cell_type": "code",
      "execution_count": null,
      "metadata": {
        "id": "lJR6s4iNyWai"
      },
      "outputs": [],
      "source": [
        "Q1. Does assigning a value to a string&#39;s indexed character violate Python&#39;s string immutability?\n",
        "Ans.\n",
        "In Python, a string is immutable. You cannot overwrite the values of immutable objects. However, you can assign the variable again. \n",
        "It's not modifying the string object; it's creating a new string object."
      ]
    },
    {
      "cell_type": "code",
      "source": [
        "Q2. Does using the += operator to concatenate strings violate Python&#39;s string immutability? Why or\n",
        "why not?\n",
        "Ans.\n",
        "\n",
        "It violates the rules of how ID values and += are supposed to work - the ID values produced with the optimization in place would be not only impossible, but prohibited, with the unoptimized semantics - \n",
        "but the developers care more about people who would see bad concatenation performance and assume Python sucks"
      ],
      "metadata": {
        "id": "qf6cEmjVyeUL"
      },
      "execution_count": null,
      "outputs": []
    },
    {
      "cell_type": "code",
      "source": [
        "Q3. In Python, how many different ways are there to index a character?\n",
        "Ans.\n",
        "We can access characters in a String in Two ways : Accessing Characters by Positive Index Number. Accessing Characters by Negative Index Number."
      ],
      "metadata": {
        "id": "2SUpWu93yeW3"
      },
      "execution_count": null,
      "outputs": []
    },
    {
      "cell_type": "code",
      "source": [
        "Q4. What is the relationship between indexing and slicing?\n",
        "Ans.\n",
        "Indexing means referring to an element of an iterable by its position within the iterable. “Slicing” means getting a subset of elements from an iterable based on their indices."
      ],
      "metadata": {
        "id": "GVUHdWvPzSkZ"
      },
      "execution_count": null,
      "outputs": []
    },
    {
      "cell_type": "code",
      "source": [
        "Q5. What is an indexed characters exact data type? What is the data form of a slicing-generated\n",
        "substring?\n",
        "Ans.\n",
        "\n",
        "The index() method returns the index of a substring inside the string (if found). If the substring is not found, it raises an exception.\n",
        "\n",
        "\n",
        "You can extract a substring from a string by slicing with indices that get your substring as follows:\n",
        "string[start:stop:step]\n",
        "start - The starting index of the substring.\n",
        "stop - The final index of a substring.\n",
        "step - A number specifying the step of the slicing. The default value is 1."
      ],
      "metadata": {
        "id": "VNeJdmr2za9z"
      },
      "execution_count": null,
      "outputs": []
    },
    {
      "cell_type": "code",
      "source": [
        "Q6. What is the relationship between string and character &quot;types&quot; in Python?\n",
        "Ans.\n",
        "Like many other popular programming languages, strings in Python are arrays of bytes representing unicode characters. However, Python does not have a character data type, \n",
        "a single character is simply a string with a length of 1. Square brackets can be used to access elements of the string."
      ],
      "metadata": {
        "id": "iYJPzEOyyecT"
      },
      "execution_count": null,
      "outputs": []
    },
    {
      "cell_type": "code",
      "source": [
        "Q7. Identify at least two operators and one method that allow you to combine one or more smaller\n",
        "strings to create a larger string.\n",
        "Ans.\n",
        "The most common among them is using the plus (“+”) operator. You can combine both string variables and string literals using the “+” operator. However, there's \n",
        "another method that allows an easy way of concatenating multiple strings. It is using the in-place (+=) operator."
      ],
      "metadata": {
        "id": "E7cZuoQryef3"
      },
      "execution_count": null,
      "outputs": []
    },
    {
      "cell_type": "code",
      "source": [
        "Q8. What is the benefit of first checking the target string with in or not in before using the index\n",
        "method to find a substring?\n",
        "Ans.\n",
        "The idea is to run a loop from start to end and for every index in the given string check whether the sub-string can be formed from that index. \n",
        "This can be done by running a nested loop traversing the given string and in that loop running another loop checking for sub-string from every index. "
      ],
      "metadata": {
        "id": "y7CVl4ZjyejU"
      },
      "execution_count": null,
      "outputs": []
    },
    {
      "cell_type": "code",
      "source": [
        "Q9. Which operators and built-in string methods produce simple Boolean (true/false) results?\n",
        "Ans.\n",
        "equality operators\n",
        "== and !=\n",
        "True / False"
      ],
      "metadata": {
        "id": "O7mdCoVw0mT8"
      },
      "execution_count": null,
      "outputs": []
    },
    {
      "cell_type": "code",
      "source": [
        ""
      ],
      "metadata": {
        "id": "Hqsl1D4eyemQ"
      },
      "execution_count": null,
      "outputs": []
    }
  ]
}