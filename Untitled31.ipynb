{
  "nbformat": 4,
  "nbformat_minor": 0,
  "metadata": {
    "colab": {
      "name": "Untitled31.ipynb",
      "provenance": [],
      "authorship_tag": "ABX9TyMjDl4rVZ2yd9Vv4mQcarBn",
      "include_colab_link": true
    },
    "kernelspec": {
      "name": "python3",
      "display_name": "Python 3"
    },
    "language_info": {
      "name": "python"
    }
  },
  "cells": [
    {
      "cell_type": "markdown",
      "metadata": {
        "id": "view-in-github",
        "colab_type": "text"
      },
      "source": [
        "<a href=\"https://colab.research.google.com/github/akhil0949/Ass-1---10/blob/main/Untitled31.ipynb\" target=\"_parent\"><img src=\"https://colab.research.google.com/assets/colab-badge.svg\" alt=\"Open In Colab\"/></a>"
      ]
    },
    {
      "cell_type": "code",
      "source": [
        "Q1. Describe three applications for exception processing.\n",
        "Ans.\n",
        "ZeroDivisionError: Occurs when a number is divided by zero.\n",
        "NameError: It occurs when a name is not found. ...\n",
        "IndentationError: If incorrect indentation is given.\n",
        "IOError: It occurs when Input Output operation fails.\n",
        "syntax errors, exceptions and logical errors"
      ],
      "metadata": {
        "id": "IpJqJPXuKnGT"
      },
      "execution_count": null,
      "outputs": []
    },
    {
      "cell_type": "code",
      "source": [
        "Q2. What happens if you dont do something extra to treat an exception?\n",
        "Ans.\n",
        "When an exception occurred, if you don't handle it, the program terminates abruptly and the code past the line that caused the exception will not get executed"
      ],
      "metadata": {
        "id": "9C8B0smmK8Ba"
      },
      "execution_count": null,
      "outputs": []
    },
    {
      "cell_type": "code",
      "source": [
        "Q3. What are your options for recovering from an exception in your script?\n",
        "Ans.\n",
        "_setRecovery(fn) _removeRecovery()\n",
        "\n",
        "Any function can be assigned to a script as a recovery function. Once set, if there is an error during execution, the recovery function will be called before the script stops."
      ],
      "metadata": {
        "id": "hrj5Tf-yK8Ew"
      },
      "execution_count": null,
      "outputs": []
    },
    {
      "cell_type": "code",
      "source": [
        "Q4. Describe two methods for triggering exceptions in your script.\n",
        "Ans.\n",
        "Try – This method catches the exceptions raised by the program.\n",
        "Raise – Triggers an exception manually using custom exceptions."
      ],
      "metadata": {
        "id": "GNg1ic0NK8Ja"
      },
      "execution_count": null,
      "outputs": []
    },
    {
      "cell_type": "code",
      "source": [
        "Q5. Identify two methods for specifying actions to be executed at termination time, regardless of\n",
        "whether or not an exception exists.\n",
        "Ans.\n",
        "The uncaught_exception() function is most useful for preventing program termination due to a function that exits with an uncaught exception while another exception is still active."
      ],
      "metadata": {
        "id": "MR1TC3gwLfVr"
      },
      "execution_count": null,
      "outputs": []
    }
  ]
}