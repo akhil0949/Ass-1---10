{
  "cells": [
    {
      "cell_type": "markdown",
      "id": "a5136f4e",
      "metadata": {
        "id": "a5136f4e"
      },
      "source": [
        "1.Make a class called Thing with no contents and print it. Then, create an object called example\n",
        "from this class and also print it. Are the printed values the same or different?\n"
      ]
    },
    {
      "cell_type": "markdown",
      "id": "2e5b0232",
      "metadata": {
        "id": "2e5b0232"
      },
      "source": [
        "Ans: print(Thing) prints about class \n",
        "\n",
        "     print(example) prints about object\n",
        "     \n",
        "    both are not same"
      ]
    },
    {
      "cell_type": "code",
      "execution_count": null,
      "id": "3216db3b",
      "metadata": {
        "id": "3216db3b",
        "outputId": "9d2d8ba1-8ffd-4f65-d628-9cde519fd151"
      },
      "outputs": [
        {
          "name": "stdout",
          "output_type": "stream",
          "text": [
            "<class '__main__.Thing'>\n",
            "<__main__.Thing object at 0x00000126C44C1970>\n"
          ]
        }
      ],
      "source": [
        "class Thing:\n",
        "    pass\n",
        "print(Thing)\n",
        "example = Thing()\n",
        "print(example)"
      ]
    },
    {
      "cell_type": "markdown",
      "id": "9bb35b35",
      "metadata": {
        "id": "9bb35b35"
      },
      "source": [
        "2. Create a new class called Thing2 and add the value &#39;abc&#39; to the letters class attribute. Letters\n",
        "should be printed.\n"
      ]
    },
    {
      "cell_type": "code",
      "execution_count": null,
      "id": "b695940c",
      "metadata": {
        "id": "b695940c",
        "outputId": "f65d85fc-0408-4a99-f8ce-0771fe1a2f08"
      },
      "outputs": [
        {
          "data": {
            "text/plain": [
              "'abc'"
            ]
          },
          "execution_count": 13,
          "metadata": {},
          "output_type": "execute_result"
        }
      ],
      "source": [
        "class Thing2:\n",
        "    letters = 'abc'\n",
        "Thing2.letters"
      ]
    },
    {
      "cell_type": "markdown",
      "id": "dc3718c2",
      "metadata": {
        "id": "dc3718c2"
      },
      "source": [
        "3. Make yet another class called, of course, Thing3. This time, assign the value &#39;xyz&#39; to an instance\n",
        "(object) attribute called letters. Print letters. Do you need to make an object from the class to do\n",
        "this?\n"
      ]
    },
    {
      "cell_type": "code",
      "execution_count": null,
      "id": "7babedee",
      "metadata": {
        "id": "7babedee",
        "outputId": "3ff17623-ea98-4f4f-c540-82dc800cb753"
      },
      "outputs": [
        {
          "name": "stdout",
          "output_type": "stream",
          "text": [
            "xyz\n"
          ]
        }
      ],
      "source": [
        "class Thing3:\n",
        "    def __init__(self,letter):\n",
        "        self.l = letter\n",
        "    def letter(self):\n",
        "        print(self.l)\n",
        "Thing3('xyz').letter()"
      ]
    },
    {
      "cell_type": "markdown",
      "id": "79e9c788",
      "metadata": {
        "id": "79e9c788"
      },
      "source": [
        "4. Create an Element class with the instance attributes name, symbol, and number. Create a class\n",
        "object with the values &#39;Hydrogen,&#39; &#39;H,&#39; and 1.\n"
      ]
    },
    {
      "cell_type": "code",
      "execution_count": null,
      "id": "86adfb5a",
      "metadata": {
        "id": "86adfb5a",
        "outputId": "35f0b362-78d4-4210-c288-ca72ee211723"
      },
      "outputs": [
        {
          "data": {
            "text/plain": [
              "'Hydrogen'"
            ]
          },
          "execution_count": 27,
          "metadata": {},
          "output_type": "execute_result"
        }
      ],
      "source": [
        "class Element:\n",
        "    def __init__(self,name,symbol,number):\n",
        "        self.n= name\n",
        "        self.s = symbol\n",
        "        self.num = number\n",
        "    def printelements():\n",
        "        print(self.n,self.s,self.num)\n",
        "obj3 = Element('Hydrogen','H',1)\n",
        "obj3.n"
      ]
    },
    {
      "cell_type": "markdown",
      "id": "c8389db8",
      "metadata": {
        "id": "c8389db8"
      },
      "source": [
        "5. Make a dictionary with these keys and values: &#39;name&#39;: &#39;Hydrogen&#39;, &#39;symbol&#39;: &#39;H&#39;, &#39;number&#39;: 1. Then,\n",
        "create an object called hydrogen from class Element using this dictionary.\n"
      ]
    },
    {
      "cell_type": "code",
      "execution_count": null,
      "id": "9d3245ba",
      "metadata": {
        "id": "9d3245ba",
        "outputId": "81381e61-828b-486a-a37b-0fcb480ae67e"
      },
      "outputs": [
        {
          "data": {
            "text/plain": [
              "'Hydrogen'"
            ]
          },
          "execution_count": 28,
          "metadata": {},
          "output_type": "execute_result"
        }
      ],
      "source": [
        "dict = {'name': 'Hydrogen','symbol':'H','number': 1}\n",
        "Hydrogen = Element(**dict)\n",
        "Hydrogen.n"
      ]
    },
    {
      "cell_type": "markdown",
      "id": "ea1fb978",
      "metadata": {
        "id": "ea1fb978"
      },
      "source": [
        "6. For the Element class, define a method called dump() that prints the values of the object’s\n",
        "attributes (name, symbol, and number). Create the hydrogen object from this new definition and\n",
        "use dump() to print its attributes.\n"
      ]
    },
    {
      "cell_type": "code",
      "execution_count": null,
      "id": "d5957182",
      "metadata": {
        "id": "d5957182"
      },
      "outputs": [],
      "source": [
        "class Element:\n",
        "    def __init__(self,name,symbol,number):\n",
        "        self.n= name\n",
        "        self.s = symbol\n",
        "        self.num = number\n",
        "    def dump(self):\n",
        "        print(self.n,self.s,self.num)\n"
      ]
    },
    {
      "cell_type": "code",
      "execution_count": null,
      "id": "18bcd247",
      "metadata": {
        "id": "18bcd247",
        "outputId": "9a2da879-a00f-4d40-9320-71cd52a23c47"
      },
      "outputs": [
        {
          "data": {
            "text/plain": [
              "'H'"
            ]
          },
          "execution_count": 31,
          "metadata": {},
          "output_type": "execute_result"
        }
      ],
      "source": [
        "hydrogen = Element(\"Hydrogen\",'H',1)\n",
        "hydrogen.n\n",
        "hydrogen.s"
      ]
    },
    {
      "cell_type": "markdown",
      "id": "3388b779",
      "metadata": {
        "id": "3388b779"
      },
      "source": [
        "7. Call print(hydrogen). In the definition of Element, change the name of method dump to __str__,\n",
        "create a new hydrogen object, and call print(hydrogen) again.\n"
      ]
    },
    {
      "cell_type": "code",
      "execution_count": null,
      "id": "22c5b2e0",
      "metadata": {
        "id": "22c5b2e0",
        "outputId": "8822eb51-8534-4fc9-8178-779c4b1134ad"
      },
      "outputs": [
        {
          "name": "stdout",
          "output_type": "stream",
          "text": [
            "<__main__.Element object at 0x00000126C45AFDF0>\n"
          ]
        }
      ],
      "source": [
        "print(hydrogen)"
      ]
    },
    {
      "cell_type": "code",
      "execution_count": null,
      "id": "938a76aa",
      "metadata": {
        "id": "938a76aa"
      },
      "outputs": [],
      "source": [
        "class Element:\n",
        "    def __init__(self,name,symbol,number):\n",
        "        self.n= name\n",
        "        self.s = symbol\n",
        "        self.num = number\n",
        "    def __str__(self):\n",
        "        return('name = %s,symbol=%s,number=%s'%(self.n, self.s, self.num))\n",
        "        \n",
        "    "
      ]
    },
    {
      "cell_type": "code",
      "execution_count": null,
      "id": "c11653b5",
      "metadata": {
        "id": "c11653b5",
        "outputId": "f6af9d51-9c72-4222-d8d7-7ed9e04fa2e3"
      },
      "outputs": [
        {
          "name": "stdout",
          "output_type": "stream",
          "text": [
            "name = Hydrogen,symbol=H,number=1\n"
          ]
        }
      ],
      "source": [
        "hydrogen = Element('Hydrogen','H',1)\n",
        "print(hydrogen)"
      ]
    },
    {
      "cell_type": "markdown",
      "id": "2afd57a1",
      "metadata": {
        "id": "2afd57a1"
      },
      "source": [
        "8. Modify Element to make the attributes name, symbol, and number private. Define a getter\n",
        "property for each to return its value.\n"
      ]
    },
    {
      "cell_type": "code",
      "execution_count": null,
      "id": "1daf2929",
      "metadata": {
        "id": "1daf2929"
      },
      "outputs": [],
      "source": [
        "class Element:\n",
        "    def __init__(self,name,symbol,number):\n",
        "        self.__n= name\n",
        "        self.__s = symbol\n",
        "        self.__num = number\n",
        "    @property\n",
        "    def name(self):\n",
        "        return(self.__n)\n",
        "    @property\n",
        "    def symbol(self):\n",
        "        return(self.__s)\n",
        "    @property\n",
        "    def number(self):\n",
        "        return(self.__num)"
      ]
    },
    {
      "cell_type": "code",
      "execution_count": null,
      "id": "5bb5a4b4",
      "metadata": {
        "id": "5bb5a4b4",
        "outputId": "31203315-db0c-45f7-9eb2-78ce1d05c15e"
      },
      "outputs": [
        {
          "name": "stdout",
          "output_type": "stream",
          "text": [
            "Hydrogen\n",
            "H\n"
          ]
        }
      ],
      "source": [
        "hydrogen= Element('Hydrogen','H',1)\n",
        "print(hydrogen.name)\n",
        "print(hydrogen.symbol)"
      ]
    },
    {
      "cell_type": "markdown",
      "id": "d75248d6",
      "metadata": {
        "id": "d75248d6"
      },
      "source": [
        "9. Define three classes: Bear, Rabbit, and Octothorpe. For each, define only one method: eats(). This\n",
        "should return &#39;berries&#39; (Bear), &#39;clover&#39; (Rabbit), or &#39;campers&#39; (Octothorpe). Create one object from\n",
        "each and print what it eats.\n"
      ]
    },
    {
      "cell_type": "code",
      "execution_count": null,
      "id": "434c0ac2",
      "metadata": {
        "id": "434c0ac2"
      },
      "outputs": [],
      "source": [
        "class Bear:\n",
        "    def eats():\n",
        "        return('berries')\n",
        "    \n",
        "class Rabbit:\n",
        "    def eats():\n",
        "        return('clover')\n",
        "    \n",
        "class Octothorpe:\n",
        "    def eats():\n",
        "        return('campers')\n",
        "    "
      ]
    },
    {
      "cell_type": "code",
      "execution_count": null,
      "id": "7624ff34",
      "metadata": {
        "id": "7624ff34",
        "outputId": "f50fb8b3-2383-4abd-c860-1d988a74449c"
      },
      "outputs": [
        {
          "data": {
            "text/plain": [
              "'berries'"
            ]
          },
          "execution_count": 9,
          "metadata": {},
          "output_type": "execute_result"
        }
      ],
      "source": [
        "Bear.eats()"
      ]
    },
    {
      "cell_type": "code",
      "execution_count": null,
      "id": "41496b97",
      "metadata": {
        "id": "41496b97",
        "outputId": "f2e178a1-b7f8-493c-ab0f-be7d11234b50"
      },
      "outputs": [
        {
          "data": {
            "text/plain": [
              "'clover'"
            ]
          },
          "execution_count": 10,
          "metadata": {},
          "output_type": "execute_result"
        }
      ],
      "source": [
        "Rabbit.eats()"
      ]
    },
    {
      "cell_type": "code",
      "execution_count": null,
      "id": "6bc36eb2",
      "metadata": {
        "id": "6bc36eb2",
        "outputId": "bbe50369-38f9-40a3-fb21-8e39479bbf42"
      },
      "outputs": [
        {
          "data": {
            "text/plain": [
              "'campers'"
            ]
          },
          "execution_count": 12,
          "metadata": {},
          "output_type": "execute_result"
        }
      ],
      "source": [
        "Octothorpe.eats()"
      ]
    },
    {
      "cell_type": "markdown",
      "id": "269a65a3",
      "metadata": {
        "id": "269a65a3"
      },
      "source": [
        "10. Define these classes: Laser, Claw, and SmartPhone. Each has only one method: does(). This\n",
        "returns &#39;disintegrate&#39; (Laser), &#39;crush&#39; (Claw), or &#39;ring&#39; (SmartPhone). Then, define the class Robot that\n",
        "has one instance (object) of each of these. Define a does() method for the Robot that prints what its\n",
        "component objects do."
      ]
    },
    {
      "cell_type": "code",
      "execution_count": null,
      "id": "1a6a3bdf",
      "metadata": {
        "id": "1a6a3bdf"
      },
      "outputs": [],
      "source": [
        "class Laser:\n",
        "    def does():\n",
        "        return('disintegrate')\n",
        "class Claw:\n",
        "    def does():\n",
        "        return('crush')\n",
        "class SmartPhone:\n",
        "    def does():\n",
        "        return('ring')"
      ]
    },
    {
      "cell_type": "code",
      "execution_count": null,
      "id": "75177518",
      "metadata": {
        "id": "75177518"
      },
      "outputs": [],
      "source": [
        "class Robot:\n",
        "    def __init__(self):\n",
        "        self.laser= Laser()\n",
        "        self.claw =Claw()\n",
        "        self.smartphone = SmartPhone()\n",
        "    def does(self):\n",
        "        return('Laser = %s,claw =%s,smartphone=%s'%(self.laser.does(),self.claw.does(), self.smartphone.does())) \n",
        "        "
      ]
    },
    {
      "cell_type": "code",
      "execution_count": null,
      "id": "e369daeb",
      "metadata": {
        "id": "e369daeb"
      },
      "outputs": [],
      "source": [
        "robot = Robot()"
      ]
    },
    {
      "cell_type": "code",
      "execution_count": null,
      "id": "cb61c714",
      "metadata": {
        "id": "cb61c714",
        "outputId": "997040fd-bb15-4fcd-a3d2-4423c35b22b9"
      },
      "outputs": [
        {
          "data": {
            "text/plain": [
              "'Laser = disitegrate,claw =crush,smartphone=ring'"
            ]
          },
          "execution_count": 46,
          "metadata": {},
          "output_type": "execute_result"
        }
      ],
      "source": [
        "robot.does()"
      ]
    },
    {
      "cell_type": "code",
      "execution_count": null,
      "id": "79625cba",
      "metadata": {
        "id": "79625cba"
      },
      "outputs": [],
      "source": [
        ""
      ]
    },
    {
      "cell_type": "code",
      "execution_count": null,
      "id": "102bc14e",
      "metadata": {
        "id": "102bc14e"
      },
      "outputs": [],
      "source": [
        ""
      ]
    },
    {
      "cell_type": "code",
      "execution_count": null,
      "id": "508ea926",
      "metadata": {
        "id": "508ea926",
        "outputId": "ee3f058b-9fa7-41b6-d95e-1219f032cafd"
      },
      "outputs": [
        {
          "data": {
            "text/plain": [
              "'Laser is disitegrate, Claw is crush, SmartPhone is ring'"
            ]
          },
          "execution_count": 40,
          "metadata": {},
          "output_type": "execute_result"
        }
      ],
      "source": [
        ""
      ]
    },
    {
      "cell_type": "code",
      "execution_count": null,
      "id": "f7e85b24",
      "metadata": {
        "id": "f7e85b24"
      },
      "outputs": [],
      "source": [
        ""
      ]
    }
  ],
  "metadata": {
    "kernelspec": {
      "display_name": "Python 3 (ipykernel)",
      "language": "python",
      "name": "python3"
    },
    "language_info": {
      "codemirror_mode": {
        "name": "ipython",
        "version": 3
      },
      "file_extension": ".py",
      "mimetype": "text/x-python",
      "name": "python",
      "nbconvert_exporter": "python",
      "pygments_lexer": "ipython3",
      "version": "3.9.7"
    },
    "colab": {
      "name": "Assignment19.ipynb",
      "provenance": []
    }
  },
  "nbformat": 4,
  "nbformat_minor": 5
}