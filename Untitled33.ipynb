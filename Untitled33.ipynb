{
  "nbformat": 4,
  "nbformat_minor": 0,
  "metadata": {
    "colab": {
      "name": "Untitled33.ipynb",
      "provenance": [],
      "authorship_tag": "ABX9TyMwKcJK8RVMoc/gxKNjz5Vq",
      "include_colab_link": true
    },
    "kernelspec": {
      "name": "python3",
      "display_name": "Python 3"
    },
    "language_info": {
      "name": "python"
    }
  },
  "cells": [
    {
      "cell_type": "markdown",
      "metadata": {
        "id": "view-in-github",
        "colab_type": "text"
      },
      "source": [
        "<a href=\"https://colab.research.google.com/github/akhil0949/Ass-1---10/blob/main/Untitled33.ipynb\" target=\"_parent\"><img src=\"https://colab.research.google.com/assets/colab-badge.svg\" alt=\"Open In Colab\"/></a>"
      ]
    },
    {
      "cell_type": "code",
      "execution_count": null,
      "metadata": {
        "id": "2KDwgWmzQtjs"
      },
      "outputs": [],
      "source": [
        "Q1. What are the two latest user-defined exception constraints in Python 3.X?\n",
        "Ans.\n",
        "Python throws errors and exceptions when there is a code gone wrong, which may cause the program to stop abruptly. Python also provides an exception handling method with the help of try-except. \n",
        "Some of the standard exceptions which are most frequent include IndexError, ImportError, IOError, ZeroDivisionError, TypeError, and FileNotFoundError. A user can create his own error using the exception class."
      ]
    },
    {
      "cell_type": "code",
      "source": [
        "Q2. How are class-based exceptions that have been raised matched to handlers?\n",
        "Ans.\n",
        "Class-Based Exceptions\n",
        "These exceptions are defined by exception classes, from which an exception object can be created when an exception is raised (if a handler uses the addition INTO in CATCH). A class-based exception can either cancel the current context or allow for a resume. \n",
        "Exceptions are raised using the statement RAISE EXCEPTION and handled using CATCH in a TRY control structure. Class-based exceptions can be raised in any procedures and can be further propagated by any procedures."
      ],
      "metadata": {
        "id": "fsLyesbDREvQ"
      },
      "execution_count": null,
      "outputs": []
    },
    {
      "cell_type": "code",
      "source": [
        "Q3. Describe two methods for attaching context information to exception artefacts.\n",
        "Ans.\n",
        "In Python, all exceptions must be instances of a class that derives from BaseException. In a try statement with an except clause that mentions a particular class, that clause also handles any exception classes derived from that class (but not exception classes from which it is derived). \n",
        "Two exception classes that are not related via subclassing are never equivalent, even if they have the same name."
      ],
      "metadata": {
        "id": "_gYCAiQRRE17"
      },
      "execution_count": null,
      "outputs": []
    },
    {
      "cell_type": "code",
      "source": [
        "Q4. Describe two methods for specifying the text of an exception objects error message.\n",
        "Ans.\n",
        "When an error occurs within a method, the method creates an object and hands it off to the runtime system. \n",
        "The object, called an exception object, contains information about the error, including its type and the state of the program when the error occurred."
      ],
      "metadata": {
        "id": "6W10jT2xRE5s"
      },
      "execution_count": null,
      "outputs": []
    },
    {
      "cell_type": "code",
      "source": [
        "Q5. Why do you no longer use string-based exceptions?\n",
        "Ans.\n",
        "There are two kinds of breakage: sometimes, code will print slightly funny error messages when it catches a class exception but expects a string exception. \n",
        "And sometimes, but much less often, code will actually crash or otherwise do the wrong thing in its error handling."
      ],
      "metadata": {
        "id": "l7NPRsNtRE8F"
      },
      "execution_count": null,
      "outputs": []
    },
    {
      "cell_type": "code",
      "source": [
        ""
      ],
      "metadata": {
        "id": "qtZdT8AsRE_F"
      },
      "execution_count": null,
      "outputs": []
    }
  ]
}