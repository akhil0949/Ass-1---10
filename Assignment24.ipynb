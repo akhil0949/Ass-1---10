{
  "cells": [
    {
      "cell_type": "markdown",
      "id": "95828cb7",
      "metadata": {
        "id": "95828cb7"
      },
      "source": [
        "1. What is the relationship between def statements and lambda expressions ?\n"
      ]
    },
    {
      "cell_type": "markdown",
      "id": "f8a11729",
      "metadata": {
        "id": "f8a11729"
      },
      "source": [
        "Both def and lambda are different methods to define a function. lambda function is defined in a single expression."
      ]
    },
    {
      "cell_type": "markdown",
      "id": "733661bd",
      "metadata": {
        "id": "733661bd"
      },
      "source": [
        "2. What is the benefit of lambda?\n"
      ]
    },
    {
      "cell_type": "markdown",
      "id": "00519cc0",
      "metadata": {
        "id": "00519cc0"
      },
      "source": [
        "lambda function reduces the number of line of codes when compared to normal python function define using def function.\n",
        "lambda function has only one statement and automatically return the result to the statement"
      ]
    },
    {
      "cell_type": "markdown",
      "id": "2b3cc972",
      "metadata": {
        "id": "2b3cc972"
      },
      "source": [
        "3. Compare and contrast map, filter, and reduce.\n"
      ]
    },
    {
      "cell_type": "markdown",
      "id": "6097bb56",
      "metadata": {
        "id": "6097bb56"
      },
      "source": [
        "map(function , iterator)\n",
        "suppose i have to find even numbers from a list of numbers map() function can be use. \n",
        "map function to each element a collect the result\n",
        "    \n",
        "    "
      ]
    },
    {
      "cell_type": "code",
      "execution_count": null,
      "id": "af7d32bf",
      "metadata": {
        "id": "af7d32bf",
        "outputId": "668ee87f-5e76-4f5a-dc03-1a61e8cd0848"
      },
      "outputs": [
        {
          "data": {
            "text/plain": [
              "[None, 2, None, 4, None, 6, None, 8, None, 10]"
            ]
          },
          "execution_count": 1,
          "metadata": {},
          "output_type": "execute_result"
        }
      ],
      "source": [
        "l = [1,2,3,4,5,6,7,8,9,10]\n",
        "def even1(a):\n",
        "    if a%2==0:\n",
        "        return a\n",
        "list(map(even1,l))"
      ]
    },
    {
      "cell_type": "markdown",
      "id": "632a51c4",
      "metadata": {
        "id": "632a51c4"
      },
      "source": [
        "filter() function is applied to each element of iterator and collect those elements for which function returns True"
      ]
    },
    {
      "cell_type": "code",
      "execution_count": null,
      "id": "c5179c71",
      "metadata": {
        "id": "c5179c71",
        "outputId": "8eab4e44-3eba-4b77-874b-df0a6ed6dd86"
      },
      "outputs": [
        {
          "data": {
            "text/plain": [
              "[2, 4, 6, 8, 10]"
            ]
          },
          "execution_count": 2,
          "metadata": {},
          "output_type": "execute_result"
        }
      ],
      "source": [
        "list(filter(even1,l))"
      ]
    },
    {
      "cell_type": "markdown",
      "id": "687615e7",
      "metadata": {
        "id": "687615e7"
      },
      "source": [
        "reduce() function applies rolling computation to sequential pair of elements in the iterator"
      ]
    },
    {
      "cell_type": "code",
      "execution_count": null,
      "id": "8aa37f3f",
      "metadata": {
        "id": "8aa37f3f"
      },
      "outputs": [],
      "source": [
        "l = [1,2,3,4,5,6,7,8,9,10]\n",
        "from functools import reduce\n",
        "def test5(a,b):\n",
        "    return a+b"
      ]
    },
    {
      "cell_type": "code",
      "execution_count": null,
      "id": "e8894c07",
      "metadata": {
        "id": "e8894c07",
        "outputId": "bac0b4b1-167d-4a32-fb57-a594feb8afef"
      },
      "outputs": [
        {
          "data": {
            "text/plain": [
              "55"
            ]
          },
          "execution_count": 7,
          "metadata": {},
          "output_type": "execute_result"
        }
      ],
      "source": [
        "reduce(test5,l)"
      ]
    },
    {
      "cell_type": "markdown",
      "id": "73489bc1",
      "metadata": {
        "id": "73489bc1"
      },
      "source": [
        "4. What are function annotations, and how are they used?\n"
      ]
    },
    {
      "cell_type": "markdown",
      "id": "588e6f8f",
      "metadata": {
        "id": "588e6f8f"
      },
      "source": [
        "function annotation are arbitary python expressions that are associated with various parts of the function. The expression are evaluated at compile time and has no life in python reutime environment.\n",
        "\n",
        "1. annotations for simple parameters\n",
        "   \n",
        "    def addition(a,b):\n",
        "        \n",
        "2. Annotation for excess parameters\n",
        "\n",
        "    def voters_list(*args expression,*kargs expression):\n",
        "        \n",
        "3. Annotation for nested parameters\n",
        "\n",
        "   def sample((a:expression,b:expression),(c:expression,d:expression)):\n",
        "        \n",
        "4. Annoation for return type\n",
        "   def test(a,b)-> c"
      ]
    },
    {
      "cell_type": "markdown",
      "id": "880c7f28",
      "metadata": {
        "id": "880c7f28"
      },
      "source": [
        "5. What are recursive functions, and how are they used?\n"
      ]
    },
    {
      "cell_type": "markdown",
      "id": "b985d1ea",
      "metadata": {
        "id": "b985d1ea"
      },
      "source": [
        "function calling itself is called recursive function."
      ]
    },
    {
      "cell_type": "code",
      "execution_count": null,
      "id": "3d4ff74c",
      "metadata": {
        "id": "3d4ff74c"
      },
      "outputs": [],
      "source": [
        "def fact(n):\n",
        "    \n",
        "    if n<0:\n",
        "        return 'give positive number'\n",
        "    elif n==0:\n",
        "        return 1\n",
        "    elif n ==1:\n",
        "        return 1\n",
        "    else:\n",
        "        return n*fact(n-1)\n",
        "    "
      ]
    },
    {
      "cell_type": "code",
      "execution_count": null,
      "id": "dcfbc6cb",
      "metadata": {
        "id": "dcfbc6cb",
        "outputId": "96a59d7c-3a1e-4d0f-d3c5-e9cbf79514f6"
      },
      "outputs": [
        {
          "data": {
            "text/plain": [
              "120"
            ]
          },
          "execution_count": 9,
          "metadata": {},
          "output_type": "execute_result"
        }
      ],
      "source": [
        "fact(5)"
      ]
    },
    {
      "cell_type": "code",
      "execution_count": null,
      "id": "665d6d35",
      "metadata": {
        "id": "665d6d35",
        "outputId": "e68dc6d4-913b-45a7-c7aa-617afc27046b"
      },
      "outputs": [
        {
          "data": {
            "text/plain": [
              "1"
            ]
          },
          "execution_count": 10,
          "metadata": {},
          "output_type": "execute_result"
        }
      ],
      "source": [
        "fact(0)"
      ]
    },
    {
      "cell_type": "code",
      "execution_count": null,
      "id": "8fc03669",
      "metadata": {
        "id": "8fc03669",
        "outputId": "c4faa70d-a393-4270-81bb-1f65038fd2b0"
      },
      "outputs": [
        {
          "data": {
            "text/plain": [
              "'give positive number'"
            ]
          },
          "execution_count": 11,
          "metadata": {},
          "output_type": "execute_result"
        }
      ],
      "source": [
        "fact(-3)"
      ]
    },
    {
      "cell_type": "markdown",
      "id": "4d1886b8",
      "metadata": {
        "id": "4d1886b8"
      },
      "source": [
        "6. What are some general design guidelines for coding functions?\n"
      ]
    },
    {
      "cell_type": "markdown",
      "id": "4b0984e2",
      "metadata": {
        "id": "4b0984e2"
      },
      "source": [
        "1.function should be start with def followed by function name\n",
        "eg: def addition():\n",
        "\n",
        "\n",
        "2. doc strings should be given in the function.it is given by saying \"\"\" \"\"\"\n",
        "\n",
        "\n",
        "3. name the function consistently\n",
        "\n",
        "\n",
        "4. don't use non ASCII characters as identifiers"
      ]
    },
    {
      "cell_type": "markdown",
      "id": "722ec403",
      "metadata": {
        "id": "722ec403"
      },
      "source": [
        "7. Name three or more ways that functions can communicate results to a caller."
      ]
    },
    {
      "cell_type": "markdown",
      "id": "ab89db04",
      "metadata": {
        "id": "ab89db04"
      },
      "source": [
        "  1. function can return  single value\n",
        "  2. It return multiple values\n",
        "  3. It can return tuple,dictionary, list\n",
        "  4. It can return function objects\n",
        "  5. It can return class objects"
      ]
    }
  ],
  "metadata": {
    "kernelspec": {
      "display_name": "Python 3 (ipykernel)",
      "language": "python",
      "name": "python3"
    },
    "language_info": {
      "codemirror_mode": {
        "name": "ipython",
        "version": 3
      },
      "file_extension": ".py",
      "mimetype": "text/x-python",
      "name": "python",
      "nbconvert_exporter": "python",
      "pygments_lexer": "ipython3",
      "version": "3.9.7"
    },
    "colab": {
      "name": "Assignment24.ipynb",
      "provenance": []
    }
  },
  "nbformat": 4,
  "nbformat_minor": 5
}