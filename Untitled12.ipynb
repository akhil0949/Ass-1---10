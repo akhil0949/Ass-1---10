{
  "nbformat": 4,
  "nbformat_minor": 0,
  "metadata": {
    "colab": {
      "name": "Untitled12.ipynb",
      "provenance": [],
      "authorship_tag": "ABX9TyPKum27J+u3wZ8l13KEeZE/",
      "include_colab_link": true
    },
    "kernelspec": {
      "name": "python3",
      "display_name": "Python 3"
    },
    "language_info": {
      "name": "python"
    }
  },
  "cells": [
    {
      "cell_type": "markdown",
      "metadata": {
        "id": "view-in-github",
        "colab_type": "text"
      },
      "source": [
        "<a href=\"https://colab.research.google.com/github/akhil0949/Ass-1---10/blob/main/Untitled12.ipynb\" target=\"_parent\"><img src=\"https://colab.research.google.com/assets/colab-badge.svg\" alt=\"Open In Colab\"/></a>"
      ]
    },
    {
      "cell_type": "code",
      "execution_count": null,
      "metadata": {
        "id": "BbqBmyXA78M6"
      },
      "outputs": [],
      "source": [
        "Q1. What is the meaning of multiple inheritance?\n",
        "Ans. When a class is derived from more than one base class it is called multiple Inheritance. The derived class inherits all the features of the base case. "
      ]
    },
    {
      "cell_type": "code",
      "source": [
        "Q2. What is the concept of delegation?\n",
        "Ans. the delegation pattern is an object-oriented design pattern that allows object composition to achieve the same code reuse as inheritance."
      ],
      "metadata": {
        "id": "VCBKkTfa8Bsv"
      },
      "execution_count": null,
      "outputs": []
    },
    {
      "cell_type": "code",
      "source": [
        "Q3. What is the concept of composition?\n",
        "Ans. Composition is one of the fundamental concepts in object-oriented programming. It describes a class that references one or more objects of other classes in instance variables. \n",
        "This allows you to model a has-a association between objects."
      ],
      "metadata": {
        "id": "o6pF0oP18IGW"
      },
      "execution_count": null,
      "outputs": []
    },
    {
      "cell_type": "code",
      "source": [
        "Q4. What are bound methods and how do we use them?\n",
        "Ans. A bound method is the one which is dependent on the instance of the class as the first argument. It passes the instance as the first argument which is used to access the variables and functions. \n",
        "In Python 3 and newer versions of python, all functions in the class are by default bound methods."
      ],
      "metadata": {
        "id": "hVYaD2Bs8Bvr"
      },
      "execution_count": null,
      "outputs": []
    },
    {
      "cell_type": "code",
      "source": [
        "Q5. What is the purpose of pseudoprivate attributes?\n",
        "Ans. This is sometimes misleadingly called private attributes really, its just a way to localize a name to the class that created it, and does not prevent access by code outside the class. \n",
        "That is, this feature is mostly intended to avoid namespace collisions in instances, not to restrict access to names in general."
      ],
      "metadata": {
        "id": "HDFDM9fI8Bye"
      },
      "execution_count": null,
      "outputs": []
    }
  ]
}