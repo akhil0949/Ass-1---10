{
  "cells": [
    {
      "cell_type": "markdown",
      "id": "2aac1959",
      "metadata": {
        "id": "2aac1959"
      },
      "source": [
        "2. In the interactive interpreter, import the zoo module as menagerie and call its hours() function.\n"
      ]
    },
    {
      "cell_type": "code",
      "execution_count": null,
      "id": "d04adbb6",
      "metadata": {
        "id": "d04adbb6",
        "outputId": "a1a4a178-9c29-43b3-dfdb-37fbbf24ab30"
      },
      "outputs": [
        {
          "name": "stdout",
          "output_type": "stream",
          "text": [
            "open 9-5 daily\n"
          ]
        }
      ],
      "source": [
        "import zoo as menagerie\n",
        "menagerie.hours()"
      ]
    },
    {
      "cell_type": "markdown",
      "id": "1f6c9ba5",
      "metadata": {
        "id": "1f6c9ba5"
      },
      "source": [
        "3. Using the interpreter, explicitly import and call the hours() function from zoo.\n"
      ]
    },
    {
      "cell_type": "code",
      "execution_count": null,
      "id": "025d83f3",
      "metadata": {
        "id": "025d83f3",
        "outputId": "8e741897-cd17-4e0a-e172-8fcf880d6283"
      },
      "outputs": [
        {
          "name": "stdout",
          "output_type": "stream",
          "text": [
            "open 9-5 daily\n"
          ]
        }
      ],
      "source": [
        "from zoo import hours\n",
        "hours()"
      ]
    },
    {
      "cell_type": "markdown",
      "id": "88d492fe",
      "metadata": {
        "id": "88d492fe"
      },
      "source": [
        "4. Import the hours() function as info and call it.\n"
      ]
    },
    {
      "cell_type": "code",
      "execution_count": null,
      "id": "37780e58",
      "metadata": {
        "id": "37780e58",
        "outputId": "af1116aa-1df2-4574-fa05-b3f178f09194"
      },
      "outputs": [
        {
          "name": "stdout",
          "output_type": "stream",
          "text": [
            "open 9-5 daily\n"
          ]
        }
      ],
      "source": [
        "from zoo import hours as info\n",
        "info()"
      ]
    },
    {
      "cell_type": "markdown",
      "id": "9a953cc9",
      "metadata": {
        "id": "9a953cc9"
      },
      "source": [
        "5. Create a plain dictionary with the key-value pairs &#39;a&#39;: 1, &#39;b&#39;: 2, and &#39;c&#39;: 3, and print it out.\n"
      ]
    },
    {
      "cell_type": "code",
      "execution_count": null,
      "id": "302c8332",
      "metadata": {
        "id": "302c8332",
        "outputId": "3c0b67f3-15d5-4183-8bbd-6c7df32885b4"
      },
      "outputs": [
        {
          "data": {
            "text/plain": [
              "{'a': 1, 'b': 2, 'c': 3}"
            ]
          },
          "execution_count": 15,
          "metadata": {},
          "output_type": "execute_result"
        }
      ],
      "source": [
        "dict = { 'a': 1,'b':2,'c':3}\n",
        "dict"
      ]
    },
    {
      "cell_type": "markdown",
      "id": "c8ca1d35",
      "metadata": {
        "id": "c8ca1d35"
      },
      "source": [
        "6.Make an OrderedDict called fancy from the same pairs listed in 5 and print it. Did it print in the\n",
        "same order as plain?\n"
      ]
    },
    {
      "cell_type": "code",
      "execution_count": null,
      "id": "96f40b66",
      "metadata": {
        "id": "96f40b66",
        "outputId": "7b1467fc-38c8-4e72-e3e7-7742127faa59"
      },
      "outputs": [
        {
          "data": {
            "text/plain": [
              "OrderedDict([('a', 1), ('b', 2), ('c', 3)])"
            ]
          },
          "execution_count": 18,
          "metadata": {},
          "output_type": "execute_result"
        }
      ],
      "source": [
        "from collections import OrderedDict\n",
        "fancy = OrderedDict([('a',1),('b',2),('c',3)])\n",
        "fancy"
      ]
    },
    {
      "cell_type": "markdown",
      "id": "7feb02fa",
      "metadata": {
        "id": "7feb02fa"
      },
      "source": [
        "7. Make a default dictionary called dict_of_lists and pass it the argument list. Make the list\n",
        "dict_of_lists[&#39;a&#39;] and append the value &#39;something for a&#39; to it in one assignment. Print\n",
        "dict_of_lists[&#39;a&#39;]"
      ]
    },
    {
      "cell_type": "code",
      "execution_count": null,
      "id": "973ee4d9",
      "metadata": {
        "id": "973ee4d9",
        "outputId": "bfa08424-6120-4467-ab34-a2fcb7d649a2"
      },
      "outputs": [
        {
          "data": {
            "text/plain": [
              "['something for a']"
            ]
          },
          "execution_count": 22,
          "metadata": {},
          "output_type": "execute_result"
        }
      ],
      "source": [
        "from collections import defaultdict\n",
        "dict_of_lists = defaultdict(list)\n",
        "dict_of_lists['a'].append('something for a')\n",
        "dict_of_lists['a']"
      ]
    },
    {
      "cell_type": "code",
      "execution_count": null,
      "id": "c6ca71d5",
      "metadata": {
        "id": "c6ca71d5"
      },
      "outputs": [],
      "source": [
        ""
      ]
    }
  ],
  "metadata": {
    "kernelspec": {
      "display_name": "Python 3 (ipykernel)",
      "language": "python",
      "name": "python3"
    },
    "language_info": {
      "codemirror_mode": {
        "name": "ipython",
        "version": 3
      },
      "file_extension": ".py",
      "mimetype": "text/x-python",
      "name": "python",
      "nbconvert_exporter": "python",
      "pygments_lexer": "ipython3",
      "version": "3.9.7"
    },
    "colab": {
      "name": "Assignment18.ipynb",
      "provenance": []
    }
  },
  "nbformat": 4,
  "nbformat_minor": 5
}