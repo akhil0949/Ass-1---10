{
  "nbformat": 4,
  "nbformat_minor": 0,
  "metadata": {
    "colab": {
      "name": "Untitled10.ipynb",
      "provenance": [],
      "authorship_tag": "ABX9TyOO1yKLm/Bi1SLviDBkkICK",
      "include_colab_link": true
    },
    "kernelspec": {
      "name": "python3",
      "display_name": "Python 3"
    },
    "language_info": {
      "name": "python"
    }
  },
  "cells": [
    {
      "cell_type": "markdown",
      "metadata": {
        "id": "view-in-github",
        "colab_type": "text"
      },
      "source": [
        "<a href=\"https://colab.research.google.com/github/akhil0949/Ass-1---10/blob/main/Untitled10.ipynb\" target=\"_parent\"><img src=\"https://colab.research.google.com/assets/colab-badge.svg\" alt=\"Open In Colab\"/></a>"
      ]
    },
    {
      "cell_type": "code",
      "execution_count": null,
      "metadata": {
        "id": "P_kZiGjptSJA"
      },
      "outputs": [],
      "source": [
        "1. What is the concept of an abstract superclass?\n",
        "Ans. An abstract superclass is one way to provide re-usable code. You can extend the abstract class and inherit the code. This is sometimes more convenient than using static methods or object composition to share code. \n",
        "The abstract class can \"fix\" parts of the code (by making it final)."
      ]
    },
    {
      "cell_type": "code",
      "source": [
        "2. What happens when a class statement&#39;s top level contains a basic assignment statement?\n",
        "Ans. An assignment \"statement\" is not really a statement (although it is typically used that way), but is an expression.The value of the expression is the value that is assigned to the variable. For example, the expression"
      ],
      "metadata": {
        "id": "1WCEfuXZ5LFo"
      },
      "execution_count": null,
      "outputs": []
    },
    {
      "cell_type": "code",
      "source": [
        "3. Why does a class need to manually call a superclass's __init__ method?\n",
        "Ans. The main reason for always calling base class _init__ is that base class may typically create member variable and initialize them to defaults. \n",
        "So if you don't call base class init, none of that code would be executed and you would end up with base class that has no member variables."
      ],
      "metadata": {
        "id": "pXmba_Pk5LIM"
      },
      "execution_count": null,
      "outputs": []
    },
    {
      "cell_type": "code",
      "source": [
        "4. How can you augment, instead of completely replacing, an inherited method?\n",
        "Ans. A more sophisticated way to augment an inherited method involves forwarding. Message forwarding allows you to augment an inherited method in such a way that it can perform its inherited action and some new action."
      ],
      "metadata": {
        "id": "TMFLQ-Ju5o5P"
      },
      "execution_count": null,
      "outputs": []
    },
    {
      "cell_type": "code",
      "source": [
        "5. How is the local scope of a class different from that of a function?\n",
        "Ans. Usually, the local scope references the local names of the (textually) current function. Outside functions, the local scope references the same namespace as the global scope: the module’s namespace. \n",
        "Class definitions place yet another namespace in the local scope."
      ],
      "metadata": {
        "id": "up5KvJRz5LLL"
      },
      "execution_count": null,
      "outputs": []
    },
    {
      "cell_type": "code",
      "source": [
        ""
      ],
      "metadata": {
        "id": "Zvumx2Ku5LOB"
      },
      "execution_count": null,
      "outputs": []
    }
  ]
}